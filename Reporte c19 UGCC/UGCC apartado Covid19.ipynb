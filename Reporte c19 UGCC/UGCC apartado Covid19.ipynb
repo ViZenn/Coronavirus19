{
 "cells": [
  {
   "cell_type": "markdown",
   "metadata": {},
   "source": [
    "UGCC: apartado Covid-19\n",
    "=================\n"
   ]
  },
  {
   "cell_type": "code",
   "execution_count": 1,
   "metadata": {
    "scrolled": true
   },
   "outputs": [],
   "source": [
    "import pandas as pd\n",
    "import numpy as np\n",
    "import matplotlib.pyplot as plt\n",
    "import matplotlib.dates as mdates\n",
    "\n",
    "import scipy \n",
    "from scipy import stats\n",
    "import datetime as dt\n",
    "from datetime import timedelta  \n",
    "import urllib.request  # importar archivos web\n",
    "from lifelines import NelsonAalenFitter # modelamiento survival\n",
    "\n",
    "# para tratar de poner espanol\n",
    "from datetime import date, datetime, time\n",
    "from babel.dates import format_date, format_datetime, format_time, format_timedelta, Locale\n",
    "import locale                                    # para tratar de poner espanol\n",
    "locale.setlocale(locale.LC_ALL,'es_CL.UTF-8')  \n",
    "\n",
    "from IPython.core.interactiveshell import InteractiveShell\n",
    "InteractiveShell.ast_node_interactivity = \"all\"\n",
    "%matplotlib inline"
   ]
  },
  {
   "cell_type": "markdown",
   "metadata": {},
   "source": [
    "leo la base de datos"
   ]
  },
  {
   "cell_type": "code",
   "execution_count": 2,
   "metadata": {
    "scrolled": true
   },
   "outputs": [],
   "source": [
    "BD = pd.read_excel('./BDs/Covid19/Descargar registros COVID-19 20200805.xlsx'\n",
    "                   , dayfirst=True)"
   ]
  },
  {
   "cell_type": "code",
   "execution_count": 3,
   "metadata": {
    "scrolled": true
   },
   "outputs": [
    {
     "name": "stdout",
     "output_type": "stream",
     "text": [
      "<class 'pandas.core.frame.DataFrame'>\n",
      "RangeIndex: 4215 entries, 0 to 4214\n",
      "Data columns (total 69 columns):\n",
      " #   Column                      Non-Null Count  Dtype  \n",
      "---  ------                      --------------  -----  \n",
      " 0   ID CASO                     4215 non-null   int64  \n",
      " 1   ESTADO CASO                 4215 non-null   object \n",
      " 2   SSALUD COMUNA PACIENTE      4215 non-null   object \n",
      " 3   TIPO ESTABLECIMIENTO        4215 non-null   object \n",
      " 4   ESTABLECIMIENTO             4215 non-null   object \n",
      " 5   CESFAM                      46 non-null     object \n",
      " 6   TIPO DE ATENCION            4215 non-null   object \n",
      " 7   TIPO DE HOSPITALIZACION     2247 non-null   object \n",
      " 8   PACIENTE EXTRANJERO         4215 non-null   object \n",
      " 9   PAIS ORIGEN                 13 non-null     object \n",
      " 10  REGION PACIENTE             4215 non-null   object \n",
      " 11  COMUNA                      4215 non-null   object \n",
      " 12  PASAPORTE                   13 non-null     object \n",
      " 13  RUN                         4200 non-null   float64\n",
      " 14  DV                          4200 non-null   object \n",
      " 15  ES FONASA                   4124 non-null   object \n",
      " 16  PREVISION                   4202 non-null   object \n",
      " 17  SEXO                        4215 non-null   object \n",
      " 18  NOMBRES                     4215 non-null   object \n",
      " 19  APELLIDO PATERNO            4215 non-null   object \n",
      " 20  APELLIDO MATERNO            4181 non-null   object \n",
      " 21  FECHA NACIMIENTO            4215 non-null   object \n",
      " 22  EDAD                        4215 non-null   int64  \n",
      " 23  ANTECEDENTES MORBIDOS       900 non-null    object \n",
      " 24  HABITOS NOCIVOS             193 non-null    object \n",
      " 25  NOCIVOS OTRAS DROGAS        34 non-null     object \n",
      " 26  MEDICAMENTOS                289 non-null    object \n",
      " 27  TRAMO FONASA                2919 non-null   object \n",
      " 28  FECHA CONFIRMACION          4215 non-null   object \n",
      " 29  TIPO PACIENTE               2247 non-null   object \n",
      " 30  TIPO CAMA INGRESO           2247 non-null   object \n",
      " 31  TIPO CAMA DE EGRESO         1931 non-null   object \n",
      " 32  SINDROME CLINICO ASOCIADO   4213 non-null   object \n",
      " 33  FECHA DE INGRESO            4215 non-null   object \n",
      " 34  CANTIDAD TRANSICIONES       4215 non-null   int64  \n",
      " 35  FECHA DE EGRESO             3899 non-null   object \n",
      " 36  DIAS DE ESTADA              2247 non-null   float64\n",
      " 37  ECMO (SI/NO)                4215 non-null   object \n",
      " 38  FECHA REGISTRO ECMO         2 non-null      object \n",
      " 39  TIPO DE EGRESO              3899 non-null   object \n",
      " 40  ULTIMA CAMA                 2247 non-null   object \n",
      " 41  ECMO CONEXION               1996 non-null   object \n",
      " 42  ECMO FECHA CONEXION         1 non-null      object \n",
      " 43  ECMO FECHA DESCONEXION      0 non-null      float64\n",
      " 44  VM CONEXION                 2038 non-null   object \n",
      " 45  VM FECHA CONEXION           290 non-null    object \n",
      " 46  EVM FECHA DESCONEXION       237 non-null    object \n",
      " 47  FECHA ULTIMA EVOLUCION      1690 non-null   object \n",
      " 48  FECHA ULTIMO ANEXO          828 non-null    object \n",
      " 49  CODIGO DEIS                 4214 non-null   object \n",
      " 50  VMNI CONEXION               1995 non-null   object \n",
      " 51  VMNI FECHA CONEXION         115 non-null    object \n",
      " 52  VMNI FECHA DESCONEXION      104 non-null    object \n",
      " 53  ECMO FECHA 2DA CONEXION     0 non-null      float64\n",
      " 54  ECMO FECHA 2DA DESCONEXION  0 non-null      float64\n",
      " 55  ECMO FECHA 3RA CONEXION     0 non-null      float64\n",
      " 56  ECMO FECHA 3RA DESCONEXION  0 non-null      float64\n",
      " 57  VM FECHA 2DA CONEXION       10 non-null     object \n",
      " 58  VM FECHA 2DA DESCONEXION    7 non-null      object \n",
      " 59  VM FECHA 3RA CONEXION       1 non-null      object \n",
      " 60  VM FECHA 3RA DESCONEXION    0 non-null      float64\n",
      " 61  VMNI FECHA 2DA CONEXION     6 non-null      object \n",
      " 62  VMNI FECHA 2DA DESCONEXION  4 non-null      object \n",
      " 63  VMNI FECHA 3RA CONEXION     0 non-null      float64\n",
      " 64  VMNI FECHA 3RA DESCONEXION  0 non-null      float64\n",
      " 65  SERVICIOSALUD PRESTADOR     4155 non-null   object \n",
      " 66  REGION PRESTADOR            4155 non-null   object \n",
      " 67  TIPO IDENTIFICACION         4215 non-null   object \n",
      " 68  IDENTIFICACION              4215 non-null   object \n",
      "dtypes: float64(10), int64(3), object(56)\n",
      "memory usage: 2.2+ MB\n"
     ]
    }
   ],
   "source": [
    "BD.info()"
   ]
  },
  {
   "cell_type": "code",
   "execution_count": 4,
   "metadata": {},
   "outputs": [],
   "source": [
    "BD = BD.loc[BD['ID CASO'] != 141472]\n"
   ]
  },
  {
   "cell_type": "markdown",
   "metadata": {},
   "source": [
    "# Algunos preparativos generales"
   ]
  },
  {
   "cell_type": "code",
   "execution_count": 5,
   "metadata": {},
   "outputs": [
    {
     "data": {
      "text/plain": [
       "Index(['ID CASO', 'ESTADO CASO', 'SSALUD COMUNA PACIENTE',\n",
       "       'TIPO ESTABLECIMIENTO', 'ESTABLECIMIENTO', 'CESFAM', 'TIPO DE ATENCION',\n",
       "       'TIPO DE HOSPITALIZACION', 'PACIENTE EXTRANJERO', 'PAIS ORIGEN',\n",
       "       'REGION PACIENTE', 'COMUNA', 'PASAPORTE', 'RUN', 'DV', 'ES FONASA',\n",
       "       'PREVISION ', 'SEXO', 'NOMBRES', 'APELLIDO PATERNO', 'APELLIDO MATERNO',\n",
       "       'FECHA NACIMIENTO', 'EDAD', 'ANTECEDENTES MORBIDOS', 'HABITOS NOCIVOS',\n",
       "       'NOCIVOS OTRAS DROGAS', 'MEDICAMENTOS', 'TRAMO FONASA',\n",
       "       'FECHA CONFIRMACION', 'TIPO PACIENTE', 'TIPO CAMA INGRESO',\n",
       "       'TIPO CAMA DE EGRESO', 'SINDROME CLINICO ASOCIADO', 'FECHA DE INGRESO',\n",
       "       'CANTIDAD TRANSICIONES', 'FECHA DE EGRESO', 'DIAS DE ESTADA',\n",
       "       'ECMO (SI/NO)', 'FECHA REGISTRO ECMO', 'TIPO DE EGRESO', 'ULTIMA CAMA',\n",
       "       'ECMO CONEXION', 'ECMO FECHA CONEXION', 'ECMO FECHA DESCONEXION',\n",
       "       'VM CONEXION', 'VM FECHA CONEXION', 'EVM FECHA DESCONEXION',\n",
       "       'FECHA ULTIMA EVOLUCION', 'FECHA ULTIMO ANEXO', 'CODIGO DEIS',\n",
       "       'VMNI CONEXION', 'VMNI FECHA CONEXION', 'VMNI FECHA DESCONEXION',\n",
       "       'ECMO FECHA 2DA CONEXION', 'ECMO FECHA 2DA DESCONEXION',\n",
       "       'ECMO FECHA 3RA CONEXION', 'ECMO FECHA 3RA DESCONEXION',\n",
       "       'VM FECHA 2DA CONEXION', 'VM FECHA 2DA DESCONEXION',\n",
       "       'VM FECHA 3RA CONEXION', 'VM FECHA 3RA DESCONEXION',\n",
       "       'VMNI FECHA 2DA CONEXION', 'VMNI FECHA 2DA DESCONEXION',\n",
       "       'VMNI FECHA 3RA CONEXION', 'VMNI FECHA 3RA DESCONEXION',\n",
       "       'SERVICIOSALUD PRESTADOR', 'REGION PRESTADOR', 'TIPO IDENTIFICACION',\n",
       "       'IDENTIFICACION'],\n",
       "      dtype='object')"
      ]
     },
     "execution_count": 5,
     "metadata": {},
     "output_type": "execute_result"
    }
   ],
   "source": [
    "BD.columns"
   ]
  },
  {
   "cell_type": "code",
   "execution_count": 6,
   "metadata": {},
   "outputs": [],
   "source": [
    "BD['PREVISION'] = BD['PREVISION '] "
   ]
  },
  {
   "cell_type": "markdown",
   "metadata": {},
   "source": [
    "Rename los nombres de las regiones de chile"
   ]
  },
  {
   "cell_type": "code",
   "execution_count": 7,
   "metadata": {},
   "outputs": [],
   "source": [
    "mapa_regiones = dict(\n",
    "  {'XV Región de Arica y Parinacota'\t\t\t\t\t\t: 'Arica y Parinacota',\n",
    "    'I Región de Tarapacá'\t\t\t\t\t\t\t\t\t: 'Tarapacá',\n",
    "    'II Región de Antofagasta'\t\t\t\t\t\t\t\t: 'Antofagasta',\n",
    "    'III Región de Atacama'\t\t\t\t\t\t\t\t\t: 'Atacama',\n",
    "    'IV Región de Coquimbo'\t\t\t\t\t\t\t\t\t: 'Coquimbo',\n",
    "    'V Región de Valparaíso'\t\t\t\t\t\t\t\t: 'Valparaíso',\n",
    "    'Región Metropolitana de Santiago'\t\t\t\t\t\t: 'Metropolitana',\n",
    "    \"VI Región del Libertador General Bernardo O'Higgins\"\t: \"O'Higgins\",\n",
    "    'VII Región del Maule'\t\t\t\t\t\t\t\t\t: 'Maule',\n",
    "    'Región de Ñuble'\t\t\t\t\t\t\t\t\t\t: 'Ñuble',\n",
    "    'VIII Región del Biobío'\t\t\t\t\t\t\t\t: 'Bio Bio',\n",
    "    'IX Región de la Araucanía'\t\t\t\t\t\t\t\t: 'Araucania',\n",
    "    'Región de Los Ríos'\t\t\t\t\t\t\t\t\t: 'Los Ríos',\n",
    "    'X Región de Los Lagos'\t\t\t\t\t\t\t\t\t: 'Los Lagos',\n",
    "    'Región de Aysén del Gral.Ibañez del Campo'\t\t\t\t: 'Aysén',\n",
    "    'XII Región de Magallanes y de la Antártica Chilena'\t: 'Magallanes y Antártida'\n",
    "    })\n",
    "\n",
    "region = [s for s in BD.columns if \"REGION\" in s]\n",
    "\n",
    "nuevas_reg = [\n",
    "\t'Arica y Parinacota', 'Tarapacá', 'Antofagasta',\n",
    "\t'Atacama','Coquimbo','Valparaíso', 'Metropolitana',\n",
    "\t\"O'Higgins\", 'Maule', 'Ñuble', 'Bio Bio',\n",
    "\t'Araucania', 'Los Ríos', 'Los Lagos', 'Aysén',\n",
    "\t'Magallanes y Antártida']\n",
    "\n",
    "for region_pais in region:\n",
    "    BD[region_pais] = BD[region_pais].replace(mapa_regiones)\n",
    "    BD[region_pais] = pd.Categorical(BD[region_pais],\n",
    "                                     categories=nuevas_reg,\n",
    "                                     ordered=True)"
   ]
  },
  {
   "cell_type": "code",
   "execution_count": 8,
   "metadata": {},
   "outputs": [],
   "source": [
    "mapa_categorias = dict(\n",
    "  {'PRIVADO'\t: 'Privado',\n",
    "   'PÚBLICO'\t: 'Público'\n",
    "    })\n",
    "\n",
    "BD['TIPO ESTABLECIMIENTO'] = BD['TIPO ESTABLECIMIENTO'].replace(mapa_categorias)\n"
   ]
  },
  {
   "cell_type": "code",
   "execution_count": 9,
   "metadata": {
    "scrolled": true
   },
   "outputs": [
    {
     "data": {
      "text/plain": [
       "['FECHA NACIMIENTO',\n",
       " 'FECHA CONFIRMACION',\n",
       " 'FECHA DE INGRESO',\n",
       " 'FECHA DE EGRESO',\n",
       " 'FECHA REGISTRO ECMO',\n",
       " 'ECMO FECHA CONEXION',\n",
       " 'ECMO FECHA DESCONEXION',\n",
       " 'VM FECHA CONEXION',\n",
       " 'EVM FECHA DESCONEXION',\n",
       " 'FECHA ULTIMA EVOLUCION',\n",
       " 'FECHA ULTIMO ANEXO',\n",
       " 'VMNI FECHA CONEXION',\n",
       " 'VMNI FECHA DESCONEXION',\n",
       " 'ECMO FECHA 2DA CONEXION',\n",
       " 'ECMO FECHA 2DA DESCONEXION',\n",
       " 'ECMO FECHA 3RA CONEXION',\n",
       " 'ECMO FECHA 3RA DESCONEXION',\n",
       " 'VM FECHA 2DA CONEXION',\n",
       " 'VM FECHA 2DA DESCONEXION',\n",
       " 'VM FECHA 3RA CONEXION',\n",
       " 'VM FECHA 3RA DESCONEXION',\n",
       " 'VMNI FECHA 2DA CONEXION',\n",
       " 'VMNI FECHA 2DA DESCONEXION',\n",
       " 'VMNI FECHA 3RA CONEXION',\n",
       " 'VMNI FECHA 3RA DESCONEXION']"
      ]
     },
     "execution_count": 9,
     "metadata": {},
     "output_type": "execute_result"
    }
   ],
   "source": [
    "# lo que es fecha lo dejo como tal para después poder analizar\n",
    "fechas = [s for s in BD.columns if \"FECHA\" in s]\n",
    "fechas\n",
    "\n",
    "for date in fechas:\n",
    "    BD[date] = pd.to_datetime(BD[date],\n",
    "                              dayfirst=True)"
   ]
  },
  {
   "cell_type": "code",
   "execution_count": 10,
   "metadata": {},
   "outputs": [
    {
     "data": {
      "text/plain": [
       "array([ 8, 10, 11, 12, 13, 14, 15, 16, 17, 18, 19, 20, 21, 22, 23, 24, 25,\n",
       "       26, 27, 28, 29, 30, 31, 32])"
      ]
     },
     "execution_count": 10,
     "metadata": {},
     "output_type": "execute_result"
    },
    {
     "data": {
      "text/plain": [
       "['17-feb-20',\n",
       " '02-mar-20',\n",
       " '09-mar-20',\n",
       " '16-mar-20',\n",
       " '23-mar-20',\n",
       " '30-mar-20',\n",
       " '06-abr-20',\n",
       " '13-abr-20',\n",
       " '20-abr-20',\n",
       " '27-abr-20',\n",
       " '04-may-20',\n",
       " '11-may-20',\n",
       " '18-may-20',\n",
       " '25-may-20',\n",
       " '01-jun-20',\n",
       " '08-jun-20',\n",
       " '15-jun-20',\n",
       " '22-jun-20',\n",
       " '29-jun-20',\n",
       " '06-jul-20',\n",
       " '13-jul-20',\n",
       " '20-jul-20',\n",
       " '27-jul-20',\n",
       " '03-ago-20']"
      ]
     },
     "execution_count": 10,
     "metadata": {},
     "output_type": "execute_result"
    }
   ],
   "source": [
    "# Defino el número de la semana y su label.\n",
    "# sems y fecha_semanal\n",
    "#\n",
    "\n",
    "sems = BD['FECHA DE INGRESO'].dropna().dt.week.unique()\n",
    "sems.sort()\n",
    "sems\n",
    "\n",
    "def fechaSegunSemana(p_week, p_year = None):\n",
    "    p_year = 2020\n",
    "    firstdayofweek = dt.datetime.strptime(f'{p_year}-W{int(p_week )- 1}-1', \"%Y-W%W-%w\").date()\n",
    "    lastdayofweek = firstdayofweek + dt.timedelta(days=6.9)\n",
    "    return dt.datetime.strftime(firstdayofweek, '%d-%b-%y')\n",
    "\n",
    "fecha_semanal = list()\n",
    "for x in sems:\n",
    "    fecha_semanal.append(fechaSegunSemana(x))\n",
    "# lista con las fechas\n",
    "fecha_semanal"
   ]
  },
  {
   "cell_type": "code",
   "execution_count": 11,
   "metadata": {},
   "outputs": [
    {
     "data": {
      "text/plain": [
       "Index(['ID CASO', 'ESTADO CASO', 'SSALUD COMUNA PACIENTE',\n",
       "       'TIPO ESTABLECIMIENTO', 'ESTABLECIMIENTO', 'CESFAM', 'TIPO DE ATENCION',\n",
       "       'TIPO DE HOSPITALIZACION', 'PACIENTE EXTRANJERO', 'PAIS ORIGEN',\n",
       "       'REGION PACIENTE', 'COMUNA', 'PASAPORTE', 'RUN', 'DV', 'ES FONASA',\n",
       "       'PREVISION ', 'SEXO', 'NOMBRES', 'APELLIDO PATERNO', 'APELLIDO MATERNO',\n",
       "       'FECHA NACIMIENTO', 'EDAD', 'ANTECEDENTES MORBIDOS', 'HABITOS NOCIVOS',\n",
       "       'NOCIVOS OTRAS DROGAS', 'MEDICAMENTOS', 'TRAMO FONASA',\n",
       "       'FECHA CONFIRMACION', 'TIPO PACIENTE', 'TIPO CAMA INGRESO',\n",
       "       'TIPO CAMA DE EGRESO', 'SINDROME CLINICO ASOCIADO', 'FECHA DE INGRESO',\n",
       "       'CANTIDAD TRANSICIONES', 'FECHA DE EGRESO', 'DIAS DE ESTADA',\n",
       "       'ECMO (SI/NO)', 'FECHA REGISTRO ECMO', 'TIPO DE EGRESO', 'ULTIMA CAMA',\n",
       "       'ECMO CONEXION', 'ECMO FECHA CONEXION', 'ECMO FECHA DESCONEXION',\n",
       "       'VM CONEXION', 'VM FECHA CONEXION', 'EVM FECHA DESCONEXION',\n",
       "       'FECHA ULTIMA EVOLUCION', 'FECHA ULTIMO ANEXO', 'CODIGO DEIS',\n",
       "       'VMNI CONEXION', 'VMNI FECHA CONEXION', 'VMNI FECHA DESCONEXION',\n",
       "       'ECMO FECHA 2DA CONEXION', 'ECMO FECHA 2DA DESCONEXION',\n",
       "       'ECMO FECHA 3RA CONEXION', 'ECMO FECHA 3RA DESCONEXION',\n",
       "       'VM FECHA 2DA CONEXION', 'VM FECHA 2DA DESCONEXION',\n",
       "       'VM FECHA 3RA CONEXION', 'VM FECHA 3RA DESCONEXION',\n",
       "       'VMNI FECHA 2DA CONEXION', 'VMNI FECHA 2DA DESCONEXION',\n",
       "       'VMNI FECHA 3RA CONEXION', 'VMNI FECHA 3RA DESCONEXION',\n",
       "       'SERVICIOSALUD PRESTADOR', 'REGION PRESTADOR', 'TIPO IDENTIFICACION',\n",
       "       'IDENTIFICACION', 'PREVISION'],\n",
       "      dtype='object')"
      ]
     },
     "execution_count": 11,
     "metadata": {},
     "output_type": "execute_result"
    }
   ],
   "source": [
    "BD.columns"
   ]
  },
  {
   "cell_type": "code",
   "execution_count": 13,
   "metadata": {},
   "outputs": [
    {
     "data": {
      "text/plain": [
       "'./Informe v1/textos/01Descripcion_dataset.txt'"
      ]
     },
     "execution_count": 13,
     "metadata": {},
     "output_type": "execute_result"
    },
    {
     "name": "stdout",
     "output_type": "stream",
     "text": [
      "El set de datos tiene 4214 entradas. El ingreso de datos se comienza el 2020-02-19     y tiene su último registro el 2020-08-05.     A la fecha de este reporte se encuentran 315 casos activos y 3899     casos historicos. \n",
      " De todos los casos en el set de datos, hay 2903, (69.103 \\%) casos que son FONASA,  1000, (23.804 \\%) casos que son ISAPRE. \n"
     ]
    }
   ],
   "source": [
    "# exec(open('./Informe v1/script/01 descriptor base datos.py').read())\n",
    "ruta   = './Informe v1/textos/'\n",
    "nombre = '01Descripcion_dataset' + '.txt'\n",
    "ruta+nombre\n",
    "texto  = open(str(ruta+nombre),'w')\n",
    "\n",
    "\n",
    "A_ESCRIBIR = 'El set de datos tiene {dataset_entradas} entradas. El ingreso de datos se comienza el {dataset_inicio} \\\n",
    "    y tiene su último registro el {dataset_fin}. \\\n",
    "    A la fecha de este reporte se encuentran {estadocaso_activo} casos activos y {estadocaso_hist} \\\n",
    "    casos historicos. \\n'.format(\n",
    "        dataset_entradas = BD['ID CASO'].count(),\n",
    "        dataset_inicio   = BD['FECHA DE INGRESO'].describe()['first'].strftime('%Y-%m-%d'),\n",
    "        dataset_fin   = BD['FECHA DE INGRESO'].describe()['last'].strftime('%Y-%m-%d'),\n",
    "        estadocaso_activo = len(BD.groupby(['ESTADO CASO']).groups['Caso activo']),\n",
    "        estadocaso_hist = len(BD.groupby(['ESTADO CASO']).groups['Caso histórico']),\n",
    ")\n",
    "A_ESCRIBIR = A_ESCRIBIR + ' \\\n",
    "De todos los casos en el set de datos, hay {casos_fonasa}, ({casos_fonasaP} \\%) casos que son FONASA,  \\\n",
    "{casos_isapre}, ({casos_isapreP} \\%) casos que son ISAPRE. \\\n",
    "'.format(\n",
    "    casos_fonasa   = BD['PREVISION'].value_counts()['FONASA'],\n",
    "    casos_fonasaP  = round(\n",
    "        BD['PREVISION'].value_counts()['FONASA'] /BD['PREVISION'].value_counts().sum()*100, \n",
    "        3),\n",
    "    casos_isapre   = BD['PREVISION'].value_counts()['ISAPRE'],\n",
    "    casos_isapreP  = round(\n",
    "        BD['PREVISION'].value_counts()['ISAPRE'] /BD['PREVISION'].value_counts().sum()*100, \n",
    "        3)\n",
    ")\n",
    "print(A_ESCRIBIR,file = texto)\n",
    "texto.close()\n",
    "print(A_ESCRIBIR)"
   ]
  },
  {
   "cell_type": "code",
   "execution_count": 14,
   "metadata": {},
   "outputs": [
    {
     "name": "stdout",
     "output_type": "stream",
     "text": [
      "Guardado:./Informe v1/figuras/casosnuevosUGCC.png\n"
     ]
    },
    {
     "data": {
      "image/png": "[encoded data removed]",
      "text/plain": [
       "<Figure size 432x288 with 1 Axes>"
      ]
     },
     "metadata": {
      "needs_background": "light"
     },
     "output_type": "display_data"
    }
   ],
   "source": [
    "exec(open('./Informe v1/script/02 grafo incidencia casos plataforma.py').read())"
   ]
  },
  {
   "cell_type": "markdown",
   "metadata": {},
   "source": [
    "Creo un identificador único, ya que el RUT no me sirve (pq hay gente con pasaporte sin RUT, y solo el nombre no me sirve)"
   ]
  },
  {
   "cell_type": "code",
   "execution_count": 15,
   "metadata": {},
   "outputs": [],
   "source": [
    "BD[\"ID_personal\"] = BD[\"FECHA NACIMIENTO\"].astype(str) + BD[\"NOMBRES\"]\n"
   ]
  },
  {
   "cell_type": "code",
   "execution_count": 16,
   "metadata": {},
   "outputs": [
    {
     "name": "stdout",
     "output_type": "stream",
     "text": [
      "En la base de datos hay 4214 casos, pero hay personas que tienen más de un registro dado que más de un profesional notificó el caso. Existen 3767 personas en los registros y   447 casos que son un segundo, tercer o cuarto registro de un mismo paciente. \n",
      "En los registros hay 315 casos activos, de ellos hay 315 personas y 0 casos duplicados de estas personas.\n"
     ]
    }
   ],
   "source": [
    "exec(open('./Informe v1/script/03 txt casos duplicados.py').read())"
   ]
  },
  {
   "cell_type": "code",
   "execution_count": 17,
   "metadata": {},
   "outputs": [
    {
     "name": "stdout",
     "output_type": "stream",
     "text": [
      "ESTADO CASO            Caso activo         Caso histórico        \n",
      "TIPO ESTABLECIMIENTO       Privado Público        Privado Público\n",
      "REGION PRESTADOR                                                 \n",
      "Tarapacá                         0       0              0       4\n",
      "Antofagasta                      0       0              7      12\n",
      "Atacama                          0       0              1       1\n",
      "Coquimbo                         0       2              0       3\n",
      "Valparaíso                      76     217           1830    1761\n",
      "Metropolitana                   11       4            130      51\n",
      "O'Higgins                        0       1              0       4\n",
      "Maule                            0       1              0       2\n",
      "Bio Bio                          0       2             15       9\n",
      "Los Lagos                        1       0              0       2\n",
      "Magallanes y Antártida           0       0              0       6\n"
     ]
    },
    {
     "data": {
      "text/plain": [
       "REGION PACIENTE         TIPO ESTABLECIMIENTO  ESTADO CASO   \n",
       "Arica y Parinacota      Privado               Caso activo       0\n",
       "                                              Caso histórico    0\n",
       "                        Público               Caso activo       0\n",
       "                                              Caso histórico    4\n",
       "Tarapacá                Privado               Caso activo       0\n",
       "                                                               ..\n",
       "Aysén                   Público               Caso histórico    0\n",
       "Magallanes y Antártida  Privado               Caso activo       0\n",
       "                                              Caso histórico    1\n",
       "                        Público               Caso activo       0\n",
       "                                              Caso histórico    1\n",
       "Name: ID_personal, Length: 64, dtype: int64"
      ]
     },
     "execution_count": 17,
     "metadata": {},
     "output_type": "execute_result"
    }
   ],
   "source": [
    "exec(open('./Informe v1/script/04 tab casos publicos y privados por region.py').read())\n",
    "\n",
    "BD.groupby(['REGION PACIENTE', 'TIPO ESTABLECIMIENTO', 'ESTADO CASO']).ID_personal.count()\n"
   ]
  },
  {
   "cell_type": "code",
   "execution_count": 18,
   "metadata": {},
   "outputs": [
    {
     "data": {
      "text/plain": [
       "ESTADO CASO\n",
       "Caso activo        281\n",
       "Caso histórico    3294\n",
       "Name: ID_personal, dtype: int64"
      ]
     },
     "execution_count": 18,
     "metadata": {},
     "output_type": "execute_result"
    },
    {
     "data": {
      "text/plain": [
       "ESTADO CASO\n",
       "Caso activo        34\n",
       "Caso histórico    605\n",
       "Name: ID_personal, dtype: int64"
      ]
     },
     "execution_count": 18,
     "metadata": {},
     "output_type": "execute_result"
    },
    {
     "data": {
      "text/html": [
       "<div>\n",
       "<style scoped>\n",
       "    .dataframe tbody tr th:only-of-type {\n",
       "        vertical-align: middle;\n",
       "    }\n",
       "\n",
       "    .dataframe tbody tr th {\n",
       "        vertical-align: top;\n",
       "    }\n",
       "\n",
       "    .dataframe thead th {\n",
       "        text-align: right;\n",
       "    }\n",
       "</style>\n",
       "<table border=\"1\" class=\"dataframe\">\n",
       "  <thead>\n",
       "    <tr style=\"text-align: right;\">\n",
       "      <th></th>\n",
       "      <th>ID CASO</th>\n",
       "      <th>ESTADO CASO</th>\n",
       "      <th>SSALUD COMUNA PACIENTE</th>\n",
       "      <th>TIPO ESTABLECIMIENTO</th>\n",
       "      <th>ESTABLECIMIENTO</th>\n",
       "      <th>CESFAM</th>\n",
       "      <th>TIPO DE ATENCION</th>\n",
       "      <th>TIPO DE HOSPITALIZACION</th>\n",
       "      <th>PACIENTE EXTRANJERO</th>\n",
       "      <th>PAIS ORIGEN</th>\n",
       "      <th>...</th>\n",
       "      <th>VMNI FECHA 2DA CONEXION</th>\n",
       "      <th>VMNI FECHA 2DA DESCONEXION</th>\n",
       "      <th>VMNI FECHA 3RA CONEXION</th>\n",
       "      <th>VMNI FECHA 3RA DESCONEXION</th>\n",
       "      <th>SERVICIOSALUD PRESTADOR</th>\n",
       "      <th>REGION PRESTADOR</th>\n",
       "      <th>TIPO IDENTIFICACION</th>\n",
       "      <th>IDENTIFICACION</th>\n",
       "      <th>PREVISION</th>\n",
       "      <th>ID_personal</th>\n",
       "    </tr>\n",
       "  </thead>\n",
       "  <tbody>\n",
       "    <tr>\n",
       "      <th>0</th>\n",
       "      <td>498</td>\n",
       "      <td>Caso histórico</td>\n",
       "      <td>SSVMQ</td>\n",
       "      <td>Privado</td>\n",
       "      <td>Hospital Naval (Viña del Mar)</td>\n",
       "      <td>NaN</td>\n",
       "      <td>HOSPITALARIA</td>\n",
       "      <td>ESTABLECIMIENTO</td>\n",
       "      <td>No</td>\n",
       "      <td>NaN</td>\n",
       "      <td>...</td>\n",
       "      <td>NaT</td>\n",
       "      <td>NaT</td>\n",
       "      <td>NaT</td>\n",
       "      <td>NaT</td>\n",
       "      <td>SSVMQ</td>\n",
       "      <td>Valparaíso</td>\n",
       "      <td>RUN</td>\n",
       "      <td>88784146</td>\n",
       "      <td>ISAPRE</td>\n",
       "      <td>1961-06-17PATRICIO ORLANDO</td>\n",
       "    </tr>\n",
       "    <tr>\n",
       "      <th>1</th>\n",
       "      <td>597</td>\n",
       "      <td>Caso histórico</td>\n",
       "      <td>SSVMQ</td>\n",
       "      <td>Público</td>\n",
       "      <td>H. Grant Benavente</td>\n",
       "      <td>NaN</td>\n",
       "      <td>AMBULATORIA</td>\n",
       "      <td>NaN</td>\n",
       "      <td>No</td>\n",
       "      <td>NaN</td>\n",
       "      <td>...</td>\n",
       "      <td>NaT</td>\n",
       "      <td>NaT</td>\n",
       "      <td>NaT</td>\n",
       "      <td>NaT</td>\n",
       "      <td>SSCONCEP</td>\n",
       "      <td>Bio Bio</td>\n",
       "      <td>RUN</td>\n",
       "      <td>190484866</td>\n",
       "      <td>FONASA</td>\n",
       "      <td>1995-10-12VALERIA BELÉN</td>\n",
       "    </tr>\n",
       "    <tr>\n",
       "      <th>2</th>\n",
       "      <td>623</td>\n",
       "      <td>Caso histórico</td>\n",
       "      <td>SSVMQ</td>\n",
       "      <td>Privado</td>\n",
       "      <td>Clínica Ciudad del Mar</td>\n",
       "      <td>NaN</td>\n",
       "      <td>HOSPITALARIA</td>\n",
       "      <td>ESTABLECIMIENTO</td>\n",
       "      <td>No</td>\n",
       "      <td>NaN</td>\n",
       "      <td>...</td>\n",
       "      <td>NaT</td>\n",
       "      <td>NaT</td>\n",
       "      <td>NaT</td>\n",
       "      <td>NaT</td>\n",
       "      <td>SSVMQ</td>\n",
       "      <td>Valparaíso</td>\n",
       "      <td>RUN</td>\n",
       "      <td>56035125</td>\n",
       "      <td>ISAPRE</td>\n",
       "      <td>1946-10-20Edgard</td>\n",
       "    </tr>\n",
       "    <tr>\n",
       "      <th>3</th>\n",
       "      <td>707</td>\n",
       "      <td>Caso histórico</td>\n",
       "      <td>SSVMQ</td>\n",
       "      <td>Privado</td>\n",
       "      <td>Clínica Ciudad del Mar</td>\n",
       "      <td>NaN</td>\n",
       "      <td>HOSPITALARIA</td>\n",
       "      <td>ESTABLECIMIENTO</td>\n",
       "      <td>No</td>\n",
       "      <td>NaN</td>\n",
       "      <td>...</td>\n",
       "      <td>NaT</td>\n",
       "      <td>NaT</td>\n",
       "      <td>NaT</td>\n",
       "      <td>NaT</td>\n",
       "      <td>SSVMQ</td>\n",
       "      <td>Valparaíso</td>\n",
       "      <td>RUN</td>\n",
       "      <td>5405923K</td>\n",
       "      <td>ISAPRE</td>\n",
       "      <td>1945-12-07IVÁN LUIS PATRICIO</td>\n",
       "    </tr>\n",
       "    <tr>\n",
       "      <th>5</th>\n",
       "      <td>763</td>\n",
       "      <td>Caso histórico</td>\n",
       "      <td>SSVMQ</td>\n",
       "      <td>Privado</td>\n",
       "      <td>Clínica Ciudad del Mar</td>\n",
       "      <td>NaN</td>\n",
       "      <td>AMBULATORIA</td>\n",
       "      <td>NaN</td>\n",
       "      <td>Si</td>\n",
       "      <td>Francia</td>\n",
       "      <td>...</td>\n",
       "      <td>NaT</td>\n",
       "      <td>NaT</td>\n",
       "      <td>NaT</td>\n",
       "      <td>NaT</td>\n",
       "      <td>SSVMQ</td>\n",
       "      <td>Valparaíso</td>\n",
       "      <td>PASAPORTE</td>\n",
       "      <td>12CY89647</td>\n",
       "      <td>NaN</td>\n",
       "      <td>1984-08-06ANDRES FELIPE</td>\n",
       "    </tr>\n",
       "    <tr>\n",
       "      <th>...</th>\n",
       "      <td>...</td>\n",
       "      <td>...</td>\n",
       "      <td>...</td>\n",
       "      <td>...</td>\n",
       "      <td>...</td>\n",
       "      <td>...</td>\n",
       "      <td>...</td>\n",
       "      <td>...</td>\n",
       "      <td>...</td>\n",
       "      <td>...</td>\n",
       "      <td>...</td>\n",
       "      <td>...</td>\n",
       "      <td>...</td>\n",
       "      <td>...</td>\n",
       "      <td>...</td>\n",
       "      <td>...</td>\n",
       "      <td>...</td>\n",
       "      <td>...</td>\n",
       "      <td>...</td>\n",
       "      <td>...</td>\n",
       "      <td>...</td>\n",
       "    </tr>\n",
       "    <tr>\n",
       "      <th>4210</th>\n",
       "      <td>146399</td>\n",
       "      <td>Caso activo</td>\n",
       "      <td>SSVMQ</td>\n",
       "      <td>Público</td>\n",
       "      <td>H. Gustavo Fricke</td>\n",
       "      <td>NaN</td>\n",
       "      <td>HOSPITALARIA</td>\n",
       "      <td>DOMICILIO</td>\n",
       "      <td>No</td>\n",
       "      <td>NaN</td>\n",
       "      <td>...</td>\n",
       "      <td>NaT</td>\n",
       "      <td>NaT</td>\n",
       "      <td>NaT</td>\n",
       "      <td>NaT</td>\n",
       "      <td>SSVMQ</td>\n",
       "      <td>Valparaíso</td>\n",
       "      <td>RUN</td>\n",
       "      <td>178576062</td>\n",
       "      <td>FONASA</td>\n",
       "      <td>1991-08-17NADIA MÓNICA</td>\n",
       "    </tr>\n",
       "    <tr>\n",
       "      <th>4211</th>\n",
       "      <td>146401</td>\n",
       "      <td>Caso activo</td>\n",
       "      <td>SSVMQ</td>\n",
       "      <td>Público</td>\n",
       "      <td>H. Gustavo Fricke</td>\n",
       "      <td>NaN</td>\n",
       "      <td>HOSPITALARIA</td>\n",
       "      <td>DOMICILIO</td>\n",
       "      <td>No</td>\n",
       "      <td>NaN</td>\n",
       "      <td>...</td>\n",
       "      <td>NaT</td>\n",
       "      <td>NaT</td>\n",
       "      <td>NaT</td>\n",
       "      <td>NaT</td>\n",
       "      <td>SSVMQ</td>\n",
       "      <td>Valparaíso</td>\n",
       "      <td>RUN</td>\n",
       "      <td>163029014</td>\n",
       "      <td>ISAPRE</td>\n",
       "      <td>1986-11-03ÍTALO EXEQUIEL</td>\n",
       "    </tr>\n",
       "    <tr>\n",
       "      <th>4212</th>\n",
       "      <td>146402</td>\n",
       "      <td>Caso activo</td>\n",
       "      <td>SSVMQ</td>\n",
       "      <td>Público</td>\n",
       "      <td>H. Gustavo Fricke</td>\n",
       "      <td>NaN</td>\n",
       "      <td>HOSPITALARIA</td>\n",
       "      <td>DOMICILIO</td>\n",
       "      <td>No</td>\n",
       "      <td>NaN</td>\n",
       "      <td>...</td>\n",
       "      <td>NaT</td>\n",
       "      <td>NaT</td>\n",
       "      <td>NaT</td>\n",
       "      <td>NaT</td>\n",
       "      <td>SSVMQ</td>\n",
       "      <td>Valparaíso</td>\n",
       "      <td>RUN</td>\n",
       "      <td>183006037</td>\n",
       "      <td>ISAPRE</td>\n",
       "      <td>1993-05-12MAITE TRINIDAD</td>\n",
       "    </tr>\n",
       "    <tr>\n",
       "      <th>4213</th>\n",
       "      <td>146406</td>\n",
       "      <td>Caso activo</td>\n",
       "      <td>SSVMQ</td>\n",
       "      <td>Público</td>\n",
       "      <td>H. Gustavo Fricke</td>\n",
       "      <td>NaN</td>\n",
       "      <td>HOSPITALARIA</td>\n",
       "      <td>DOMICILIO</td>\n",
       "      <td>No</td>\n",
       "      <td>NaN</td>\n",
       "      <td>...</td>\n",
       "      <td>NaT</td>\n",
       "      <td>NaT</td>\n",
       "      <td>NaT</td>\n",
       "      <td>NaT</td>\n",
       "      <td>SSVMQ</td>\n",
       "      <td>Valparaíso</td>\n",
       "      <td>RUN</td>\n",
       "      <td>131876394</td>\n",
       "      <td>FONASA</td>\n",
       "      <td>1977-02-02YANINA ANDREA</td>\n",
       "    </tr>\n",
       "    <tr>\n",
       "      <th>4214</th>\n",
       "      <td>146409</td>\n",
       "      <td>Caso activo</td>\n",
       "      <td>SSVMQ</td>\n",
       "      <td>Público</td>\n",
       "      <td>H. Gustavo Fricke</td>\n",
       "      <td>NaN</td>\n",
       "      <td>HOSPITALARIA</td>\n",
       "      <td>DOMICILIO</td>\n",
       "      <td>No</td>\n",
       "      <td>NaN</td>\n",
       "      <td>...</td>\n",
       "      <td>NaT</td>\n",
       "      <td>NaT</td>\n",
       "      <td>NaT</td>\n",
       "      <td>NaT</td>\n",
       "      <td>SSVMQ</td>\n",
       "      <td>Valparaíso</td>\n",
       "      <td>RUN</td>\n",
       "      <td>175686533</td>\n",
       "      <td>FONASA</td>\n",
       "      <td>1990-12-20KATHERINE JENNIFER</td>\n",
       "    </tr>\n",
       "  </tbody>\n",
       "</table>\n",
       "<p>3575 rows × 71 columns</p>\n",
       "</div>"
      ],
      "text/plain": [
       "      ID CASO     ESTADO CASO SSALUD COMUNA PACIENTE TIPO ESTABLECIMIENTO  \\\n",
       "0         498  Caso histórico                  SSVMQ              Privado   \n",
       "1         597  Caso histórico                  SSVMQ              Público   \n",
       "2         623  Caso histórico                  SSVMQ              Privado   \n",
       "3         707  Caso histórico                  SSVMQ              Privado   \n",
       "5         763  Caso histórico                  SSVMQ              Privado   \n",
       "...       ...             ...                    ...                  ...   \n",
       "4210   146399     Caso activo                  SSVMQ              Público   \n",
       "4211   146401     Caso activo                  SSVMQ              Público   \n",
       "4212   146402     Caso activo                  SSVMQ              Público   \n",
       "4213   146406     Caso activo                  SSVMQ              Público   \n",
       "4214   146409     Caso activo                  SSVMQ              Público   \n",
       "\n",
       "                    ESTABLECIMIENTO CESFAM TIPO DE ATENCION  \\\n",
       "0     Hospital Naval (Viña del Mar)    NaN     HOSPITALARIA   \n",
       "1                H. Grant Benavente    NaN      AMBULATORIA   \n",
       "2            Clínica Ciudad del Mar    NaN     HOSPITALARIA   \n",
       "3            Clínica Ciudad del Mar    NaN     HOSPITALARIA   \n",
       "5            Clínica Ciudad del Mar    NaN      AMBULATORIA   \n",
       "...                             ...    ...              ...   \n",
       "4210              H. Gustavo Fricke    NaN     HOSPITALARIA   \n",
       "4211              H. Gustavo Fricke    NaN     HOSPITALARIA   \n",
       "4212              H. Gustavo Fricke    NaN     HOSPITALARIA   \n",
       "4213              H. Gustavo Fricke    NaN     HOSPITALARIA   \n",
       "4214              H. Gustavo Fricke    NaN     HOSPITALARIA   \n",
       "\n",
       "     TIPO DE HOSPITALIZACION PACIENTE EXTRANJERO PAIS ORIGEN  ...  \\\n",
       "0            ESTABLECIMIENTO                  No         NaN  ...   \n",
       "1                        NaN                  No         NaN  ...   \n",
       "2            ESTABLECIMIENTO                  No         NaN  ...   \n",
       "3            ESTABLECIMIENTO                  No         NaN  ...   \n",
       "5                        NaN                  Si     Francia  ...   \n",
       "...                      ...                 ...         ...  ...   \n",
       "4210               DOMICILIO                  No         NaN  ...   \n",
       "4211               DOMICILIO                  No         NaN  ...   \n",
       "4212               DOMICILIO                  No         NaN  ...   \n",
       "4213               DOMICILIO                  No         NaN  ...   \n",
       "4214               DOMICILIO                  No         NaN  ...   \n",
       "\n",
       "     VMNI FECHA 2DA CONEXION VMNI FECHA 2DA DESCONEXION  \\\n",
       "0                        NaT                        NaT   \n",
       "1                        NaT                        NaT   \n",
       "2                        NaT                        NaT   \n",
       "3                        NaT                        NaT   \n",
       "5                        NaT                        NaT   \n",
       "...                      ...                        ...   \n",
       "4210                     NaT                        NaT   \n",
       "4211                     NaT                        NaT   \n",
       "4212                     NaT                        NaT   \n",
       "4213                     NaT                        NaT   \n",
       "4214                     NaT                        NaT   \n",
       "\n",
       "     VMNI FECHA 3RA CONEXION  VMNI FECHA 3RA DESCONEXION  \\\n",
       "0                        NaT                         NaT   \n",
       "1                        NaT                         NaT   \n",
       "2                        NaT                         NaT   \n",
       "3                        NaT                         NaT   \n",
       "5                        NaT                         NaT   \n",
       "...                      ...                         ...   \n",
       "4210                     NaT                         NaT   \n",
       "4211                     NaT                         NaT   \n",
       "4212                     NaT                         NaT   \n",
       "4213                     NaT                         NaT   \n",
       "4214                     NaT                         NaT   \n",
       "\n",
       "     SERVICIOSALUD PRESTADOR REGION PRESTADOR TIPO IDENTIFICACION  \\\n",
       "0                      SSVMQ       Valparaíso                 RUN   \n",
       "1                   SSCONCEP          Bio Bio                 RUN   \n",
       "2                      SSVMQ       Valparaíso                 RUN   \n",
       "3                      SSVMQ       Valparaíso                 RUN   \n",
       "5                      SSVMQ       Valparaíso           PASAPORTE   \n",
       "...                      ...              ...                 ...   \n",
       "4210                   SSVMQ       Valparaíso                 RUN   \n",
       "4211                   SSVMQ       Valparaíso                 RUN   \n",
       "4212                   SSVMQ       Valparaíso                 RUN   \n",
       "4213                   SSVMQ       Valparaíso                 RUN   \n",
       "4214                   SSVMQ       Valparaíso                 RUN   \n",
       "\n",
       "     IDENTIFICACION PREVISION                   ID_personal  \n",
       "0          88784146    ISAPRE    1961-06-17PATRICIO ORLANDO  \n",
       "1         190484866    FONASA       1995-10-12VALERIA BELÉN  \n",
       "2          56035125    ISAPRE              1946-10-20Edgard  \n",
       "3          5405923K    ISAPRE  1945-12-07IVÁN LUIS PATRICIO  \n",
       "5         12CY89647       NaN       1984-08-06ANDRES FELIPE  \n",
       "...             ...       ...                           ...  \n",
       "4210      178576062    FONASA        1991-08-17NADIA MÓNICA  \n",
       "4211      163029014    ISAPRE      1986-11-03ÍTALO EXEQUIEL  \n",
       "4212      183006037    ISAPRE      1993-05-12MAITE TRINIDAD  \n",
       "4213      131876394    FONASA       1977-02-02YANINA ANDREA  \n",
       "4214      175686533    FONASA  1990-12-20KATHERINE JENNIFER  \n",
       "\n",
       "[3575 rows x 71 columns]"
      ]
     },
     "execution_count": 18,
     "metadata": {},
     "output_type": "execute_result"
    },
    {
     "data": {
      "text/plain": [
       "SSALUD COMUNA PACIENTE  TIPO ESTABLECIMIENTO  ESTADO CASO   \n",
       "SSACON                  Privado               Caso histórico       9\n",
       "                        Público               Caso activo          2\n",
       "                                              Caso histórico      10\n",
       "SSANORTE                Público               Caso histórico       2\n",
       "SSANT                   Privado               Caso histórico       6\n",
       "                        Público               Caso activo          1\n",
       "                                              Caso histórico       7\n",
       "SSARICA                 Público               Caso histórico       4\n",
       "SSASUR                  Público               Caso histórico       2\n",
       "SSATA                   Privado               Caso histórico       2\n",
       "SSBIOBIO                Privado               Caso histórico       1\n",
       "SSCONCEP                Privado               Caso activo          1\n",
       "                                              Caso histórico       4\n",
       "                        Público               Caso histórico       1\n",
       "SSCOQ                   Privado               Caso histórico       3\n",
       "                        Público               Caso histórico       2\n",
       "SSIQQ                   Privado               Caso histórico       1\n",
       "                        Público               Caso activo          1\n",
       "                                              Caso histórico       1\n",
       "SSMAG                   Privado               Caso histórico       1\n",
       "                        Público               Caso histórico       1\n",
       "SSMAULE                 Privado               Caso histórico       2\n",
       "                        Público               Caso histórico       1\n",
       "SSMC                    Privado               Caso histórico      18\n",
       "                        Público               Caso activo          2\n",
       "                                              Caso histórico      13\n",
       "SSMN                    Privado               Caso histórico      16\n",
       "                        Público               Caso histórico      14\n",
       "SSMO                    Privado               Caso histórico       7\n",
       "                        Público               Caso histórico      12\n",
       "SSMOC                   Privado               Caso activo          4\n",
       "                                              Caso histórico      20\n",
       "                        Público               Caso activo          1\n",
       "                                              Caso histórico      10\n",
       "SSMS                    Privado               Caso activo          1\n",
       "                                              Caso histórico      14\n",
       "                        Público               Caso histórico       6\n",
       "SSMSO                   Privado               Caso activo          1\n",
       "                                              Caso histórico      17\n",
       "                        Público               Caso histórico       7\n",
       "SSNUBLE                 Privado               Caso histórico       2\n",
       "                        Público               Caso histórico       3\n",
       "SSOH                    Privado               Caso histórico      10\n",
       "                        Público               Caso histórico       5\n",
       "SSOSO                   Privado               Caso activo          1\n",
       "                        Público               Caso histórico       3\n",
       "SSRELON                 Privado               Caso histórico       5\n",
       "                        Público               Caso histórico       4\n",
       "SSTHNO                  Privado               Caso activo          1\n",
       "                                              Caso histórico       4\n",
       "SSVMQ                   Privado               Caso activo         67\n",
       "                                              Caso histórico    1592\n",
       "                        Público               Caso activo        214\n",
       "                                              Caso histórico    1702\n",
       "SSVSA                   Privado               Caso activo         12\n",
       "                                              Caso histórico     263\n",
       "                        Público               Caso activo          6\n",
       "                                              Caso histórico      92\n",
       "Name: ID_personal, dtype: int64"
      ]
     },
     "execution_count": 18,
     "metadata": {},
     "output_type": "execute_result"
    }
   ],
   "source": [
    "BD.loc[BD['SSALUD COMUNA PACIENTE'] == 'SSVMQ'\n",
    "      ].groupby(['ESTADO CASO']).ID_personal.count()\n",
    "\n",
    "BD.loc[BD['SSALUD COMUNA PACIENTE'] != 'SSVMQ'\n",
    "      ].groupby(['ESTADO CASO']).ID_personal.count()\n",
    "\n",
    "\n",
    "BD.loc[BD['SSALUD COMUNA PACIENTE'] == 'SSVMQ']\n",
    "\n",
    "BD.groupby(['SSALUD COMUNA PACIENTE', 'TIPO ESTABLECIMIENTO', 'ESTADO CASO']).ID_personal.count()"
   ]
  },
  {
   "cell_type": "code",
   "execution_count": null,
   "metadata": {},
   "outputs": [],
   "source": []
  },
  {
   "cell_type": "code",
   "execution_count": 19,
   "metadata": {
    "scrolled": true
   },
   "outputs": [
    {
     "name": "stdout",
     "output_type": "stream",
     "text": [
      "TIPO ESTABLECIMIENTO  Privado  Público  Total\n",
      "ES FONASA                                    \n",
      "NO                       1034      170   1204\n",
      "SI                       1009     1910   2919\n",
      "Total                    2043     2080   4123\n",
      "TIPO ESTABLECIMIENTO  Privado  Público  Total\n",
      "ES FONASA                                    \n",
      "NO                         42        6     48\n",
      "SI                         46      219    265\n",
      "Total                      88      225    313\n",
      "TIPO ESTABLECIMIENTO  Privado  Público  Total\n",
      "ES FONASA                                    \n",
      "NO                         33        5     38\n",
      "SI                         43      210    253\n",
      "Total                      76      215    291\n",
      "TIPO ESTABLECIMIENTO  Privado  Público  Total\n",
      "ES FONASA                                    \n",
      "NO                          8        1      9\n",
      "SI                          3        3      6\n",
      "Total                      11        4     15\n"
     ]
    }
   ],
   "source": [
    "exec(open('./Informe v1/script/05 TAB prevision vs prestador.py').read())"
   ]
  },
  {
   "cell_type": "code",
   "execution_count": null,
   "metadata": {},
   "outputs": [],
   "source": []
  },
  {
   "cell_type": "code",
   "execution_count": null,
   "metadata": {},
   "outputs": [],
   "source": []
  },
  {
   "cell_type": "markdown",
   "metadata": {},
   "source": [
    "Grafico incidencia casos nuevos"
   ]
  },
  {
   "cell_type": "code",
   "execution_count": null,
   "metadata": {},
   "outputs": [],
   "source": []
  },
  {
   "cell_type": "code",
   "execution_count": 20,
   "metadata": {},
   "outputs": [
    {
     "data": {
      "text/plain": [
       "4214"
      ]
     },
     "execution_count": 20,
     "metadata": {},
     "output_type": "execute_result"
    },
    {
     "data": {
      "text/plain": [
       "3750"
      ]
     },
     "execution_count": 20,
     "metadata": {},
     "output_type": "execute_result"
    },
    {
     "data": {
      "text/plain": [
       "464"
      ]
     },
     "execution_count": 20,
     "metadata": {},
     "output_type": "execute_result"
    },
    {
     "data": {
      "text/plain": [
       "1    3366\n",
       "2     337\n",
       "3      37\n",
       "4       4\n",
       "7       2\n",
       "5       2\n",
       "8       1\n",
       "Name: ID CASO, dtype: int64"
      ]
     },
     "execution_count": 20,
     "metadata": {},
     "output_type": "execute_result"
    },
    {
     "data": {
      "text/plain": [
       "count    383.000000\n",
       "mean       2.174935\n",
       "std        0.616695\n",
       "min        2.000000\n",
       "25%        2.000000\n",
       "50%        2.000000\n",
       "75%        2.000000\n",
       "max        8.000000\n",
       "Name: ID CASO, dtype: float64"
      ]
     },
     "execution_count": 20,
     "metadata": {},
     "output_type": "execute_result"
    }
   ],
   "source": [
    "len(BD['RUN'])\n",
    "len(BD['RUN'].unique())\n",
    "len(BD['RUN']) - len(BD['RUN'].unique())\n",
    "\n",
    "duplicados = BD.groupby(['RUN'])['ID CASO'].count()\n",
    "duplicados.value_counts()\n",
    "duplicados[duplicados>1].describe()"
   ]
  },
  {
   "cell_type": "code",
   "execution_count": 21,
   "metadata": {},
   "outputs": [
    {
     "data": {
      "text/plain": [
       "<matplotlib.axes._subplots.AxesSubplot at 0x7f87f6096860>"
      ]
     },
     "execution_count": 21,
     "metadata": {},
     "output_type": "execute_result"
    },
    {
     "data": {
      "image/png": "[encoded data removed]",
      "text/plain": [
       "<Figure size 432x288 with 1 Axes>"
      ]
     },
     "metadata": {
      "needs_background": "light"
     },
     "output_type": "display_data"
    }
   ],
   "source": [
    "BD.groupby(pd.Grouper(\n",
    "    key='FECHA CONFIRMACION', \n",
    "    freq='w'))['ID CASO'].count().plot(kind='barh')"
   ]
  },
  {
   "cell_type": "code",
   "execution_count": 22,
   "metadata": {},
   "outputs": [
    {
     "data": {
      "text/plain": [
       "Fonasa    2919\n",
       "Isapre    1204\n",
       "Otra        91\n",
       "Name: Prevision, dtype: int64"
      ]
     },
     "execution_count": 22,
     "metadata": {},
     "output_type": "execute_result"
    }
   ],
   "source": [
    "BD.loc[BD['ES FONASA'] == 'SI', 'Prevision'] = 'Fonasa'\n",
    "BD.loc[BD['ES FONASA'] == 'NO', 'Prevision'] = 'Isapre'\n",
    "BD.loc[BD['ES FONASA'].isna()== True, 'Prevision'] = 'Otra'\n",
    "BD.Prevision.value_counts()"
   ]
  },
  {
   "cell_type": "code",
   "execution_count": 23,
   "metadata": {},
   "outputs": [
    {
     "data": {
      "text/plain": [
       "(array([  7.,  23.,  33.,  18.,  32.,  30.,  45.,  28.,  63., 120., 157.,\n",
       "        192., 305., 251., 411., 190., 160., 171., 169., 113., 124.,  61.,\n",
       "         83.,  65.,  54.,  12.,   0.,   1.,   0.,   1.]),\n",
       " array([737503. , 737508.5, 737514. , 737519.5, 737525. , 737530.5,\n",
       "        737536. , 737541.5, 737547. , 737552.5, 737558. , 737563.5,\n",
       "        737569. , 737574.5, 737580. , 737585.5, 737591. , 737596.5,\n",
       "        737602. , 737607.5, 737613. , 737618.5, 737624. , 737629.5,\n",
       "        737635. , 737640.5, 737646. , 737651.5, 737657. , 737662.5,\n",
       "        737668. ]),\n",
       " <a list of 30 Patch objects>)"
      ]
     },
     "execution_count": 23,
     "metadata": {},
     "output_type": "execute_result"
    },
    {
     "data": {
      "text/plain": [
       "(array([  4.,  16.,  30.,  21.,  19.,  25.,  17.,  23.,  22.,  60.,  77.,\n",
       "        100., 122., 114., 140., 118.,  30.,  62.,  54.,  44.,  40.,   9.,\n",
       "         21.,  19.,  11.,   5.,   0.,   0.,   0.,   1.]),\n",
       " array([737499.        , 737504.63333333, 737510.26666667, 737515.9       ,\n",
       "        737521.53333333, 737527.16666667, 737532.8       , 737538.43333333,\n",
       "        737544.06666667, 737549.7       , 737555.33333333, 737560.96666667,\n",
       "        737566.6       , 737572.23333333, 737577.86666667, 737583.5       ,\n",
       "        737589.13333333, 737594.76666667, 737600.4       , 737606.03333333,\n",
       "        737611.66666667, 737617.3       , 737622.93333333, 737628.56666667,\n",
       "        737634.2       , 737639.83333333, 737645.46666667, 737651.1       ,\n",
       "        737656.73333333, 737662.36666667, 737668.        ]),\n",
       " <a list of 30 Patch objects>)"
      ]
     },
     "execution_count": 23,
     "metadata": {},
     "output_type": "execute_result"
    },
    {
     "data": {
      "text/plain": [
       "(array([ 8.,  3., 12., 10.,  2.,  3.,  0.,  0.,  0.,  0.,  2.,  4.,  6.,\n",
       "         7.,  3.,  3.,  3.,  3.,  5.,  2.,  4.,  2.,  1.,  0.,  3.,  0.,\n",
       "         1.,  1.,  1.,  2.]),\n",
       " array([737501. , 737505.6, 737510.2, 737514.8, 737519.4, 737524. ,\n",
       "        737528.6, 737533.2, 737537.8, 737542.4, 737547. , 737551.6,\n",
       "        737556.2, 737560.8, 737565.4, 737570. , 737574.6, 737579.2,\n",
       "        737583.8, 737588.4, 737593. , 737597.6, 737602.2, 737606.8,\n",
       "        737611.4, 737616. , 737620.6, 737625.2, 737629.8, 737634.4,\n",
       "        737639. ]),\n",
       " <a list of 30 Patch objects>)"
      ]
     },
     "execution_count": 23,
     "metadata": {},
     "output_type": "execute_result"
    },
    {
     "data": {
      "text/plain": [
       "Text(0.5, 1.0, 'Test COVID + en el tiempo')"
      ]
     },
     "execution_count": 23,
     "metadata": {},
     "output_type": "execute_result"
    },
    {
     "data": {
      "text/plain": [
       "Text(0, 0.5, 'Cantidad de Casos diarios')"
      ]
     },
     "execution_count": 23,
     "metadata": {},
     "output_type": "execute_result"
    },
    {
     "data": {
      "text/plain": [
       "Text(0.5, 0, 'Fecha')"
      ]
     },
     "execution_count": 23,
     "metadata": {},
     "output_type": "execute_result"
    },
    {
     "data": {
      "text/plain": [
       "<matplotlib.legend.Legend at 0x7f87f37b8f60>"
      ]
     },
     "execution_count": 23,
     "metadata": {},
     "output_type": "execute_result"
    },
    {
     "data": {
      "image/png": "[encoded data removed]",
      "text/plain": [
       "<Figure size 432x288 with 1 Axes>"
      ]
     },
     "metadata": {
      "needs_background": "light"
     },
     "output_type": "display_data"
    }
   ],
   "source": [
    "#date = BD['FECHA CONFIRMACION'].astype('O')\n",
    "\n",
    "dateF = BD.loc[BD.Prevision == 'Fonasa']['FECHA CONFIRMACION'].astype('O')\n",
    "dateI = BD.loc[BD.Prevision == 'Isapre']['FECHA CONFIRMACION'].astype('O')\n",
    "dateO = BD.loc[BD.Prevision == 'Otra']['FECHA CONFIRMACION'].astype('O')\n",
    "\n",
    "fig, ax = plt.subplots()\n",
    "\n",
    "ax.hist(dateF, bins=30)\n",
    "ax.hist(dateI, bins=30)\n",
    "ax.hist(dateO, bins=30)\n",
    "\n",
    "fig.autofmt_xdate()\n",
    "ax.fmt_xdata = mdates.DateFormatter('%Y-%m')\n",
    "ax.set_title('Test COVID + en el tiempo')\n",
    "ax.set_ylabel('Cantidad de Casos diarios')\n",
    "ax.set_xlabel('Fecha')\n",
    "plt.legend([\"Fonasa\", \"Isapre\", \"Otra\"])"
   ]
  },
  {
   "cell_type": "markdown",
   "metadata": {},
   "source": [
    "# Descripicón del paciente"
   ]
  },
  {
   "cell_type": "code",
   "execution_count": 24,
   "metadata": {},
   "outputs": [
    {
     "ename": "ValueError",
     "evalue": "view limit minimum -36882.35 is less than 1 and is an invalid Matplotlib date value. This often happens if you pass a non-datetime value to an axis that has datetime units",
     "output_type": "error",
     "traceback": [
      "\u001b[0;31m---------------------------------------------------------------------------\u001b[0m",
      "\u001b[0;31mValueError\u001b[0m                                Traceback (most recent call last)",
      "\u001b[0;32m<ipython-input-24-c6b3e5cdf96a>\u001b[0m in \u001b[0;36m<module>\u001b[0;34m\u001b[0m\n\u001b[1;32m      1\u001b[0m BD.groupby(\n\u001b[0;32m----> 2\u001b[0;31m     ['Prevision', BD['FECHA CONFIRMACION'].dt.date])['ID CASO'].plot(x='FECHA CONFIRMACION', y='ID CASO', ax=ax, legend=False)\n\u001b[0m",
      "\u001b[0;32m~/.local/lib/python3.7/site-packages/pandas/core/groupby/groupby.py\u001b[0m in \u001b[0;36m__call__\u001b[0;34m(self, *args, **kwargs)\u001b[0m\n\u001b[1;32m    324\u001b[0m \u001b[0;34m\u001b[0m\u001b[0m\n\u001b[1;32m    325\u001b[0m         \u001b[0mf\u001b[0m\u001b[0;34m.\u001b[0m\u001b[0m__name__\u001b[0m \u001b[0;34m=\u001b[0m \u001b[0;34m\"plot\"\u001b[0m\u001b[0;34m\u001b[0m\u001b[0;34m\u001b[0m\u001b[0m\n\u001b[0;32m--> 326\u001b[0;31m         \u001b[0;32mreturn\u001b[0m \u001b[0mself\u001b[0m\u001b[0;34m.\u001b[0m\u001b[0m_groupby\u001b[0m\u001b[0;34m.\u001b[0m\u001b[0mapply\u001b[0m\u001b[0;34m(\u001b[0m\u001b[0mf\u001b[0m\u001b[0;34m)\u001b[0m\u001b[0;34m\u001b[0m\u001b[0;34m\u001b[0m\u001b[0m\n\u001b[0m\u001b[1;32m    327\u001b[0m \u001b[0;34m\u001b[0m\u001b[0m\n\u001b[1;32m    328\u001b[0m     \u001b[0;32mdef\u001b[0m \u001b[0m__getattr__\u001b[0m\u001b[0;34m(\u001b[0m\u001b[0mself\u001b[0m\u001b[0;34m,\u001b[0m \u001b[0mname\u001b[0m\u001b[0;34m:\u001b[0m \u001b[0mstr\u001b[0m\u001b[0;34m)\u001b[0m\u001b[0;34m:\u001b[0m\u001b[0;34m\u001b[0m\u001b[0;34m\u001b[0m\u001b[0m\n",
      "\u001b[0;32m~/.local/lib/python3.7/site-packages/pandas/core/groupby/generic.py\u001b[0m in \u001b[0;36mapply\u001b[0;34m(self, func, *args, **kwargs)\u001b[0m\n\u001b[1;32m    222\u001b[0m     )\n\u001b[1;32m    223\u001b[0m     \u001b[0;32mdef\u001b[0m \u001b[0mapply\u001b[0m\u001b[0;34m(\u001b[0m\u001b[0mself\u001b[0m\u001b[0;34m,\u001b[0m \u001b[0mfunc\u001b[0m\u001b[0;34m,\u001b[0m \u001b[0;34m*\u001b[0m\u001b[0margs\u001b[0m\u001b[0;34m,\u001b[0m \u001b[0;34m**\u001b[0m\u001b[0mkwargs\u001b[0m\u001b[0;34m)\u001b[0m\u001b[0;34m:\u001b[0m\u001b[0;34m\u001b[0m\u001b[0;34m\u001b[0m\u001b[0m\n\u001b[0;32m--> 224\u001b[0;31m         \u001b[0;32mreturn\u001b[0m \u001b[0msuper\u001b[0m\u001b[0;34m(\u001b[0m\u001b[0;34m)\u001b[0m\u001b[0;34m.\u001b[0m\u001b[0mapply\u001b[0m\u001b[0;34m(\u001b[0m\u001b[0mfunc\u001b[0m\u001b[0;34m,\u001b[0m \u001b[0;34m*\u001b[0m\u001b[0margs\u001b[0m\u001b[0;34m,\u001b[0m \u001b[0;34m**\u001b[0m\u001b[0mkwargs\u001b[0m\u001b[0;34m)\u001b[0m\u001b[0;34m\u001b[0m\u001b[0;34m\u001b[0m\u001b[0m\n\u001b[0m\u001b[1;32m    225\u001b[0m \u001b[0;34m\u001b[0m\u001b[0m\n\u001b[1;32m    226\u001b[0m     @Substitution(\n",
      "\u001b[0;32m~/.local/lib/python3.7/site-packages/pandas/core/groupby/groupby.py\u001b[0m in \u001b[0;36mapply\u001b[0;34m(self, func, *args, **kwargs)\u001b[0m\n\u001b[1;32m    733\u001b[0m         \u001b[0;32mwith\u001b[0m \u001b[0moption_context\u001b[0m\u001b[0;34m(\u001b[0m\u001b[0;34m\"mode.chained_assignment\"\u001b[0m\u001b[0;34m,\u001b[0m \u001b[0;32mNone\u001b[0m\u001b[0;34m)\u001b[0m\u001b[0;34m:\u001b[0m\u001b[0;34m\u001b[0m\u001b[0;34m\u001b[0m\u001b[0m\n\u001b[1;32m    734\u001b[0m             \u001b[0;32mtry\u001b[0m\u001b[0;34m:\u001b[0m\u001b[0;34m\u001b[0m\u001b[0;34m\u001b[0m\u001b[0m\n\u001b[0;32m--> 735\u001b[0;31m                 \u001b[0mresult\u001b[0m \u001b[0;34m=\u001b[0m \u001b[0mself\u001b[0m\u001b[0;34m.\u001b[0m\u001b[0m_python_apply_general\u001b[0m\u001b[0;34m(\u001b[0m\u001b[0mf\u001b[0m\u001b[0;34m)\u001b[0m\u001b[0;34m\u001b[0m\u001b[0;34m\u001b[0m\u001b[0m\n\u001b[0m\u001b[1;32m    736\u001b[0m             \u001b[0;32mexcept\u001b[0m \u001b[0mTypeError\u001b[0m\u001b[0;34m:\u001b[0m\u001b[0;34m\u001b[0m\u001b[0;34m\u001b[0m\u001b[0m\n\u001b[1;32m    737\u001b[0m                 \u001b[0;31m# gh-20949\u001b[0m\u001b[0;34m\u001b[0m\u001b[0;34m\u001b[0m\u001b[0;34m\u001b[0m\u001b[0m\n",
      "\u001b[0;32m~/.local/lib/python3.7/site-packages/pandas/core/groupby/groupby.py\u001b[0m in \u001b[0;36m_python_apply_general\u001b[0;34m(self, f)\u001b[0m\n\u001b[1;32m    749\u001b[0m \u001b[0;34m\u001b[0m\u001b[0m\n\u001b[1;32m    750\u001b[0m     \u001b[0;32mdef\u001b[0m \u001b[0m_python_apply_general\u001b[0m\u001b[0;34m(\u001b[0m\u001b[0mself\u001b[0m\u001b[0;34m,\u001b[0m \u001b[0mf\u001b[0m\u001b[0;34m)\u001b[0m\u001b[0;34m:\u001b[0m\u001b[0;34m\u001b[0m\u001b[0;34m\u001b[0m\u001b[0m\n\u001b[0;32m--> 751\u001b[0;31m         \u001b[0mkeys\u001b[0m\u001b[0;34m,\u001b[0m \u001b[0mvalues\u001b[0m\u001b[0;34m,\u001b[0m \u001b[0mmutated\u001b[0m \u001b[0;34m=\u001b[0m \u001b[0mself\u001b[0m\u001b[0;34m.\u001b[0m\u001b[0mgrouper\u001b[0m\u001b[0;34m.\u001b[0m\u001b[0mapply\u001b[0m\u001b[0;34m(\u001b[0m\u001b[0mf\u001b[0m\u001b[0;34m,\u001b[0m \u001b[0mself\u001b[0m\u001b[0;34m.\u001b[0m\u001b[0m_selected_obj\u001b[0m\u001b[0;34m,\u001b[0m \u001b[0mself\u001b[0m\u001b[0;34m.\u001b[0m\u001b[0maxis\u001b[0m\u001b[0;34m)\u001b[0m\u001b[0;34m\u001b[0m\u001b[0;34m\u001b[0m\u001b[0m\n\u001b[0m\u001b[1;32m    752\u001b[0m \u001b[0;34m\u001b[0m\u001b[0m\n\u001b[1;32m    753\u001b[0m         return self._wrap_applied_output(\n",
      "\u001b[0;32m~/.local/lib/python3.7/site-packages/pandas/core/groupby/ops.py\u001b[0m in \u001b[0;36mapply\u001b[0;34m(self, f, data, axis)\u001b[0m\n\u001b[1;32m    204\u001b[0m             \u001b[0;31m# group might be modified\u001b[0m\u001b[0;34m\u001b[0m\u001b[0;34m\u001b[0m\u001b[0;34m\u001b[0m\u001b[0m\n\u001b[1;32m    205\u001b[0m             \u001b[0mgroup_axes\u001b[0m \u001b[0;34m=\u001b[0m \u001b[0mgroup\u001b[0m\u001b[0;34m.\u001b[0m\u001b[0maxes\u001b[0m\u001b[0;34m\u001b[0m\u001b[0;34m\u001b[0m\u001b[0m\n\u001b[0;32m--> 206\u001b[0;31m             \u001b[0mres\u001b[0m \u001b[0;34m=\u001b[0m \u001b[0mf\u001b[0m\u001b[0;34m(\u001b[0m\u001b[0mgroup\u001b[0m\u001b[0;34m)\u001b[0m\u001b[0;34m\u001b[0m\u001b[0;34m\u001b[0m\u001b[0m\n\u001b[0m\u001b[1;32m    207\u001b[0m             \u001b[0;32mif\u001b[0m \u001b[0;32mnot\u001b[0m \u001b[0m_is_indexed_like\u001b[0m\u001b[0;34m(\u001b[0m\u001b[0mres\u001b[0m\u001b[0;34m,\u001b[0m \u001b[0mgroup_axes\u001b[0m\u001b[0;34m)\u001b[0m\u001b[0;34m:\u001b[0m\u001b[0;34m\u001b[0m\u001b[0;34m\u001b[0m\u001b[0m\n\u001b[1;32m    208\u001b[0m                 \u001b[0mmutated\u001b[0m \u001b[0;34m=\u001b[0m \u001b[0;32mTrue\u001b[0m\u001b[0;34m\u001b[0m\u001b[0;34m\u001b[0m\u001b[0m\n",
      "\u001b[0;32m~/.local/lib/python3.7/site-packages/pandas/core/groupby/groupby.py\u001b[0m in \u001b[0;36mf\u001b[0;34m(self)\u001b[0m\n\u001b[1;32m    321\u001b[0m     \u001b[0;32mdef\u001b[0m \u001b[0m__call__\u001b[0m\u001b[0;34m(\u001b[0m\u001b[0mself\u001b[0m\u001b[0;34m,\u001b[0m \u001b[0;34m*\u001b[0m\u001b[0margs\u001b[0m\u001b[0;34m,\u001b[0m \u001b[0;34m**\u001b[0m\u001b[0mkwargs\u001b[0m\u001b[0;34m)\u001b[0m\u001b[0;34m:\u001b[0m\u001b[0;34m\u001b[0m\u001b[0;34m\u001b[0m\u001b[0m\n\u001b[1;32m    322\u001b[0m         \u001b[0;32mdef\u001b[0m \u001b[0mf\u001b[0m\u001b[0;34m(\u001b[0m\u001b[0mself\u001b[0m\u001b[0;34m)\u001b[0m\u001b[0;34m:\u001b[0m\u001b[0;34m\u001b[0m\u001b[0;34m\u001b[0m\u001b[0m\n\u001b[0;32m--> 323\u001b[0;31m             \u001b[0;32mreturn\u001b[0m \u001b[0mself\u001b[0m\u001b[0;34m.\u001b[0m\u001b[0mplot\u001b[0m\u001b[0;34m(\u001b[0m\u001b[0;34m*\u001b[0m\u001b[0margs\u001b[0m\u001b[0;34m,\u001b[0m \u001b[0;34m**\u001b[0m\u001b[0mkwargs\u001b[0m\u001b[0;34m)\u001b[0m\u001b[0;34m\u001b[0m\u001b[0;34m\u001b[0m\u001b[0m\n\u001b[0m\u001b[1;32m    324\u001b[0m \u001b[0;34m\u001b[0m\u001b[0m\n\u001b[1;32m    325\u001b[0m         \u001b[0mf\u001b[0m\u001b[0;34m.\u001b[0m\u001b[0m__name__\u001b[0m \u001b[0;34m=\u001b[0m \u001b[0;34m\"plot\"\u001b[0m\u001b[0;34m\u001b[0m\u001b[0;34m\u001b[0m\u001b[0m\n",
      "\u001b[0;32m~/.local/lib/python3.7/site-packages/pandas/plotting/_core.py\u001b[0m in \u001b[0;36m__call__\u001b[0;34m(self, *args, **kwargs)\u001b[0m\n\u001b[1;32m    845\u001b[0m                     \u001b[0mdata\u001b[0m\u001b[0;34m.\u001b[0m\u001b[0mcolumns\u001b[0m \u001b[0;34m=\u001b[0m \u001b[0mlabel_name\u001b[0m\u001b[0;34m\u001b[0m\u001b[0;34m\u001b[0m\u001b[0m\n\u001b[1;32m    846\u001b[0m \u001b[0;34m\u001b[0m\u001b[0m\n\u001b[0;32m--> 847\u001b[0;31m         \u001b[0;32mreturn\u001b[0m \u001b[0mplot_backend\u001b[0m\u001b[0;34m.\u001b[0m\u001b[0mplot\u001b[0m\u001b[0;34m(\u001b[0m\u001b[0mdata\u001b[0m\u001b[0;34m,\u001b[0m \u001b[0mkind\u001b[0m\u001b[0;34m=\u001b[0m\u001b[0mkind\u001b[0m\u001b[0;34m,\u001b[0m \u001b[0;34m**\u001b[0m\u001b[0mkwargs\u001b[0m\u001b[0;34m)\u001b[0m\u001b[0;34m\u001b[0m\u001b[0;34m\u001b[0m\u001b[0m\n\u001b[0m\u001b[1;32m    848\u001b[0m \u001b[0;34m\u001b[0m\u001b[0m\n\u001b[1;32m    849\u001b[0m     \u001b[0m__call__\u001b[0m\u001b[0;34m.\u001b[0m\u001b[0m__doc__\u001b[0m \u001b[0;34m=\u001b[0m \u001b[0m__doc__\u001b[0m\u001b[0;34m\u001b[0m\u001b[0;34m\u001b[0m\u001b[0m\n",
      "\u001b[0;32m~/.local/lib/python3.7/site-packages/pandas/plotting/_matplotlib/__init__.py\u001b[0m in \u001b[0;36mplot\u001b[0;34m(data, kind, **kwargs)\u001b[0m\n\u001b[1;32m     59\u001b[0m             \u001b[0mkwargs\u001b[0m\u001b[0;34m[\u001b[0m\u001b[0;34m\"ax\"\u001b[0m\u001b[0;34m]\u001b[0m \u001b[0;34m=\u001b[0m \u001b[0mgetattr\u001b[0m\u001b[0;34m(\u001b[0m\u001b[0max\u001b[0m\u001b[0;34m,\u001b[0m \u001b[0;34m\"left_ax\"\u001b[0m\u001b[0;34m,\u001b[0m \u001b[0max\u001b[0m\u001b[0;34m)\u001b[0m\u001b[0;34m\u001b[0m\u001b[0;34m\u001b[0m\u001b[0m\n\u001b[1;32m     60\u001b[0m     \u001b[0mplot_obj\u001b[0m \u001b[0;34m=\u001b[0m \u001b[0mPLOT_CLASSES\u001b[0m\u001b[0;34m[\u001b[0m\u001b[0mkind\u001b[0m\u001b[0;34m]\u001b[0m\u001b[0;34m(\u001b[0m\u001b[0mdata\u001b[0m\u001b[0;34m,\u001b[0m \u001b[0;34m**\u001b[0m\u001b[0mkwargs\u001b[0m\u001b[0;34m)\u001b[0m\u001b[0;34m\u001b[0m\u001b[0;34m\u001b[0m\u001b[0m\n\u001b[0;32m---> 61\u001b[0;31m     \u001b[0mplot_obj\u001b[0m\u001b[0;34m.\u001b[0m\u001b[0mgenerate\u001b[0m\u001b[0;34m(\u001b[0m\u001b[0;34m)\u001b[0m\u001b[0;34m\u001b[0m\u001b[0;34m\u001b[0m\u001b[0m\n\u001b[0m\u001b[1;32m     62\u001b[0m     \u001b[0mplot_obj\u001b[0m\u001b[0;34m.\u001b[0m\u001b[0mdraw\u001b[0m\u001b[0;34m(\u001b[0m\u001b[0;34m)\u001b[0m\u001b[0;34m\u001b[0m\u001b[0;34m\u001b[0m\u001b[0m\n\u001b[1;32m     63\u001b[0m     \u001b[0;32mreturn\u001b[0m \u001b[0mplot_obj\u001b[0m\u001b[0;34m.\u001b[0m\u001b[0mresult\u001b[0m\u001b[0;34m\u001b[0m\u001b[0;34m\u001b[0m\u001b[0m\n",
      "\u001b[0;32m~/.local/lib/python3.7/site-packages/pandas/plotting/_matplotlib/core.py\u001b[0m in \u001b[0;36mgenerate\u001b[0;34m(self)\u001b[0m\n\u001b[1;32m    267\u001b[0m \u001b[0;34m\u001b[0m\u001b[0m\n\u001b[1;32m    268\u001b[0m         \u001b[0;32mfor\u001b[0m \u001b[0max\u001b[0m \u001b[0;32min\u001b[0m \u001b[0mself\u001b[0m\u001b[0;34m.\u001b[0m\u001b[0maxes\u001b[0m\u001b[0;34m:\u001b[0m\u001b[0;34m\u001b[0m\u001b[0;34m\u001b[0m\u001b[0m\n\u001b[0;32m--> 269\u001b[0;31m             \u001b[0mself\u001b[0m\u001b[0;34m.\u001b[0m\u001b[0m_post_plot_logic_common\u001b[0m\u001b[0;34m(\u001b[0m\u001b[0max\u001b[0m\u001b[0;34m,\u001b[0m \u001b[0mself\u001b[0m\u001b[0;34m.\u001b[0m\u001b[0mdata\u001b[0m\u001b[0;34m)\u001b[0m\u001b[0;34m\u001b[0m\u001b[0;34m\u001b[0m\u001b[0m\n\u001b[0m\u001b[1;32m    270\u001b[0m             \u001b[0mself\u001b[0m\u001b[0;34m.\u001b[0m\u001b[0m_post_plot_logic\u001b[0m\u001b[0;34m(\u001b[0m\u001b[0max\u001b[0m\u001b[0;34m,\u001b[0m \u001b[0mself\u001b[0m\u001b[0;34m.\u001b[0m\u001b[0mdata\u001b[0m\u001b[0;34m)\u001b[0m\u001b[0;34m\u001b[0m\u001b[0;34m\u001b[0m\u001b[0m\n\u001b[1;32m    271\u001b[0m \u001b[0;34m\u001b[0m\u001b[0m\n",
      "\u001b[0;32m~/.local/lib/python3.7/site-packages/pandas/plotting/_matplotlib/core.py\u001b[0m in \u001b[0;36m_post_plot_logic_common\u001b[0;34m(self, ax, data)\u001b[0m\n\u001b[1;32m    435\u001b[0m \u001b[0;34m\u001b[0m\u001b[0m\n\u001b[1;32m    436\u001b[0m         \u001b[0;32mif\u001b[0m \u001b[0mself\u001b[0m\u001b[0;34m.\u001b[0m\u001b[0morientation\u001b[0m \u001b[0;34m==\u001b[0m \u001b[0;34m\"vertical\"\u001b[0m \u001b[0;32mor\u001b[0m \u001b[0mself\u001b[0m\u001b[0;34m.\u001b[0m\u001b[0morientation\u001b[0m \u001b[0;32mis\u001b[0m \u001b[0;32mNone\u001b[0m\u001b[0;34m:\u001b[0m\u001b[0;34m\u001b[0m\u001b[0;34m\u001b[0m\u001b[0m\n\u001b[0;32m--> 437\u001b[0;31m             \u001b[0mself\u001b[0m\u001b[0;34m.\u001b[0m\u001b[0m_apply_axis_properties\u001b[0m\u001b[0;34m(\u001b[0m\u001b[0max\u001b[0m\u001b[0;34m.\u001b[0m\u001b[0mxaxis\u001b[0m\u001b[0;34m,\u001b[0m \u001b[0mrot\u001b[0m\u001b[0;34m=\u001b[0m\u001b[0mself\u001b[0m\u001b[0;34m.\u001b[0m\u001b[0mrot\u001b[0m\u001b[0;34m,\u001b[0m \u001b[0mfontsize\u001b[0m\u001b[0;34m=\u001b[0m\u001b[0mself\u001b[0m\u001b[0;34m.\u001b[0m\u001b[0mfontsize\u001b[0m\u001b[0;34m)\u001b[0m\u001b[0;34m\u001b[0m\u001b[0;34m\u001b[0m\u001b[0m\n\u001b[0m\u001b[1;32m    438\u001b[0m             \u001b[0mself\u001b[0m\u001b[0;34m.\u001b[0m\u001b[0m_apply_axis_properties\u001b[0m\u001b[0;34m(\u001b[0m\u001b[0max\u001b[0m\u001b[0;34m.\u001b[0m\u001b[0myaxis\u001b[0m\u001b[0;34m,\u001b[0m \u001b[0mfontsize\u001b[0m\u001b[0;34m=\u001b[0m\u001b[0mself\u001b[0m\u001b[0;34m.\u001b[0m\u001b[0mfontsize\u001b[0m\u001b[0;34m)\u001b[0m\u001b[0;34m\u001b[0m\u001b[0;34m\u001b[0m\u001b[0m\n\u001b[1;32m    439\u001b[0m \u001b[0;34m\u001b[0m\u001b[0m\n",
      "\u001b[0;32m~/.local/lib/python3.7/site-packages/pandas/plotting/_matplotlib/core.py\u001b[0m in \u001b[0;36m_apply_axis_properties\u001b[0;34m(self, axis, rot, fontsize)\u001b[0m\n\u001b[1;32m    518\u001b[0m         \u001b[0;32mif\u001b[0m \u001b[0mrot\u001b[0m \u001b[0;32mis\u001b[0m \u001b[0;32mnot\u001b[0m \u001b[0;32mNone\u001b[0m \u001b[0;32mor\u001b[0m \u001b[0mfontsize\u001b[0m \u001b[0;32mis\u001b[0m \u001b[0;32mnot\u001b[0m \u001b[0;32mNone\u001b[0m\u001b[0;34m:\u001b[0m\u001b[0;34m\u001b[0m\u001b[0;34m\u001b[0m\u001b[0m\n\u001b[1;32m    519\u001b[0m             \u001b[0;31m# rot=0 is a valid setting, hence the explicit None check\u001b[0m\u001b[0;34m\u001b[0m\u001b[0;34m\u001b[0m\u001b[0;34m\u001b[0m\u001b[0m\n\u001b[0;32m--> 520\u001b[0;31m             \u001b[0mlabels\u001b[0m \u001b[0;34m=\u001b[0m \u001b[0maxis\u001b[0m\u001b[0;34m.\u001b[0m\u001b[0mget_majorticklabels\u001b[0m\u001b[0;34m(\u001b[0m\u001b[0;34m)\u001b[0m \u001b[0;34m+\u001b[0m \u001b[0maxis\u001b[0m\u001b[0;34m.\u001b[0m\u001b[0mget_minorticklabels\u001b[0m\u001b[0;34m(\u001b[0m\u001b[0;34m)\u001b[0m\u001b[0;34m\u001b[0m\u001b[0;34m\u001b[0m\u001b[0m\n\u001b[0m\u001b[1;32m    521\u001b[0m             \u001b[0;32mfor\u001b[0m \u001b[0mlabel\u001b[0m \u001b[0;32min\u001b[0m \u001b[0mlabels\u001b[0m\u001b[0;34m:\u001b[0m\u001b[0;34m\u001b[0m\u001b[0;34m\u001b[0m\u001b[0m\n\u001b[1;32m    522\u001b[0m                 \u001b[0;32mif\u001b[0m \u001b[0mrot\u001b[0m \u001b[0;32mis\u001b[0m \u001b[0;32mnot\u001b[0m \u001b[0;32mNone\u001b[0m\u001b[0;34m:\u001b[0m\u001b[0;34m\u001b[0m\u001b[0;34m\u001b[0m\u001b[0m\n",
      "\u001b[0;32m~/.local/lib/python3.7/site-packages/matplotlib/axis.py\u001b[0m in \u001b[0;36mget_majorticklabels\u001b[0;34m(self)\u001b[0m\n\u001b[1;32m   1274\u001b[0m     \u001b[0;32mdef\u001b[0m \u001b[0mget_majorticklabels\u001b[0m\u001b[0;34m(\u001b[0m\u001b[0mself\u001b[0m\u001b[0;34m)\u001b[0m\u001b[0;34m:\u001b[0m\u001b[0;34m\u001b[0m\u001b[0;34m\u001b[0m\u001b[0m\n\u001b[1;32m   1275\u001b[0m         \u001b[0;34m'Return a list of Text instances for the major ticklabels.'\u001b[0m\u001b[0;34m\u001b[0m\u001b[0;34m\u001b[0m\u001b[0m\n\u001b[0;32m-> 1276\u001b[0;31m         \u001b[0mticks\u001b[0m \u001b[0;34m=\u001b[0m \u001b[0mself\u001b[0m\u001b[0;34m.\u001b[0m\u001b[0mget_major_ticks\u001b[0m\u001b[0;34m(\u001b[0m\u001b[0;34m)\u001b[0m\u001b[0;34m\u001b[0m\u001b[0;34m\u001b[0m\u001b[0m\n\u001b[0m\u001b[1;32m   1277\u001b[0m         \u001b[0mlabels1\u001b[0m \u001b[0;34m=\u001b[0m \u001b[0;34m[\u001b[0m\u001b[0mtick\u001b[0m\u001b[0;34m.\u001b[0m\u001b[0mlabel1\u001b[0m \u001b[0;32mfor\u001b[0m \u001b[0mtick\u001b[0m \u001b[0;32min\u001b[0m \u001b[0mticks\u001b[0m \u001b[0;32mif\u001b[0m \u001b[0mtick\u001b[0m\u001b[0;34m.\u001b[0m\u001b[0mlabel1\u001b[0m\u001b[0;34m.\u001b[0m\u001b[0mget_visible\u001b[0m\u001b[0;34m(\u001b[0m\u001b[0;34m)\u001b[0m\u001b[0;34m]\u001b[0m\u001b[0;34m\u001b[0m\u001b[0;34m\u001b[0m\u001b[0m\n\u001b[1;32m   1278\u001b[0m         \u001b[0mlabels2\u001b[0m \u001b[0;34m=\u001b[0m \u001b[0;34m[\u001b[0m\u001b[0mtick\u001b[0m\u001b[0;34m.\u001b[0m\u001b[0mlabel2\u001b[0m \u001b[0;32mfor\u001b[0m \u001b[0mtick\u001b[0m \u001b[0;32min\u001b[0m \u001b[0mticks\u001b[0m \u001b[0;32mif\u001b[0m \u001b[0mtick\u001b[0m\u001b[0;34m.\u001b[0m\u001b[0mlabel2\u001b[0m\u001b[0;34m.\u001b[0m\u001b[0mget_visible\u001b[0m\u001b[0;34m(\u001b[0m\u001b[0;34m)\u001b[0m\u001b[0;34m]\u001b[0m\u001b[0;34m\u001b[0m\u001b[0;34m\u001b[0m\u001b[0m\n",
      "\u001b[0;32m~/.local/lib/python3.7/site-packages/matplotlib/axis.py\u001b[0m in \u001b[0;36mget_major_ticks\u001b[0;34m(self, numticks)\u001b[0m\n\u001b[1;32m   1429\u001b[0m         \u001b[0;34m'Get the tick instances; grow as necessary.'\u001b[0m\u001b[0;34m\u001b[0m\u001b[0;34m\u001b[0m\u001b[0m\n\u001b[1;32m   1430\u001b[0m         \u001b[0;32mif\u001b[0m \u001b[0mnumticks\u001b[0m \u001b[0;32mis\u001b[0m \u001b[0;32mNone\u001b[0m\u001b[0;34m:\u001b[0m\u001b[0;34m\u001b[0m\u001b[0;34m\u001b[0m\u001b[0m\n\u001b[0;32m-> 1431\u001b[0;31m             \u001b[0mnumticks\u001b[0m \u001b[0;34m=\u001b[0m \u001b[0mlen\u001b[0m\u001b[0;34m(\u001b[0m\u001b[0mself\u001b[0m\u001b[0;34m.\u001b[0m\u001b[0mget_majorticklocs\u001b[0m\u001b[0;34m(\u001b[0m\u001b[0;34m)\u001b[0m\u001b[0;34m)\u001b[0m\u001b[0;34m\u001b[0m\u001b[0;34m\u001b[0m\u001b[0m\n\u001b[0m\u001b[1;32m   1432\u001b[0m \u001b[0;34m\u001b[0m\u001b[0m\n\u001b[1;32m   1433\u001b[0m         \u001b[0;32mwhile\u001b[0m \u001b[0mlen\u001b[0m\u001b[0;34m(\u001b[0m\u001b[0mself\u001b[0m\u001b[0;34m.\u001b[0m\u001b[0mmajorTicks\u001b[0m\u001b[0;34m)\u001b[0m \u001b[0;34m<\u001b[0m \u001b[0mnumticks\u001b[0m\u001b[0;34m:\u001b[0m\u001b[0;34m\u001b[0m\u001b[0;34m\u001b[0m\u001b[0m\n",
      "\u001b[0;32m~/.local/lib/python3.7/site-packages/matplotlib/axis.py\u001b[0m in \u001b[0;36mget_majorticklocs\u001b[0;34m(self)\u001b[0m\n\u001b[1;32m   1346\u001b[0m     \u001b[0;32mdef\u001b[0m \u001b[0mget_majorticklocs\u001b[0m\u001b[0;34m(\u001b[0m\u001b[0mself\u001b[0m\u001b[0;34m)\u001b[0m\u001b[0;34m:\u001b[0m\u001b[0;34m\u001b[0m\u001b[0;34m\u001b[0m\u001b[0m\n\u001b[1;32m   1347\u001b[0m         \u001b[0;34m\"\"\"Get the array of major tick locations in data coordinates.\"\"\"\u001b[0m\u001b[0;34m\u001b[0m\u001b[0;34m\u001b[0m\u001b[0m\n\u001b[0;32m-> 1348\u001b[0;31m         \u001b[0;32mreturn\u001b[0m \u001b[0mself\u001b[0m\u001b[0;34m.\u001b[0m\u001b[0mmajor\u001b[0m\u001b[0;34m.\u001b[0m\u001b[0mlocator\u001b[0m\u001b[0;34m(\u001b[0m\u001b[0;34m)\u001b[0m\u001b[0;34m\u001b[0m\u001b[0;34m\u001b[0m\u001b[0m\n\u001b[0m\u001b[1;32m   1349\u001b[0m \u001b[0;34m\u001b[0m\u001b[0m\n\u001b[1;32m   1350\u001b[0m     \u001b[0;32mdef\u001b[0m \u001b[0mget_minorticklocs\u001b[0m\u001b[0;34m(\u001b[0m\u001b[0mself\u001b[0m\u001b[0;34m)\u001b[0m\u001b[0;34m:\u001b[0m\u001b[0;34m\u001b[0m\u001b[0;34m\u001b[0m\u001b[0m\n",
      "\u001b[0;32m~/.local/lib/python3.7/site-packages/matplotlib/dates.py\u001b[0m in \u001b[0;36m__call__\u001b[0;34m(self)\u001b[0m\n\u001b[1;32m   1336\u001b[0m     \u001b[0;32mdef\u001b[0m \u001b[0m__call__\u001b[0m\u001b[0;34m(\u001b[0m\u001b[0mself\u001b[0m\u001b[0;34m)\u001b[0m\u001b[0;34m:\u001b[0m\u001b[0;34m\u001b[0m\u001b[0;34m\u001b[0m\u001b[0m\n\u001b[1;32m   1337\u001b[0m         \u001b[0;34m'Return the locations of the ticks'\u001b[0m\u001b[0;34m\u001b[0m\u001b[0;34m\u001b[0m\u001b[0m\n\u001b[0;32m-> 1338\u001b[0;31m         \u001b[0mself\u001b[0m\u001b[0;34m.\u001b[0m\u001b[0mrefresh\u001b[0m\u001b[0;34m(\u001b[0m\u001b[0;34m)\u001b[0m\u001b[0;34m\u001b[0m\u001b[0;34m\u001b[0m\u001b[0m\n\u001b[0m\u001b[1;32m   1339\u001b[0m         \u001b[0;32mreturn\u001b[0m \u001b[0mself\u001b[0m\u001b[0;34m.\u001b[0m\u001b[0m_locator\u001b[0m\u001b[0;34m(\u001b[0m\u001b[0;34m)\u001b[0m\u001b[0;34m\u001b[0m\u001b[0;34m\u001b[0m\u001b[0m\n\u001b[1;32m   1340\u001b[0m \u001b[0;34m\u001b[0m\u001b[0m\n",
      "\u001b[0;32m~/.local/lib/python3.7/site-packages/matplotlib/dates.py\u001b[0m in \u001b[0;36mrefresh\u001b[0;34m(self)\u001b[0m\n\u001b[1;32m   1362\u001b[0m     \u001b[0;32mdef\u001b[0m \u001b[0mrefresh\u001b[0m\u001b[0;34m(\u001b[0m\u001b[0mself\u001b[0m\u001b[0;34m)\u001b[0m\u001b[0;34m:\u001b[0m\u001b[0;34m\u001b[0m\u001b[0;34m\u001b[0m\u001b[0m\n\u001b[1;32m   1363\u001b[0m         \u001b[0;31m# docstring inherited\u001b[0m\u001b[0;34m\u001b[0m\u001b[0;34m\u001b[0m\u001b[0;34m\u001b[0m\u001b[0m\n\u001b[0;32m-> 1364\u001b[0;31m         \u001b[0mdmin\u001b[0m\u001b[0;34m,\u001b[0m \u001b[0mdmax\u001b[0m \u001b[0;34m=\u001b[0m \u001b[0mself\u001b[0m\u001b[0;34m.\u001b[0m\u001b[0mviewlim_to_dt\u001b[0m\u001b[0;34m(\u001b[0m\u001b[0;34m)\u001b[0m\u001b[0;34m\u001b[0m\u001b[0;34m\u001b[0m\u001b[0m\n\u001b[0m\u001b[1;32m   1365\u001b[0m         \u001b[0mself\u001b[0m\u001b[0;34m.\u001b[0m\u001b[0m_locator\u001b[0m \u001b[0;34m=\u001b[0m \u001b[0mself\u001b[0m\u001b[0;34m.\u001b[0m\u001b[0mget_locator\u001b[0m\u001b[0;34m(\u001b[0m\u001b[0mdmin\u001b[0m\u001b[0;34m,\u001b[0m \u001b[0mdmax\u001b[0m\u001b[0;34m)\u001b[0m\u001b[0;34m\u001b[0m\u001b[0;34m\u001b[0m\u001b[0m\n\u001b[1;32m   1366\u001b[0m \u001b[0;34m\u001b[0m\u001b[0m\n",
      "\u001b[0;32m~/.local/lib/python3.7/site-packages/matplotlib/dates.py\u001b[0m in \u001b[0;36mviewlim_to_dt\u001b[0;34m(self)\u001b[0m\n\u001b[1;32m   1096\u001b[0m                              \u001b[0;34m'often happens if you pass a non-datetime '\u001b[0m\u001b[0;34m\u001b[0m\u001b[0;34m\u001b[0m\u001b[0m\n\u001b[1;32m   1097\u001b[0m                              \u001b[0;34m'value to an axis that has datetime units'\u001b[0m\u001b[0;34m\u001b[0m\u001b[0;34m\u001b[0m\u001b[0m\n\u001b[0;32m-> 1098\u001b[0;31m                              .format(vmin))\n\u001b[0m\u001b[1;32m   1099\u001b[0m         \u001b[0;32mreturn\u001b[0m \u001b[0mnum2date\u001b[0m\u001b[0;34m(\u001b[0m\u001b[0mvmin\u001b[0m\u001b[0;34m,\u001b[0m \u001b[0mself\u001b[0m\u001b[0;34m.\u001b[0m\u001b[0mtz\u001b[0m\u001b[0;34m)\u001b[0m\u001b[0;34m,\u001b[0m \u001b[0mnum2date\u001b[0m\u001b[0;34m(\u001b[0m\u001b[0mvmax\u001b[0m\u001b[0;34m,\u001b[0m \u001b[0mself\u001b[0m\u001b[0;34m.\u001b[0m\u001b[0mtz\u001b[0m\u001b[0;34m)\u001b[0m\u001b[0;34m\u001b[0m\u001b[0;34m\u001b[0m\u001b[0m\n\u001b[1;32m   1100\u001b[0m \u001b[0;34m\u001b[0m\u001b[0m\n",
      "\u001b[0;31mValueError\u001b[0m: view limit minimum -36882.35 is less than 1 and is an invalid Matplotlib date value. This often happens if you pass a non-datetime value to an axis that has datetime units"
     ]
    }
   ],
   "source": [
    "BD.groupby(\n",
    "    ['Prevision', BD['FECHA CONFIRMACION'].dt.date])['ID CASO'].plot(x='FECHA CONFIRMACION', y='ID CASO', ax=ax, legend=False)"
   ]
  },
  {
   "cell_type": "code",
   "execution_count": null,
   "metadata": {
    "scrolled": true
   },
   "outputs": [],
   "source": [
    "columnas_paciente = list(\n",
    "    ['SSALUD COMUNA PACIENTE', 'TIPO ESTABLECIMIENTO', 'ESTABLECIMIENTO',\n",
    "     'CESFAM', 'TIPO DE ATENCION', 'TIPO DE HOSPITALIZACION',\n",
    "     'PACIENTE EXTRANJERO', 'PAIS ORIGEN', 'REGION PACIENTE', 'COMUNA',\n",
    "     'PASAPORTE', 'RUN', 'DV', 'ES FONASA', 'PREVISION', 'SEXO', 'NOMBRES',\n",
    "     'APELLIDO PATERNO', 'APELLIDO MATERNO', 'FECHA NACIMIENTO',\n",
    "     'EDAD', 'ANTECEDENTES MORBIDOS'])"
   ]
  },
  {
   "cell_type": "code",
   "execution_count": null,
   "metadata": {},
   "outputs": [],
   "source": [
    "BD[columnas_paciente]"
   ]
  }
 ],
 "metadata": {
  "kernelspec": {
   "display_name": "Python 3",
   "language": "python",
   "name": "python3"
  },
  "language_info": {
   "codemirror_mode": {
    "name": "ipython",
    "version": 3
   },
   "file_extension": ".py",
   "mimetype": "text/x-python",
   "name": "python",
   "nbconvert_exporter": "python",
   "pygments_lexer": "ipython3",
   "version": "3.7.3"
  }
 },
 "nbformat": 4,
 "nbformat_minor": 4
}
