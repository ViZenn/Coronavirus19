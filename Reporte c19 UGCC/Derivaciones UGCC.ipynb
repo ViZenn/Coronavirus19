{
 "cells": [
  {
   "cell_type": "markdown",
   "metadata": {},
   "source": [
    "# Derivaciones UGCC"
   ]
  },
  {
   "cell_type": "code",
   "execution_count": 1,
   "metadata": {},
   "outputs": [],
   "source": [
    "import pandas as pd\n",
    "import numpy as np\n",
    "import matplotlib.pyplot as plt\n",
    "import matplotlib.dates as mdates\n",
    "\n",
    "import scipy \n",
    "from scipy import stats\n",
    "import datetime as dt\n",
    "from datetime import timedelta  \n",
    "import urllib.request  # importar archivos web\n",
    "from lifelines import NelsonAalenFitter # modelamiento survival\n",
    "\n",
    "# para tratar de poner espanol\n",
    "from datetime import date, datetime, time\n",
    "from babel.dates import format_date, format_datetime, format_time, format_timedelta, Locale\n",
    "import locale                                    # para tratar de poner espanol\n",
    "# locale.setlocale(locale.LC_ALL,'es_ES.UTF-8')  \n",
    "\n",
    "from IPython.core.interactiveshell import InteractiveShell\n",
    "InteractiveShell.ast_node_interactivity = \"all\"\n",
    "%matplotlib inline"
   ]
  },
  {
   "cell_type": "code",
   "execution_count": 2,
   "metadata": {},
   "outputs": [],
   "source": [
    "BD = pd.read_excel('./BDs/Derivaciones/Derivaciones historicas 20200805.xlsx'\n",
    "                   , dayfirst=True)"
   ]
  },
  {
   "cell_type": "markdown",
   "metadata": {},
   "source": [
    "# Algunos preparativos generales"
   ]
  },
  {
   "cell_type": "code",
   "execution_count": 3,
   "metadata": {},
   "outputs": [
    {
     "data": {
      "text/plain": [
       "Index(['id', 'Pestaña', 'Id Madre', 'Servicio Salud', 'Origen', 'Tipo Destino',\n",
       "       'Destino', 'Tipo cama', 'Fecha creación', 'Hora creación',\n",
       "       'Fecha derivación exitosa', 'Hora derivación exitosa', 'Especialidad',\n",
       "       'Nombre Paciente', 'rut paciente', 'Nuevo RUT Paciente', 'Edad días',\n",
       "       'Edad meses', 'Edad años', 'Diagnóstico', 'Responsable', 'Rol',\n",
       "       'Riesgo', 'cambio riesgo', 'Convenio', 'Paciente crónico', 'GES',\n",
       "       'Dias de Estada', 'Alerta dias de estada', 'Tramo Fonasa',\n",
       "       'Asistencia Ventricular', 'Tipo compra', 'ECMO', 'Id anterior',\n",
       "       'Re-derivaciones', 'ID-RNacidos', 'Contingencia', 'Cuenta GRD'],\n",
       "      dtype='object')"
      ]
     },
     "execution_count": 3,
     "metadata": {},
     "output_type": "execute_result"
    }
   ],
   "source": [
    "BD.columns"
   ]
  },
  {
   "cell_type": "code",
   "execution_count": 4,
   "metadata": {},
   "outputs": [],
   "source": [
    "BD = BD.drop(columns='Alerta dias de estada')"
   ]
  },
  {
   "cell_type": "code",
   "execution_count": 5,
   "metadata": {},
   "outputs": [],
   "source": [
    "mapa_categorias = dict(\n",
    "  {'PRIVADO'\t: 'Privado',\n",
    "   'PÚBLICO'\t: 'Público'\n",
    "    })\n",
    "\n",
    "BD['Tipo Destino'] = BD['Tipo Destino'].replace(mapa_categorias)"
   ]
  },
  {
   "cell_type": "code",
   "execution_count": 6,
   "metadata": {},
   "outputs": [],
   "source": [
    "BD['Fecha creación'] = BD['Hora creación'].astype('str') + ' ' + BD['Fecha creación'].astype('str')\n",
    "BD['Fecha derivación exitosa'] = BD['Hora derivación exitosa'].astype('str') + ' ' + BD['Fecha derivación exitosa'].astype('str')"
   ]
  },
  {
   "cell_type": "code",
   "execution_count": 7,
   "metadata": {},
   "outputs": [],
   "source": [
    "BD = BD.drop(columns= ['Hora creación', 'Hora derivación exitosa'])"
   ]
  },
  {
   "cell_type": "code",
   "execution_count": 8,
   "metadata": {},
   "outputs": [],
   "source": [
    "# lo que es fecha lo dejo como tal para después poder analizar\n",
    "# fechas = [s for s in BD.columns if \"Fecha\" in s]\n",
    "\n",
    "fechas = 'cambio riesgo', 'Fecha creación', 'Fecha derivación exitosa'\n",
    "for date in fechas:\n",
    "    BD[date] = pd.to_datetime(BD[date],\n",
    "                              dayfirst=True,\n",
    "                             errors='coerce')"
   ]
  },
  {
   "cell_type": "code",
   "execution_count": null,
   "metadata": {},
   "outputs": [],
   "source": []
  },
  {
   "cell_type": "markdown",
   "metadata": {},
   "source": [
    "# Algunas definiciones"
   ]
  },
  {
   "cell_type": "code",
   "execution_count": 9,
   "metadata": {},
   "outputs": [
    {
     "name": "stdout",
     "output_type": "stream",
     "text": [
      "Casos válidos\n"
     ]
    },
    {
     "data": {
      "text/plain": [
       "Histórica                       4807\n",
       "Nula                            1872\n",
       "Errónea                          300\n",
       "Exitosa                           46\n",
       "Buscando o asignando destino       2\n",
       "Name: Pestaña, dtype: int64"
      ]
     },
     "execution_count": 9,
     "metadata": {},
     "output_type": "execute_result"
    },
    {
     "data": {
      "text/plain": [
       "True     4853\n",
       "False    2174\n",
       "Name: Pestaña, dtype: int64"
      ]
     },
     "execution_count": 9,
     "metadata": {},
     "output_type": "execute_result"
    },
    {
     "name": "stdout",
     "output_type": "stream",
     "text": [
      "\n",
      "\n",
      "Cama UPC\n"
     ]
    },
    {
     "data": {
      "text/plain": [
       "UCI           2446\n",
       "UTI           1860\n",
       "BASICA         505\n",
       "AGUDA           36\n",
       "Seleccione       1\n",
       "Name: Tipo cama, dtype: int64"
      ]
     },
     "execution_count": 9,
     "metadata": {},
     "output_type": "execute_result"
    },
    {
     "data": {
      "text/plain": [
       "True     6060\n",
       "False     967\n",
       "Name: Tipo cama, dtype: int64"
      ]
     },
     "execution_count": 9,
     "metadata": {},
     "output_type": "execute_result"
    }
   ],
   "source": [
    "# temporalidad de los casos\n",
    "# Dejo los casos nulos y erroneos y 'Buscando o asignando destino', \n",
    "# Me quedo solo con: 'Historicas' y 'Exitosa'\n",
    "\n",
    "caso_valido = (BD.Pestaña == 'Histórica') | (BD.Pestaña == 'Exitosa')\n",
    "# BD.loc[caso_valido, 'Subset_validos'] = 'Validos'\n",
    "\n",
    "print('Casos válidos')\n",
    "BD.Pestaña.value_counts()\n",
    "caso_valido.value_counts()\n",
    "\n",
    "# Me quedo sólo con las derivaciones tipo UPC\n",
    "camaUPC = (BD['Tipo cama'] == 'UCI') | (BD['Tipo cama'] == 'UTI')\n",
    "# BD.loc[camaUPC, 'Subset_UPC'] = 'UPC'\n",
    "\n",
    "print('\\n')\n",
    "print('Cama UPC')\n",
    "BD.loc[caso_valido]['Tipo cama'].value_counts() #sólo los válidos\n",
    "camaUPC.value_counts()"
   ]
  },
  {
   "cell_type": "markdown",
   "metadata": {},
   "source": [
    "tipo de derivación: enprivado, intra-publico, publico-privado, propios"
   ]
  },
  {
   "cell_type": "code",
   "execution_count": 10,
   "metadata": {},
   "outputs": [
    {
     "data": {
      "text/plain": [
       "Público a Privado     3698\n",
       "Intra Público          345\n",
       "Intra SSVQ             204\n",
       "Desde y en Privado      58\n",
       "Name: Tipo_derivacion, dtype: int64"
      ]
     },
     "execution_count": 10,
     "metadata": {},
     "output_type": "execute_result"
    }
   ],
   "source": [
    "publico_privado =     (BD['Servicio Salud'] == 'SSVMQ')    &      (BD['Tipo Destino'] == 'Privado')\n",
    "enprivado       =      (BD.Origen == BD.Destino )           &      (BD['Tipo Destino'] == 'Privado')\n",
    "intra_publico   =     (BD['Servicio Salud'] == 'SSVMQ')    &      (BD['Tipo Destino'] == 'PUBLICO')\n",
    "intra_SSVQ      =     (BD['Servicio Salud'] == 'SSVMQ')    & (\n",
    "                            (BD['Destino'].str.contains('Gustavo Fricke') == True) |\n",
    "                            (BD['Destino'].str.contains('San Martín de Quillota') == True) |\n",
    "                            (BD['Destino'].str.contains('H. Quilpué') == True) \n",
    "                            )\n",
    "\n",
    "BD.loc[publico_privado, 'Tipo_derivacion'] = 'Público a Privado'\n",
    "BD.loc[enprivado,       'Tipo_derivacion'] = 'Desde y en Privado'\n",
    "BD.loc[intra_publico,   'Tipo_derivacion'] = 'Intra Público'\n",
    "BD.loc[intra_SSVQ,      'Tipo_derivacion'] = 'Intra SSVQ'\n",
    "BD[caso_valido & camaUPC].Tipo_derivacion.value_counts()"
   ]
  },
  {
   "cell_type": "code",
   "execution_count": 11,
   "metadata": {},
   "outputs": [
    {
     "data": {
      "text/plain": [
       "True     5085\n",
       "False    1942\n",
       "dtype: int64"
      ]
     },
     "execution_count": 11,
     "metadata": {},
     "output_type": "execute_result"
    }
   ],
   "source": [
    "DIGAMOS_QUESI = ((publico_privado | intra_publico) & camaUPC)\n",
    "DIGAMOS_QUESI.value_counts()"
   ]
  },
  {
   "cell_type": "code",
   "execution_count": 12,
   "metadata": {
    "scrolled": true
   },
   "outputs": [],
   "source": [
    "def valor_porcentaje(BASEDATOS, COLUMNA, VALOR):\n",
    "    df = BASEDATOS\n",
    "    col = COLUMNA\n",
    "    try:\n",
    "        total          = df[col].value_counts().sum()\n",
    "        cantidad_valor = df[col].value_counts()[VALOR]\n",
    "        cantidad_perc  = round(\n",
    "            df[col].value_counts()[VALOR]/df[col].value_counts().sum()*100,\n",
    "            2)\n",
    "\n",
    "        val = str(cantidad_valor) + str(' (') + str(cantidad_perc) + str('\\%)')\n",
    "        return [val, cantidad_valor]\n",
    "    except:\n",
    "        return ['0 (0%)', str('0')]\n",
    "        \n",
    "\n",
    "# valor_porcentaje(BD, 'Pestaña', 'Nula')"
   ]
  },
  {
   "cell_type": "code",
   "execution_count": 13,
   "metadata": {},
   "outputs": [
    {
     "data": {
      "text/plain": [
       "'./Informe v1/textos/texto_descriptorUGCC.txt'"
      ]
     },
     "execution_count": 13,
     "metadata": {},
     "output_type": "execute_result"
    }
   ],
   "source": [
    "ruta   = './Informe v1/textos/'\n",
    "nombre = 'texto_descriptorUGCC' + '.txt'\n",
    "ruta+nombre\n",
    "texto  = open(str(ruta+nombre),'w')\n",
    "\n",
    "\n",
    "dumx = BD\n",
    "dumm = dumx.loc[caso_valido]\n",
    "dum1 = dumx.loc[caso_valido & camaUPC]\n",
    "\n",
    "\n",
    "text1= 'La base de datos contiene {t1} registros. De ellos {t2} son \\\n",
    "registros Nulos y {t3} son Erroneos. El resto del informe sólo \\\n",
    "contiene información de los {t4} casos Históricos \\\n",
    "y {t5} casos Exitosos. '.format(\n",
    "    t1 = str(BD.Pestaña.value_counts().sum()),\n",
    "    t2 = valor_porcentaje(dumx, 'Pestaña', 'Nula')[0],\n",
    "    t3 = valor_porcentaje(dumx, 'Pestaña', 'Errónea')[0],\n",
    "    t4 = valor_porcentaje(dumx, 'Pestaña', 'Histórica')[0],\n",
    "    t5 = valor_porcentaje(dumx, 'Pestaña', 'Exitosa')[0]\n",
    ")\n",
    "\n",
    "\n",
    "text2= 'La base de datos, al descontar los Nulos y Erroneos, contiene {q1} casos \\\n",
    "de cama UCI, {q2} de UTI, {q3} de cama aguda y {q4} de cama básica. \\\n",
    "Para el resto del informe sólo se contarán camas UPC, es decir UCI y \\\n",
    "UTI. '.format(\n",
    "    q1 = valor_porcentaje(dumm, 'Tipo cama', 'UCI')[0],\n",
    "    q2 = valor_porcentaje(dumm, 'Tipo cama', 'UTI')[0],\n",
    "    q3 = valor_porcentaje(dumm, 'Tipo cama', 'AGUDA')[0],\n",
    "    q4 = valor_porcentaje(dumm, 'Tipo cama', 'BASICA')[0],\n",
    ")\n",
    "\n",
    "\n",
    "text3= 'La base datos, al descontar Nulos y Erroneos, y sólo contar camas UCI \\\n",
    "y UTI, tiene {r1} casos. Estos casos corresponden a derivaciones \\\n",
    "de distinto tipo, donde se encuentran {r2} desde público a privado, \\\n",
    "{r3} pacientes FONASA que ingresan a clínica privada y se mantienen \\\n",
    "ahí, {r4} pacientes FONASA que ingresan a hospitales públicos y son \\\n",
    "derivados a otros hospitales públicos de otros Servicios de salud y \\\n",
    "{r5} pacientes que fueron derivados entre los mismos hospitales del \\\n",
    "SSVQ.  \\linebreak'.format(\n",
    "    r1 = str(dumm.shape[0]),\n",
    "    r2 = valor_porcentaje(dum1, 'Tipo_derivacion', 'Público a Privado')[0],\n",
    "    r3 = valor_porcentaje(dum1, 'Tipo_derivacion', 'Desde y en Privado')[0],\n",
    "    r4 = valor_porcentaje(dum1, 'Tipo_derivacion', 'Intra Público')[0],\n",
    "    r5 = valor_porcentaje(dum1, 'Tipo_derivacion', 'Intra SSVQ')[0]\n",
    ")\n",
    "\n",
    "A_ESCRIBIR = text1 + text2 + text3\n",
    "print(A_ESCRIBIR,file = texto)\n",
    "texto.close()"
   ]
  },
  {
   "cell_type": "code",
   "execution_count": 14,
   "metadata": {},
   "outputs": [],
   "source": [
    "from string import Template"
   ]
  },
  {
   "cell_type": "code",
   "execution_count": 15,
   "metadata": {},
   "outputs": [],
   "source": [
    "def arbol_inicial(BASEDATOS):\n",
    "    caso_valido = (BASEDATOS.Pestaña.str.contains('Histórica')==True) | (BASEDATOS.Pestaña.str.contains('Exitosa')==True)\n",
    "    camaUPC = (BASEDATOS['Tipo cama'] == 'UCI') | (BASEDATOS['Tipo cama'] == 'UTI')\n",
    "    \n",
    "    dumx = BASEDATOS\n",
    "\n",
    "\n",
    "    dumm = BASEDATOS.loc[caso_valido]\n",
    "    dumm1 = BASEDATOS.loc[caso_valido & camaUPC]\n",
    "    \n",
    "    der1 = BASEDATOS.loc[caso_valido & camaUPC &\n",
    "                         (BASEDATOS.Tipo_derivacion == 'Público a Privado')]\n",
    "\n",
    "    der3 = BASEDATOS.loc[caso_valido & camaUPC &\n",
    "                         (BASEDATOS.Tipo_derivacion == 'Intra Público')]\n",
    "    \n",
    "    arbol1 = Template('''\n",
    "\n",
    "    \\\\node {Registros totales \\\\\\ ($t1)}[edge from parent fork down]\n",
    "    [sibling distance=4cm]\n",
    "      child {node { Historicos ($t4)  \\\\\\ Exitosos ($t5)}\n",
    "        child {node {Cama Básica \\\\\\ ($q4)}}\n",
    "        child {node {Cama Aguda \\\\\\ ($q3)}}\n",
    "        child {node {Casos UCI ($q1) \\\\\\ Casos UTI ($q2)}\n",
    "            child {node {Público a Privado \\\\\\ ($r2)}}\n",
    "            child {node {FONASA en privados \\\\\\ ($r3)}}\n",
    "            child {node {Hospitales otros SS \\\\\\ ($r4)}            }\n",
    "            child {node {Dentro de SSVQ \\\\\\ ($r5)}}\n",
    "        }\n",
    "    }\n",
    "    child {node {Erroneos ($t3) \\\\\\ Nulos  ($t2)}}\n",
    "    ''').safe_substitute(\n",
    "          t1 = str(dumx.Pestaña.value_counts().sum()), \n",
    "          t2 = valor_porcentaje(dumx, 'Pestaña', 'Nula')[1], \n",
    "          t3 = valor_porcentaje(dumx, 'Pestaña', 'Errónea')[1], \n",
    "          t4 = valor_porcentaje(dumx, 'Pestaña', 'Histórica')[1], \n",
    "          t5 = valor_porcentaje(dumx, 'Pestaña', 'Exitosa')[1], \n",
    "\n",
    "          q1 = valor_porcentaje(dumm, 'Tipo cama', 'UCI')[1], \n",
    "          q2 = valor_porcentaje(dumm, 'Tipo cama', 'UTI')[1], \n",
    "          q3 = valor_porcentaje(dumm, 'Tipo cama', 'AGUDA')[1], \n",
    "          q4 = valor_porcentaje(dumm, 'Tipo cama', 'BASICA')[1], \n",
    "\n",
    "          r1 = str(dumm1.shape[1]), \n",
    "          r2 = valor_porcentaje(dumm1, 'Tipo_derivacion', 'Público a Privado')[1], \n",
    "          r3 = valor_porcentaje(dumm1, 'Tipo_derivacion', 'Desde y en Privado')[1], \n",
    "          r4 = valor_porcentaje(dumm1, 'Tipo_derivacion', 'Intra Público')[1],\n",
    "          r5 = valor_porcentaje(dumm1, 'Tipo_derivacion', 'Intra SSVQ')[1],\n",
    "    )\n",
    "    return arbol1"
   ]
  },
  {
   "cell_type": "code",
   "execution_count": 16,
   "metadata": {},
   "outputs": [
    {
     "data": {
      "text/plain": [
       "'./Informe v1/textos/arbol_derivaciones2010.arbol'"
      ]
     },
     "execution_count": 16,
     "metadata": {},
     "output_type": "execute_result"
    }
   ],
   "source": [
    "ruta   = './Informe v1/textos/'\n",
    "nombre = 'arbol_derivaciones2010' + '.arbol'\n",
    "ruta+nombre\n",
    "texto  = open(str(ruta+nombre),'w')\n",
    "\n",
    "A_ESCRIBIR = arbol_inicial(\n",
    "    BD\n",
    ")\n",
    "\n",
    "print(A_ESCRIBIR,file = texto)\n",
    "texto.close()"
   ]
  },
  {
   "cell_type": "code",
   "execution_count": 17,
   "metadata": {},
   "outputs": [
    {
     "data": {
      "text/plain": [
       "'./Informe v1/textos/arbol_derivaciones2019.arbol'"
      ]
     },
     "execution_count": 17,
     "metadata": {},
     "output_type": "execute_result"
    },
    {
     "name": "stdout",
     "output_type": "stream",
     "text": [
      "\n",
      "\n",
      "    \\node {Registros totales \\\\ (555)}[edge from parent fork down]\n",
      "    [sibling distance=4cm]\n",
      "      child {node { Historicos (340)  \\\\ Exitosos (0)}\n",
      "        child {node {Cama Básica \\\\ (32)}}\n",
      "        child {node {Cama Aguda \\\\ (0)}}\n",
      "        child {node {Casos UCI (182) \\\\ Casos UTI (126)}\n",
      "            child {node {Público a Privado \\\\ (262)}}\n",
      "            child {node {FONASA en privados \\\\ (0)}}\n",
      "            child {node {Hospitales otros SS \\\\ (22)}            }\n",
      "            child {node {Dentro de SSVQ \\\\ (24)}}\n",
      "        }\n",
      "    }\n",
      "    child {node {Erroneos (25) \\\\ Nulos  (190)}}\n",
      "    \n"
     ]
    }
   ],
   "source": [
    "ruta   = './Informe v1/textos/'\n",
    "nombre = 'arbol_derivaciones2019' + '.arbol'\n",
    "ruta+nombre\n",
    "texto  = open(str(ruta+nombre),'w')\n",
    "\n",
    "\n",
    "A_ESCRIBIR = arbol_inicial(\n",
    "    BD.loc[\n",
    "        (BD['Fecha creación']>pd.to_datetime('2019-01-01')) &\n",
    "        (BD['Fecha creación']<pd.to_datetime('2020-01-01'))\n",
    "    ]\n",
    ")\n",
    "\n",
    "print(A_ESCRIBIR,file = texto)\n",
    "texto.close()\n",
    "print(A_ESCRIBIR)"
   ]
  },
  {
   "cell_type": "code",
   "execution_count": 18,
   "metadata": {},
   "outputs": [
    {
     "data": {
      "text/plain": [
       "'./Informe v1/textos/arbol_derivaciones2020.arbol'"
      ]
     },
     "execution_count": 18,
     "metadata": {},
     "output_type": "execute_result"
    }
   ],
   "source": [
    "ruta   = './Informe v1/textos/'\n",
    "nombre = 'arbol_derivaciones2020' + '.arbol'\n",
    "ruta+nombre\n",
    "texto  = open(str(ruta+nombre),'w')\n",
    "\n",
    "\n",
    "A_ESCRIBIR = arbol_inicial(\n",
    "    BD.loc[\n",
    "        (BD['Fecha creación']>pd.to_datetime('2020-01-01'))\n",
    "    ]\n",
    ")\n",
    "\n",
    "print(A_ESCRIBIR,file = texto)\n",
    "texto.close()"
   ]
  },
  {
   "cell_type": "code",
   "execution_count": 19,
   "metadata": {},
   "outputs": [],
   "source": [
    "BD = BD[caso_valido & camaUPC]"
   ]
  },
  {
   "cell_type": "code",
   "execution_count": 20,
   "metadata": {},
   "outputs": [
    {
     "data": {
      "text/plain": [
       "<matplotlib.axes._subplots.AxesSubplot at 0x7fd4f70b6898>"
      ]
     },
     "execution_count": 20,
     "metadata": {},
     "output_type": "execute_result"
    },
    {
     "data": {
      "image/png": "[encoded data removed]",
      "text/plain": [
       "<Figure size 432x288 with 1 Axes>"
      ]
     },
     "metadata": {
      "needs_background": "light"
     },
     "output_type": "display_data"
    }
   ],
   "source": [
    "pd.crosstab(BD.Tipo_derivacion, BD['Fecha creación'].dt.year).T.plot(kind='barh')\n"
   ]
  },
  {
   "cell_type": "code",
   "execution_count": null,
   "metadata": {},
   "outputs": [],
   "source": []
  },
  {
   "cell_type": "code",
   "execution_count": 21,
   "metadata": {},
   "outputs": [
    {
     "data": {
      "text/plain": [
       "count                    4306\n",
       "unique                   4200\n",
       "top       2018-02-19 00:10:00\n",
       "freq                        4\n",
       "first     2009-05-21 08:28:00\n",
       "last      2020-08-04 14:08:00\n",
       "Name: Fecha creación, dtype: object"
      ]
     },
     "execution_count": 21,
     "metadata": {},
     "output_type": "execute_result"
    }
   ],
   "source": [
    "BD['Fecha creación'].describe()"
   ]
  },
  {
   "cell_type": "code",
   "execution_count": 22,
   "metadata": {},
   "outputs": [
    {
     "data": {
      "text/plain": [
       "ADULTO          3309\n",
       "NEONATOLOGIA     765\n",
       "PEDIATRIA        191\n",
       "OBSTETRICO        16\n",
       "Name: Especialidad, dtype: int64"
      ]
     },
     "execution_count": 22,
     "metadata": {},
     "output_type": "execute_result"
    }
   ],
   "source": [
    "BD.Especialidad.value_counts()\n"
   ]
  },
  {
   "cell_type": "code",
   "execution_count": 23,
   "metadata": {},
   "outputs": [
    {
     "data": {
      "text/plain": [
       "'./Informe v1/textos/00Derivacionesxespecialidad10a.tab'"
      ]
     },
     "execution_count": 23,
     "metadata": {},
     "output_type": "execute_result"
    },
    {
     "name": "stdout",
     "output_type": "stream",
     "text": [
      "Especialidad    ADULTO  NEONATOLOGIA  PEDIATRIA\n",
      "Fecha creación                                 \n",
      "2010               224            68          6\n",
      "2011               208           104         17\n",
      "2012               368            90         17\n",
      "2013               466            66         28\n",
      "2014               456            88          3\n",
      "2015               359            66         19\n",
      "2016               267            55         33\n",
      "2017               296            54         35\n",
      "2018               204            45          7\n",
      "2019               219            66         23\n",
      "2020               115            49          1\n"
     ]
    }
   ],
   "source": [
    "ruta   = './Informe v1/textos/'\n",
    "nombre = '00Derivacionesxespecialidad10a' + '.tab'\n",
    "ruta+nombre\n",
    "tabla  = open(str(ruta+nombre),'w')\n",
    "\n",
    "Derivaciones = BD.loc[\n",
    "    (BD['Fecha creación']>pd.to_datetime('2010-01-01')) &\n",
    "    DIGAMOS_QUESI].copy()\n",
    "\n",
    "A_ESCRIBIR = pd.crosstab(\n",
    "    Derivaciones['Fecha creación'].dt.year,\n",
    "    Derivaciones.Especialidad)[['ADULTO',  'NEONATOLOGIA',  'PEDIATRIA']]\n",
    "\n",
    "print(A_ESCRIBIR.to_latex(bold_rows= True,\n",
    "                    float_format=\"%.1f\",\n",
    "                    column_format = 'rcccccc',\n",
    "                    multicolumn_format = 'c',\n",
    "                    col_space=0.01),\n",
    "      file=tabla)\n",
    "tabla.close()\n",
    "print(A_ESCRIBIR)"
   ]
  },
  {
   "cell_type": "code",
   "execution_count": 24,
   "metadata": {},
   "outputs": [
    {
     "data": {
      "text/plain": [
       "'./Informe v1/textos/00Derivaciones_segunorigenydestino.tab'"
      ]
     },
     "execution_count": 24,
     "metadata": {},
     "output_type": "execute_result"
    },
    {
     "name": "stdout",
     "output_type": "stream",
     "text": [
      "Tipo_derivacion  Intra Público  Intra SSVQ  Público a Privado\n",
      "Fecha creación                                               \n",
      "2009                         4           0                 64\n",
      "2010                        11           1                212\n",
      "2011                         6           1                201\n",
      "2012                        44          23                301\n",
      "2013                        44          31                391\n",
      "2014                        17          24                415\n",
      "2015                        22          14                323\n",
      "2016                        18          16                233\n",
      "2017                         6          22                268\n",
      "2018                         6          18                180\n",
      "2019                         9          19                191\n",
      "2020                        17          14                 84\n"
     ]
    }
   ],
   "source": [
    "ruta   = './Informe v1/textos/'\n",
    "nombre = '00Derivaciones_segunorigenydestino' + '.tab'\n",
    "ruta+nombre\n",
    "tabla  = open(str(ruta+nombre),'w')\n",
    "\n",
    "Derivaciones = BD.loc[\n",
    "    (BD.Especialidad == 'ADULTO') &\n",
    "    DIGAMOS_QUESI].copy()\n",
    "\n",
    "A_ESCRIBIR = pd.crosstab(\n",
    "    Derivaciones['Fecha creación'].dt.year,\n",
    "    Derivaciones.Tipo_derivacion)\n",
    "\n",
    "print(A_ESCRIBIR.to_latex(bold_rows= True,\n",
    "                    float_format=\"%.0f\",\n",
    "                    column_format = 'rcccccc',\n",
    "                    multicolumn_format = 'c',\n",
    "                    col_space=0.01,\n",
    "                         na_rep = '-'),\n",
    "      file=tabla)\n",
    "tabla.close()\n",
    "print(A_ESCRIBIR)"
   ]
  },
  {
   "cell_type": "code",
   "execution_count": 25,
   "metadata": {
    "scrolled": true
   },
   "outputs": [
    {
     "data": {
      "text/plain": [
       "'./Informe v1/textos/00Derivacionesxhospital2020.tab'"
      ]
     },
     "execution_count": 25,
     "metadata": {},
     "output_type": "execute_result"
    },
    {
     "name": "stdout",
     "output_type": "stream",
     "text": [
      "Origen          H. Gustavo Fricke  H. Quilpué  H. San Martín de Quillota  \\\n",
      "Fecha creación                                                             \n",
      "2017-01-01                   12.0         1.0                        5.0   \n",
      "2017-02-01                    6.0         3.0                        4.0   \n",
      "2017-03-01                   11.0         2.0                        7.0   \n",
      "2017-04-01                   15.0         3.0                        5.0   \n",
      "2017-05-01                   12.0         1.0                        7.0   \n",
      "2017-06-01                    2.0         3.0                       22.0   \n",
      "2017-07-01                   17.0         6.0                       10.0   \n",
      "2017-08-01                   14.0         5.0                       15.0   \n",
      "2017-09-01                   15.0         9.0                        6.0   \n",
      "2017-10-01                   16.0         5.0                       16.0   \n",
      "2017-11-01                   10.0         3.0                       16.0   \n",
      "2017-12-01                    2.0         2.0                        8.0   \n",
      "2018-01-01                   12.0         3.0                        5.0   \n",
      "2018-02-01                   11.0         5.0                       10.0   \n",
      "2018-03-01                    4.0         5.0                        7.0   \n",
      "2018-04-01                   10.0         7.0                       12.0   \n",
      "2018-05-01                    1.0         9.0                        7.0   \n",
      "2018-06-01                    NaN         9.0                       10.0   \n",
      "2018-07-01                    4.0        11.0                        9.0   \n",
      "2018-08-01                    NaN         4.0                        2.0   \n",
      "2018-09-01                    6.0         6.0                        1.0   \n",
      "2018-10-01                    5.0         5.0                        4.0   \n",
      "2018-11-01                    1.0         3.0                        6.0   \n",
      "2018-12-01                    2.0         1.0                        6.0   \n",
      "2019-01-01                    4.0        19.0                       10.0   \n",
      "2019-02-01                    2.0        16.0                        1.0   \n",
      "2019-03-01                    6.0         3.0                        8.0   \n",
      "2019-04-01                    3.0         5.0                        7.0   \n",
      "2019-05-01                    8.0         7.0                        6.0   \n",
      "2019-06-01                   10.0         2.0                       11.0   \n",
      "2019-07-01                    5.0         7.0                        6.0   \n",
      "2019-08-01                    5.0         2.0                       12.0   \n",
      "2019-09-01                    3.0         2.0                        5.0   \n",
      "2019-10-01                    6.0         5.0                        7.0   \n",
      "2019-11-01                    5.0         1.0                        3.0   \n",
      "2019-12-01                    2.0         6.0                        9.0   \n",
      "2020-01-01                    5.0         9.0                        3.0   \n",
      "2020-02-01                    5.0         8.0                        3.0   \n",
      "2020-03-01                    6.0         9.0                        2.0   \n",
      "2020-04-01                    NaN         3.0                        1.0   \n",
      "2020-05-01                    9.0         NaN                        3.0   \n",
      "2020-06-01                    1.0        11.0                        8.0   \n",
      "2020-07-01                    4.0         5.0                       14.0   \n",
      "2020-08-01                    2.0         NaN                        2.0   \n",
      "\n",
      "Origen          Total  \n",
      "Fecha creación         \n",
      "2017-01-01       18.0  \n",
      "2017-02-01       13.0  \n",
      "2017-03-01       20.0  \n",
      "2017-04-01       23.0  \n",
      "2017-05-01       20.0  \n",
      "2017-06-01       27.0  \n",
      "2017-07-01       33.0  \n",
      "2017-08-01       34.0  \n",
      "2017-09-01       30.0  \n",
      "2017-10-01       37.0  \n",
      "2017-11-01       29.0  \n",
      "2017-12-01       12.0  \n",
      "2018-01-01       20.0  \n",
      "2018-02-01       26.0  \n",
      "2018-03-01       16.0  \n",
      "2018-04-01       29.0  \n",
      "2018-05-01       17.0  \n",
      "2018-06-01       19.0  \n",
      "2018-07-01       24.0  \n",
      "2018-08-01        6.0  \n",
      "2018-09-01       13.0  \n",
      "2018-10-01       14.0  \n",
      "2018-11-01       10.0  \n",
      "2018-12-01        9.0  \n",
      "2019-01-01       33.0  \n",
      "2019-02-01       19.0  \n",
      "2019-03-01       17.0  \n",
      "2019-04-01       15.0  \n",
      "2019-05-01       21.0  \n",
      "2019-06-01       23.0  \n",
      "2019-07-01       18.0  \n",
      "2019-08-01       19.0  \n",
      "2019-09-01       10.0  \n",
      "2019-10-01       18.0  \n",
      "2019-11-01        9.0  \n",
      "2019-12-01       17.0  \n",
      "2020-01-01       17.0  \n",
      "2020-02-01       16.0  \n",
      "2020-03-01       17.0  \n",
      "2020-04-01        4.0  \n",
      "2020-05-01       12.0  \n",
      "2020-06-01       20.0  \n",
      "2020-07-01       23.0  \n",
      "2020-08-01        4.0  \n"
     ]
    }
   ],
   "source": [
    "ruta   = './Informe v1/textos/'\n",
    "nombre = '00Derivacionesxhospital2020' + '.tab'\n",
    "ruta+nombre\n",
    "tabla  = open(str(ruta+nombre),'w')\n",
    "\n",
    "Derivaciones = BD.loc[\n",
    "    (BD.Especialidad == 'ADULTO') &\n",
    "    (BD['Fecha creación']>pd.to_datetime('2017-01-01') ) &\n",
    "     DIGAMOS_QUESI\n",
    "].copy()\n",
    "\n",
    "dum = Derivaciones\n",
    "agrupado = dum.groupby(\n",
    "    [pd.Grouper(key='Fecha creación',freq = 'MS', closed='left'),\n",
    "    dum.Origen])\n",
    "A_ESCRIBIR = agrupado.id.count().unstack()[['H. Gustavo Fricke',\n",
    "                                            'H. Quilpué',\n",
    "                                            'H. San Martín de Quillota']]\n",
    "# Sumo el mensual\n",
    "A_ESCRIBIR['Total'] =A_ESCRIBIR.agg('sum', axis ='columns')\n",
    "\n",
    "print(A_ESCRIBIR.to_latex(bold_rows= True,\n",
    "                    float_format=\"%.0f\",\n",
    "                    column_format = 'rcccccc',\n",
    "                    multicolumn_format = 'c',\n",
    "                    col_space=0.01,\n",
    "                         na_rep = '-'),\n",
    "      file=tabla)\n",
    "tabla.close()\n",
    "print(A_ESCRIBIR)"
   ]
  },
  {
   "cell_type": "code",
   "execution_count": 26,
   "metadata": {
    "scrolled": true
   },
   "outputs": [
    {
     "data": {
      "text/plain": [
       "'./Informe v1/textos/00Derivacionesxhospital_detalle.tab'"
      ]
     },
     "execution_count": 26,
     "metadata": {},
     "output_type": "execute_result"
    },
    {
     "name": "stdout",
     "output_type": "stream",
     "text": [
      "Origen          H. Gustavo Fricke                                 H. Quilpué  \\\n",
      "Tipo_derivacion     Intra Público Intra SSVQ Público a Privado Intra Público   \n",
      "Fecha creación                                                                 \n",
      "2017-01-01                    NaN        NaN              12.0           NaN   \n",
      "2017-02-01                    NaN        NaN               6.0           1.0   \n",
      "2017-03-01                    1.0        2.0               8.0           NaN   \n",
      "2017-04-01                    NaN        NaN              15.0           NaN   \n",
      "2017-05-01                    1.0        1.0              10.0           NaN   \n",
      "2017-06-01                    NaN        NaN               2.0           NaN   \n",
      "2017-07-01                    NaN        NaN              17.0           NaN   \n",
      "2017-08-01                    NaN        1.0              13.0           NaN   \n",
      "2017-09-01                    NaN        NaN              15.0           1.0   \n",
      "2017-10-01                    NaN        1.0              15.0           NaN   \n",
      "2017-11-01                    NaN        NaN              10.0           NaN   \n",
      "2017-12-01                    NaN        1.0               1.0           NaN   \n",
      "2018-01-01                    NaN        1.0              11.0           1.0   \n",
      "2018-02-01                    1.0        1.0               9.0           NaN   \n",
      "2018-03-01                    NaN        NaN               4.0           NaN   \n",
      "2018-04-01                    NaN        NaN              10.0           NaN   \n",
      "2018-05-01                    1.0        NaN               NaN           NaN   \n",
      "2018-06-01                    NaN        NaN               NaN           NaN   \n",
      "2018-07-01                    NaN        1.0               3.0           NaN   \n",
      "2018-08-01                    NaN        NaN               NaN           NaN   \n",
      "2018-09-01                    NaN        NaN               6.0           NaN   \n",
      "2018-10-01                    NaN        NaN               5.0           NaN   \n",
      "2018-11-01                    NaN        NaN               1.0           1.0   \n",
      "2018-12-01                    NaN        NaN               2.0           NaN   \n",
      "2019-01-01                    NaN        NaN               4.0           2.0   \n",
      "2019-02-01                    NaN        NaN               2.0           1.0   \n",
      "2019-03-01                    1.0        NaN               5.0           NaN   \n",
      "2019-04-01                    1.0        NaN               2.0           NaN   \n",
      "2019-05-01                    NaN        NaN               8.0           1.0   \n",
      "2019-06-01                    NaN        NaN              10.0           NaN   \n",
      "2019-07-01                    NaN        NaN               5.0           NaN   \n",
      "2019-08-01                    NaN        NaN               5.0           NaN   \n",
      "2019-09-01                    NaN        NaN               3.0           NaN   \n",
      "2019-10-01                    NaN        1.0               5.0           NaN   \n",
      "2019-11-01                    NaN        2.0               3.0           NaN   \n",
      "2019-12-01                    NaN        NaN               2.0           NaN   \n",
      "2020-01-01                    1.0        NaN               4.0           NaN   \n",
      "2020-02-01                    NaN        NaN               5.0           NaN   \n",
      "2020-03-01                    NaN        NaN               6.0           NaN   \n",
      "2020-04-01                    NaN        NaN               NaN           NaN   \n",
      "2020-05-01                    5.0        1.0               3.0           NaN   \n",
      "2020-06-01                    NaN        NaN               1.0           1.0   \n",
      "2020-07-01                    NaN        NaN               4.0           NaN   \n",
      "2020-08-01                    1.0        NaN               1.0           NaN   \n",
      "\n",
      "Origen                                       H. San Martín de Quillota  \\\n",
      "Tipo_derivacion Intra SSVQ Público a Privado             Intra Público   \n",
      "Fecha creación                                                           \n",
      "2017-01-01             NaN               1.0                       NaN   \n",
      "2017-02-01             NaN               2.0                       NaN   \n",
      "2017-03-01             NaN               2.0                       NaN   \n",
      "2017-04-01             NaN               3.0                       1.0   \n",
      "2017-05-01             NaN               1.0                       NaN   \n",
      "2017-06-01             NaN               3.0                       NaN   \n",
      "2017-07-01             NaN               6.0                       NaN   \n",
      "2017-08-01             NaN               5.0                       NaN   \n",
      "2017-09-01             NaN               8.0                       1.0   \n",
      "2017-10-01             NaN               5.0                       NaN   \n",
      "2017-11-01             NaN               3.0                       NaN   \n",
      "2017-12-01             NaN               2.0                       NaN   \n",
      "2018-01-01             NaN               2.0                       NaN   \n",
      "2018-02-01             NaN               5.0                       NaN   \n",
      "2018-03-01             NaN               5.0                       1.0   \n",
      "2018-04-01             NaN               7.0                       NaN   \n",
      "2018-05-01             1.0               8.0                       NaN   \n",
      "2018-06-01             NaN               9.0                       NaN   \n",
      "2018-07-01             NaN              11.0                       NaN   \n",
      "2018-08-01             NaN               4.0                       NaN   \n",
      "2018-09-01             NaN               6.0                       NaN   \n",
      "2018-10-01             1.0               4.0                       NaN   \n",
      "2018-11-01             NaN               2.0                       NaN   \n",
      "2018-12-01             NaN               1.0                       NaN   \n",
      "2019-01-01             3.0              14.0                       NaN   \n",
      "2019-02-01             1.0              14.0                       NaN   \n",
      "2019-03-01             NaN               3.0                       1.0   \n",
      "2019-04-01             NaN               5.0                       NaN   \n",
      "2019-05-01             NaN               6.0                       1.0   \n",
      "2019-06-01             NaN               2.0                       NaN   \n",
      "2019-07-01             NaN               7.0                       NaN   \n",
      "2019-08-01             NaN               2.0                       1.0   \n",
      "2019-09-01             1.0               1.0                       NaN   \n",
      "2019-10-01             NaN               5.0                       NaN   \n",
      "2019-11-01             NaN               1.0                       NaN   \n",
      "2019-12-01             2.0               4.0                       NaN   \n",
      "2020-01-01             NaN               9.0                       1.0   \n",
      "2020-02-01             1.0               7.0                       NaN   \n",
      "2020-03-01             1.0               8.0                       NaN   \n",
      "2020-04-01             1.0               2.0                       NaN   \n",
      "2020-05-01             NaN               NaN                       NaN   \n",
      "2020-06-01             5.0               5.0                       NaN   \n",
      "2020-07-01             2.0               3.0                       7.0   \n",
      "2020-08-01             NaN               NaN                       1.0   \n",
      "\n",
      "Origen                                        \n",
      "Tipo_derivacion Intra SSVQ Público a Privado  \n",
      "Fecha creación                                \n",
      "2017-01-01             2.0               3.0  \n",
      "2017-02-01             NaN               4.0  \n",
      "2017-03-01             1.0               6.0  \n",
      "2017-04-01             NaN               4.0  \n",
      "2017-05-01             NaN               7.0  \n",
      "2017-06-01             4.0              18.0  \n",
      "2017-07-01             2.0               8.0  \n",
      "2017-08-01             2.0              13.0  \n",
      "2017-09-01             NaN               5.0  \n",
      "2017-10-01             NaN              16.0  \n",
      "2017-11-01             3.0              13.0  \n",
      "2017-12-01             2.0               6.0  \n",
      "2018-01-01             NaN               5.0  \n",
      "2018-02-01             3.0               7.0  \n",
      "2018-03-01             1.0               5.0  \n",
      "2018-04-01             1.0              11.0  \n",
      "2018-05-01             1.0               6.0  \n",
      "2018-06-01             3.0               7.0  \n",
      "2018-07-01             NaN               9.0  \n",
      "2018-08-01             1.0               1.0  \n",
      "2018-09-01             NaN               1.0  \n",
      "2018-10-01             2.0               2.0  \n",
      "2018-11-01             1.0               5.0  \n",
      "2018-12-01             NaN               6.0  \n",
      "2019-01-01             2.0               8.0  \n",
      "2019-02-01             1.0               NaN  \n",
      "2019-03-01             1.0               6.0  \n",
      "2019-04-01             1.0               6.0  \n",
      "2019-05-01             NaN               5.0  \n",
      "2019-06-01             NaN              11.0  \n",
      "2019-07-01             NaN               6.0  \n",
      "2019-08-01             2.0               9.0  \n",
      "2019-09-01             1.0               4.0  \n",
      "2019-10-01             NaN               7.0  \n",
      "2019-11-01             NaN               3.0  \n",
      "2019-12-01             1.0               8.0  \n",
      "2020-01-01             NaN               2.0  \n",
      "2020-02-01             NaN               3.0  \n",
      "2020-03-01             NaN               2.0  \n",
      "2020-04-01             NaN               1.0  \n",
      "2020-05-01             NaN               3.0  \n",
      "2020-06-01             NaN               8.0  \n",
      "2020-07-01             3.0               4.0  \n",
      "2020-08-01             NaN               1.0  \n"
     ]
    }
   ],
   "source": [
    "ruta   = './Informe v1/textos/'\n",
    "nombre = '00Derivacionesxhospital_detalle' + '.tab'\n",
    "ruta+nombre\n",
    "tabla  = open(str(ruta+nombre),'w')\n",
    "\n",
    "\n",
    "Derivaciones = BD.loc[\n",
    "    (BD.Especialidad == 'ADULTO') &\n",
    "    (BD['Fecha creación']>pd.to_datetime('2017-01-01')) &\n",
    "     DIGAMOS_QUESI\n",
    "].copy()\n",
    "\n",
    "dum = Derivaciones\n",
    "agrupado = dum.groupby(\n",
    "    [pd.Grouper(key='Fecha creación',freq = 'MS', closed='left'),\n",
    "    'Tipo_derivacion', 'Origen'])\n",
    "A_ESCRIBIR = agrupado.id.count().unstack()[[\n",
    "    'H. Gustavo Fricke',\n",
    "    'H. Quilpué',\n",
    "    'H. San Martín de Quillota'\n",
    "]]\n",
    "\n",
    "A_ESCRIBIR = A_ESCRIBIR.unstack()#.drop('Desde y en Privado', axis=1, level=1)\n",
    "# A_ESCRIBIR['Total'] =A_ESCRIBIR.agg('sum', axis ='columns')\n",
    "\n",
    "print(A_ESCRIBIR.to_latex(bold_rows= True,\n",
    "                    float_format=\"%.0f\",\n",
    "#                     column_format = 'rcccccc',\n",
    "                    multicolumn_format = 'c',\n",
    "                    col_space=0.01,\n",
    "                         na_rep = '-'),\n",
    "      file=tabla)\n",
    "tabla.close()\n",
    "print(A_ESCRIBIR)"
   ]
  },
  {
   "cell_type": "code",
   "execution_count": 27,
   "metadata": {},
   "outputs": [
    {
     "data": {
      "text/plain": [
       "'./Informe v1/textos/00Derivacionesmensual5a.tab'"
      ]
     },
     "execution_count": 27,
     "metadata": {},
     "output_type": "execute_result"
    },
    {
     "name": "stdout",
     "output_type": "stream",
     "text": [
      "Fecha creación  2015  2016  2017  2018  2019  2020\n",
      "Fecha creación                                    \n",
      "1               48.0  22.0  18.0  20.0  33.0  17.0\n",
      "2               26.0  22.0  13.0  26.0  19.0  16.0\n",
      "3               32.0  26.0  20.0  16.0  17.0  17.0\n",
      "4               24.0  40.0  23.0  29.0  15.0   4.0\n",
      "5               22.0  34.0  20.0  17.0  21.0  12.0\n",
      "6               26.0  22.0  27.0  19.0  23.0  22.0\n",
      "7               19.0  16.0  33.0  24.0  18.0  23.0\n",
      "8               38.0  17.0  34.0   6.0  19.0   4.0\n",
      "9               40.0  22.0  30.0  13.0  10.0   NaN\n",
      "10              31.0  13.0  37.0  15.0  18.0   NaN\n",
      "11              27.0  23.0  29.0  10.0   9.0   NaN\n",
      "12              26.0  10.0  12.0   9.0  17.0   NaN\n"
     ]
    }
   ],
   "source": [
    "ruta   = './Informe v1/textos/'\n",
    "nombre = '00Derivacionesmensual5a' + '.tab'\n",
    "ruta+nombre\n",
    "tabla  = open(str(ruta+nombre),'w')\n",
    "\n",
    "Derivaciones = BD.loc[\n",
    "    (BD.Especialidad == 'ADULTO') &\n",
    "    (BD['Fecha creación']>pd.to_datetime('2015-01-01')) &\n",
    "    (BD['Tipo_derivacion'] != 'Desde y en Privado')\n",
    "].copy()\n",
    "dum = Derivaciones\n",
    "agrupado = dum.groupby([dum['Fecha creación'].dt.month, dum['Fecha creación'].dt.year,])\n",
    "\n",
    "A_ESCRIBIR = agrupado.id.count().unstack()\n",
    "print(A_ESCRIBIR.to_latex(bold_rows= True,\n",
    "                    float_format=\"%.0f\",\n",
    "                    column_format = 'rcccccc',\n",
    "                    multicolumn_format = 'c',\n",
    "                    col_space=0.01,\n",
    "                          index_names=False,\n",
    "                          na_rep = '-'\n",
    "                         ),\n",
    "      file=tabla)\n",
    "tabla.close()\n",
    "print(A_ESCRIBIR)"
   ]
  },
  {
   "cell_type": "code",
   "execution_count": 28,
   "metadata": {},
   "outputs": [
    {
     "data": {
      "text/plain": [
       "<matplotlib.axes._subplots.AxesSubplot at 0x7fd4f713fac8>"
      ]
     },
     "execution_count": 28,
     "metadata": {},
     "output_type": "execute_result"
    },
    {
     "data": {
      "text/plain": [
       "<matplotlib.legend.Legend at 0x7fd4f713f550>"
      ]
     },
     "execution_count": 28,
     "metadata": {},
     "output_type": "execute_result"
    },
    {
     "data": {
      "text/plain": [
       "Text(0.5, 1.0, 'Cantidad de derivación por medio \\n de UGCC desde el SSVQ')"
      ]
     },
     "execution_count": 28,
     "metadata": {},
     "output_type": "execute_result"
    },
    {
     "data": {
      "text/plain": [
       "Text(0.5, 0, 'Fecha de derivación')"
      ]
     },
     "execution_count": 28,
     "metadata": {},
     "output_type": "execute_result"
    },
    {
     "data": {
      "text/plain": [
       "Text(0, 0.5, 'Cantidad de derivaciones mensuales')"
      ]
     },
     "execution_count": 28,
     "metadata": {},
     "output_type": "execute_result"
    },
    {
     "name": "stdout",
     "output_type": "stream",
     "text": [
      "Guardado:./Informe v1/figuras/Derivaciones10_20.png\n"
     ]
    },
    {
     "data": {
      "image/png": "[encoded data removed]",
      "text/plain": [
       "<Figure size 432x288 with 1 Axes>"
      ]
     },
     "metadata": {
      "needs_background": "light"
     },
     "output_type": "display_data"
    }
   ],
   "source": [
    "Derivaciones = BD.loc[\n",
    "    (BD.Especialidad == 'ADULTO') &\n",
    "    (BD['Fecha creación']>pd.to_datetime('2010-01-01')) &\n",
    "    DIGAMOS_QUESI  # ojo con !=\n",
    "].copy()\n",
    "\n",
    "dum = Derivaciones\n",
    "agrupado = dum.groupby([dum['Fecha creación'].dt.year, dum['Fecha creación'].dt.month])\n",
    "\n",
    "agrupado.id.count().unstack().plot(kind='bar')\n",
    "plt.legend('')\n",
    "plt.title(\n",
    "'Cantidad de derivación por medio \\n \\\n",
    "de UGCC desde el SSVQ')\n",
    "plt.xlabel('Fecha de derivación')\n",
    "plt.ylabel('Cantidad de derivaciones mensuales')\n",
    "\n",
    "guardar = True\n",
    "nombre_archivo = 'Derivaciones10_20' + '.png'\n",
    "ruta = './Informe v1/figuras/' +  nombre_archivo\n",
    "if guardar == True:      \n",
    "    print('Guardado:' + ruta)\n",
    "    plt.savefig(ruta, bbox_inches='tight', dpi = 150)"
   ]
  },
  {
   "cell_type": "code",
   "execution_count": 29,
   "metadata": {},
   "outputs": [],
   "source": [
    "meses = ['Ene', 'Feb', 'Mar', 'Abr', 'May',\n",
    "        'Jun', 'Jul', 'Ago', 'Sep',\n",
    "        'Oct', 'Nov', 'Dic']"
   ]
  },
  {
   "cell_type": "code",
   "execution_count": 30,
   "metadata": {},
   "outputs": [
    {
     "data": {
      "text/plain": [
       "<matplotlib.axes._subplots.AxesSubplot at 0x7fd4f785a2b0>"
      ]
     },
     "execution_count": 30,
     "metadata": {},
     "output_type": "execute_result"
    },
    {
     "data": {
      "text/plain": [
       "Text(0.5, 1.0, 'Cantidad de derivación por medio \\n de UGCC desde el SSVQ')"
      ]
     },
     "execution_count": 30,
     "metadata": {},
     "output_type": "execute_result"
    },
    {
     "data": {
      "text/plain": [
       "Text(0.5, 0, 'Fecha de derivación')"
      ]
     },
     "execution_count": 30,
     "metadata": {},
     "output_type": "execute_result"
    },
    {
     "data": {
      "text/plain": [
       "Text(0, 0.5, 'Cantidad de derivaciones mensuales')"
      ]
     },
     "execution_count": 30,
     "metadata": {},
     "output_type": "execute_result"
    },
    {
     "data": {
      "text/plain": [
       "([<matplotlib.axis.XTick at 0x7fd4f7849f28>,\n",
       "  <matplotlib.axis.XTick at 0x7fd4f7849ef0>,\n",
       "  <matplotlib.axis.XTick at 0x7fd4f752a470>,\n",
       "  <matplotlib.axis.XTick at 0x7fd4f7553860>,\n",
       "  <matplotlib.axis.XTick at 0x7fd4f7553e48>,\n",
       "  <matplotlib.axis.XTick at 0x7fd4f755a320>,\n",
       "  <matplotlib.axis.XTick at 0x7fd4f755a7b8>,\n",
       "  <matplotlib.axis.XTick at 0x7fd4f755ac50>,\n",
       "  <matplotlib.axis.XTick at 0x7fd4f7849b38>,\n",
       "  <matplotlib.axis.XTick at 0x7fd4f755a860>,\n",
       "  <matplotlib.axis.XTick at 0x7fd4f7553898>],\n",
       " [Text(0, 0, 'Ene'),\n",
       "  Text(0, 0, 'Feb'),\n",
       "  Text(0, 0, 'Mar'),\n",
       "  Text(0, 0, 'Abr'),\n",
       "  Text(0, 0, 'May'),\n",
       "  Text(0, 0, 'Jun'),\n",
       "  Text(0, 0, 'Jul'),\n",
       "  Text(0, 0, 'Ago'),\n",
       "  Text(0, 0, 'Sep'),\n",
       "  Text(0, 0, 'Oct'),\n",
       "  Text(0, 0, 'Nov')])"
      ]
     },
     "execution_count": 30,
     "metadata": {},
     "output_type": "execute_result"
    },
    {
     "name": "stdout",
     "output_type": "stream",
     "text": [
      "Guardado:./Informe v1/figuras/Derivaciones17_20.png\n"
     ]
    },
    {
     "data": {
      "image/png": "[encoded data removed]",
      "text/plain": [
       "<Figure size 432x288 with 1 Axes>"
      ]
     },
     "metadata": {
      "needs_background": "light"
     },
     "output_type": "display_data"
    }
   ],
   "source": [
    "Derivaciones = BD.loc[\n",
    "    (BD.Especialidad == 'ADULTO') &\n",
    "    (BD['Fecha creación']>pd.to_datetime('2017-01-01')) &\n",
    "    (BD['Tipo_derivacion'] != 'Desde y en Privado')\n",
    "].copy()\n",
    "\n",
    "dum = Derivaciones\n",
    "agrupado = dum.groupby([dum['Fecha creación'].dt.month, dum['Fecha creación'].dt.year])\n",
    "\n",
    "meses = ['Ene', 'Feb', 'Mar', 'Abr', 'May',\n",
    "        'Jun', 'Jul', 'Ago', 'Sep',\n",
    "        'Oct', 'Nov', 'Dic']\n",
    "\n",
    "graf = agrupado.id.count().unstack()\n",
    "graf.plot()\n",
    "# plt.legend('')\n",
    "plt.title(\n",
    "'Cantidad de derivación por medio \\n \\\n",
    "de UGCC desde el SSVQ')\n",
    "plt.xlabel('Fecha de derivación')\n",
    "plt.ylabel('Cantidad de derivaciones mensuales')\n",
    "plt.xticks(np.arange(1,12,1),meses)\n",
    "\n",
    "guardar = True\n",
    "nombre_archivo = 'Derivaciones17_20' + '.png'\n",
    "ruta = './Informe v1/figuras/' +  nombre_archivo\n",
    "if guardar == True:      \n",
    "    print('Guardado:' + ruta)\n",
    "    plt.savefig(ruta, bbox_inches='tight', dpi = 150)"
   ]
  },
  {
   "cell_type": "code",
   "execution_count": 31,
   "metadata": {},
   "outputs": [
    {
     "data": {
      "text/plain": [
       "<matplotlib.axes._subplots.AxesSubplot at 0x7fd4f7596c50>"
      ]
     },
     "execution_count": 31,
     "metadata": {},
     "output_type": "execute_result"
    },
    {
     "data": {
      "text/plain": [
       "Text(0.5, 1.0, 'Cantidad de derivación por medio \\n de UGCC desde el SSVQ año 2020')"
      ]
     },
     "execution_count": 31,
     "metadata": {},
     "output_type": "execute_result"
    },
    {
     "data": {
      "text/plain": [
       "Text(0.5, 0, 'Fecha de derivación \\n en semanas')"
      ]
     },
     "execution_count": 31,
     "metadata": {},
     "output_type": "execute_result"
    },
    {
     "data": {
      "text/plain": [
       "Text(0, 0.5, 'Cantidad de derivaciones semanales')"
      ]
     },
     "execution_count": 31,
     "metadata": {},
     "output_type": "execute_result"
    },
    {
     "data": {
      "text/plain": [
       "([<matplotlib.axis.XTick at 0x7fd4f75a0ac8>,\n",
       "  <matplotlib.axis.XTick at 0x7fd4f75a0a90>,\n",
       "  <matplotlib.axis.XTick at 0x7fd4f761bbe0>,\n",
       "  <matplotlib.axis.XTick at 0x7fd4f75f0ba8>,\n",
       "  <matplotlib.axis.XTick at 0x7fd4f7814278>,\n",
       "  <matplotlib.axis.XTick at 0x7fd4f7814710>,\n",
       "  <matplotlib.axis.XTick at 0x7fd4f7814ba8>,\n",
       "  <matplotlib.axis.XTick at 0x7fd4f77f80f0>],\n",
       " [Text(0, 0, 'Ene'),\n",
       "  Text(0, 0, 'Feb'),\n",
       "  Text(0, 0, 'Mar'),\n",
       "  Text(0, 0, 'Abr'),\n",
       "  Text(0, 0, 'May'),\n",
       "  Text(0, 0, 'Jun'),\n",
       "  Text(0, 0, 'Jul'),\n",
       "  Text(0, 0, 'Ago')])"
      ]
     },
     "execution_count": 31,
     "metadata": {},
     "output_type": "execute_result"
    },
    {
     "name": "stdout",
     "output_type": "stream",
     "text": [
      "Guardado:./Informe v1/figuras/Derivaciones2020.png\n"
     ]
    },
    {
     "data": {
      "image/png": "[encoded data removed]",
      "text/plain": [
       "<Figure size 432x288 with 1 Axes>"
      ]
     },
     "metadata": {
      "needs_background": "light"
     },
     "output_type": "display_data"
    }
   ],
   "source": [
    "Derivaciones = BD.loc[\n",
    "    (BD.Especialidad == 'ADULTO') &\n",
    "    (BD['Fecha creación']>pd.to_datetime('2020-01-01')) &\n",
    "    (BD['Tipo_derivacion'] != 'Desde y en Privado')\n",
    "].copy()\n",
    "\n",
    "dum = Derivaciones\n",
    "agrupado = dum.groupby(\n",
    "    [pd.Grouper(key='Fecha creación',freq = 'MS'),\n",
    "    dum.Origen])\n",
    "\n",
    "graf = agrupado.id.count().unstack()[['H. Gustavo Fricke',\n",
    "                                            'H. Quilpué',\n",
    "                                            'H. San Martín de Quillota']]\n",
    "# graf\n",
    "graf = graf.fillna(0)\n",
    "graf.plot(kind='bar')\n",
    "plt.title(\n",
    "'Cantidad de derivación por medio \\n \\\n",
    "de UGCC desde el SSVQ año 2020')\n",
    "plt.xlabel('Fecha de derivación \\n en semanas')\n",
    "plt.ylabel('Cantidad de derivaciones semanales')\n",
    "plt.xticks(np.arange(len(graf.index)),\n",
    "           meses)\n",
    "\n",
    "guardar = True\n",
    "nombre_archivo = 'Derivaciones2020' + '.png'\n",
    "ruta = './Informe v1/figuras/' +  nombre_archivo\n",
    "if guardar == True:      \n",
    "    print('Guardado:' + ruta)\n",
    "    plt.savefig(ruta, bbox_inches='tight', dpi = 150)"
   ]
  },
  {
   "cell_type": "markdown",
   "metadata": {},
   "source": [
    "## Derivaciones con domicilio de santiago"
   ]
  },
  {
   "cell_type": "markdown",
   "metadata": {},
   "source": [
    "no existen"
   ]
  },
  {
   "cell_type": "markdown",
   "metadata": {},
   "source": [
    "epidemiología de los pacientes"
   ]
  },
  {
   "cell_type": "code",
   "execution_count": 32,
   "metadata": {},
   "outputs": [
    {
     "data": {
      "text/plain": [
       "count    1235.000000\n",
       "mean       59.638057\n",
       "std        18.656739\n",
       "min         0.000000\n",
       "25%        48.000000\n",
       "50%        64.000000\n",
       "75%        74.000000\n",
       "max        95.000000\n",
       "Name: Edad años, dtype: float64"
      ]
     },
     "execution_count": 32,
     "metadata": {},
     "output_type": "execute_result"
    },
    {
     "data": {
      "text/plain": [
       "67       0.0\n",
       "146     15.0\n",
       "785     15.0\n",
       "1513    15.0\n",
       "1581    15.0\n",
       "Name: Edad años, dtype: float64"
      ]
     },
     "execution_count": 32,
     "metadata": {},
     "output_type": "execute_result"
    },
    {
     "data": {
      "text/plain": [
       "2456    95.0\n",
       "1023    94.0\n",
       "1688    92.0\n",
       "55      91.0\n",
       "1691    91.0\n",
       "Name: Edad años, dtype: float64"
      ]
     },
     "execution_count": 32,
     "metadata": {},
     "output_type": "execute_result"
    },
    {
     "data": {
      "text/plain": [
       "Tipo_derivacion\n",
       "Intra Público        62.836538\n",
       "Intra SSVQ           59.760870\n",
       "Público a Privado    59.326267\n",
       "Name: Edad años, dtype: float64"
      ]
     },
     "execution_count": 32,
     "metadata": {},
     "output_type": "execute_result"
    }
   ],
   "source": [
    "Derivaciones = BD.loc[\n",
    "    (BD.Especialidad == 'ADULTO') &\n",
    "    (BD['Tipo_derivacion'] != 'Desde y en Privado') &\n",
    "    DIGAMOS_QUESI\n",
    "].copy()\n",
    "\n",
    "Derivaciones['Edad años'].describe()\n",
    "Derivaciones['Edad años'].nsmallest()\n",
    "Derivaciones['Edad años'].nlargest()\n",
    "Derivaciones.groupby('Tipo_derivacion')['Edad años'].mean()"
   ]
  },
  {
   "cell_type": "code",
   "execution_count": null,
   "metadata": {},
   "outputs": [],
   "source": []
  },
  {
   "cell_type": "code",
   "execution_count": 33,
   "metadata": {},
   "outputs": [
    {
     "data": {
      "text/plain": [
       "<matplotlib.axes._subplots.AxesSubplot at 0x7fd4f76929b0>"
      ]
     },
     "execution_count": 33,
     "metadata": {},
     "output_type": "execute_result"
    },
    {
     "data": {
      "text/plain": [
       "Text(0.5, 0.98, '')"
      ]
     },
     "execution_count": 33,
     "metadata": {},
     "output_type": "execute_result"
    },
    {
     "data": {
      "text/plain": [
       "Text(0.5, 1.0, 'Edad de los pacientes derivados')"
      ]
     },
     "execution_count": 33,
     "metadata": {},
     "output_type": "execute_result"
    },
    {
     "data": {
      "text/plain": [
       "Text(0.5, 0, 'Tipo de derivación')"
      ]
     },
     "execution_count": 33,
     "metadata": {},
     "output_type": "execute_result"
    },
    {
     "data": {
      "text/plain": [
       "Text(0, 0.5, 'Edad en años')"
      ]
     },
     "execution_count": 33,
     "metadata": {},
     "output_type": "execute_result"
    },
    {
     "name": "stdout",
     "output_type": "stream",
     "text": [
      "Guardado:./Informe v1/figuras/Edad_derivacion_historica.png\n"
     ]
    },
    {
     "data": {
      "image/png": "[encoded data removed]",
      "text/plain": [
       "<Figure size 432x288 with 1 Axes>"
      ]
     },
     "metadata": {
      "needs_background": "light"
     },
     "output_type": "display_data"
    }
   ],
   "source": [
    "Derivaciones = BD.loc[\n",
    "    (BD.Especialidad == 'ADULTO') &\n",
    "    DIGAMOS_QUESI\n",
    "].copy()\n",
    "\n",
    "dum = Derivaciones.dropna(subset=['Edad años'])\n",
    "dum.boxplot(column= ['Edad años'],\n",
    "                       by='Tipo_derivacion')\n",
    "plt.suptitle('')\n",
    "plt.title('Edad de los pacientes derivados')\n",
    "plt.xlabel('Tipo de derivación')\n",
    "plt.ylabel('Edad en años')\n",
    "\n",
    "guardar = True\n",
    "nombre_archivo = 'Edad_derivacion_historica' + '.png'\n",
    "ruta = './Informe v1/figuras/' +  nombre_archivo\n",
    "if guardar == True:      \n",
    "    print('Guardado:' + ruta)\n",
    "    plt.savefig(ruta, bbox_inches='tight', dpi = 150)"
   ]
  },
  {
   "cell_type": "code",
   "execution_count": 34,
   "metadata": {},
   "outputs": [
    {
     "data": {
      "text/plain": [
       "Index(['id', 'Pestaña', 'Id Madre', 'Servicio Salud', 'Origen', 'Tipo Destino',\n",
       "       'Destino', 'Tipo cama', 'Fecha creación', 'Fecha derivación exitosa',\n",
       "       'Especialidad', 'Nombre Paciente', 'rut paciente', 'Nuevo RUT Paciente',\n",
       "       'Edad días', 'Edad meses', 'Edad años', 'Diagnóstico', 'Responsable',\n",
       "       'Rol', 'Riesgo', 'cambio riesgo', 'Convenio', 'Paciente crónico', 'GES',\n",
       "       'Dias de Estada', 'Tramo Fonasa', 'Asistencia Ventricular',\n",
       "       'Tipo compra', 'ECMO', 'Id anterior', 'Re-derivaciones', 'ID-RNacidos',\n",
       "       'Contingencia', 'Cuenta GRD', 'Tipo_derivacion'],\n",
       "      dtype='object')"
      ]
     },
     "execution_count": 34,
     "metadata": {},
     "output_type": "execute_result"
    },
    {
     "data": {
      "text/plain": [
       "count    2813.000000\n",
       "mean        8.842161\n",
       "std         7.779910\n",
       "min         1.000000\n",
       "25%         4.000000\n",
       "50%         7.000000\n",
       "75%        11.000000\n",
       "max        49.000000\n",
       "Name: Dias de Estada, dtype: float64"
      ]
     },
     "execution_count": 34,
     "metadata": {},
     "output_type": "execute_result"
    },
    {
     "data": {
      "text/plain": [
       "Público a Privado    2464\n",
       "Intra Público         183\n",
       "Intra SSVQ            166\n",
       "Name: Tipo_derivacion, dtype: int64"
      ]
     },
     "execution_count": 34,
     "metadata": {},
     "output_type": "execute_result"
    },
    {
     "data": {
      "text/plain": [
       "F_onewayResult(statistic=5.886943234618892, pvalue=0.002809793051993036)"
      ]
     },
     "execution_count": 34,
     "metadata": {},
     "output_type": "execute_result"
    },
    {
     "data": {
      "text/plain": [
       "<matplotlib.axes._subplots.AxesSubplot at 0x7fd4f76318d0>"
      ]
     },
     "execution_count": 34,
     "metadata": {},
     "output_type": "execute_result"
    },
    {
     "data": {
      "text/plain": [
       "Text(0.5, 0.98, '')"
      ]
     },
     "execution_count": 34,
     "metadata": {},
     "output_type": "execute_result"
    },
    {
     "data": {
      "text/plain": [
       "Text(0.5, 1.0, 'Estadía de los pacientes derivados')"
      ]
     },
     "execution_count": 34,
     "metadata": {},
     "output_type": "execute_result"
    },
    {
     "data": {
      "text/plain": [
       "Text(0.5, 0, 'Tipo de derivación')"
      ]
     },
     "execution_count": 34,
     "metadata": {},
     "output_type": "execute_result"
    },
    {
     "data": {
      "text/plain": [
       "Text(0, 0.5, 'Días de estadía')"
      ]
     },
     "execution_count": 34,
     "metadata": {},
     "output_type": "execute_result"
    },
    {
     "name": "stdout",
     "output_type": "stream",
     "text": [
      "Guardado:./Informe v1/figuras/Estadia_derivacion_historica.png\n"
     ]
    },
    {
     "data": {
      "image/png": "[encoded data removed]",
      "text/plain": [
       "<Figure size 432x288 with 1 Axes>"
      ]
     },
     "metadata": {
      "needs_background": "light"
     },
     "output_type": "display_data"
    }
   ],
   "source": [
    "Derivaciones = BD.loc[\n",
    "    (BD.Especialidad == 'ADULTO') &\n",
    "    DIGAMOS_QUESI\n",
    "].copy()\n",
    "\n",
    "Derivaciones.columns\n",
    "\n",
    "dum = Derivaciones.dropna(subset=['Dias de Estada'])\n",
    "dum = dum.loc[(dum['Dias de Estada']<dum['Dias de Estada'].quantile(0.99)) &\n",
    "              (dum['Dias de Estada']>0)\n",
    "             ]\n",
    "\n",
    "dum['Dias de Estada'].describe()\n",
    "dum.Tipo_derivacion.value_counts()\n",
    "stats.f_oneway(dum.loc[dum['Tipo_derivacion'] == 'Público a Privado']['Dias de Estada'],\n",
    "               dum.loc[dum['Tipo_derivacion'] == 'Intra Público']['Dias de Estada'],\n",
    "               dum.loc[dum['Tipo_derivacion'] == 'Intra SSVQ']['Dias de Estada'])\n",
    "\n",
    "\n",
    "dum.boxplot(column= ['Dias de Estada'],\n",
    "                       by='Tipo_derivacion')\n",
    "plt.suptitle('')\n",
    "plt.title('Estadía de los pacientes derivados')\n",
    "plt.xlabel('Tipo de derivación')\n",
    "plt.ylabel('Días de estadía')\n",
    "\n",
    "guardar = True\n",
    "nombre_archivo = 'Estadia_derivacion_historica' + '.png'\n",
    "ruta = './Informe v1/figuras/' +  nombre_archivo\n",
    "if guardar == True:      \n",
    "    print('Guardado:' + ruta)\n",
    "    plt.savefig(ruta, bbox_inches='tight', dpi = 150)"
   ]
  },
  {
   "cell_type": "code",
   "execution_count": null,
   "metadata": {},
   "outputs": [],
   "source": []
  },
  {
   "cell_type": "code",
   "execution_count": null,
   "metadata": {},
   "outputs": [],
   "source": []
  },
  {
   "cell_type": "code",
   "execution_count": null,
   "metadata": {},
   "outputs": [],
   "source": []
  },
  {
   "cell_type": "code",
   "execution_count": null,
   "metadata": {},
   "outputs": [],
   "source": []
  },
  {
   "cell_type": "code",
   "execution_count": null,
   "metadata": {},
   "outputs": [],
   "source": []
  },
  {
   "cell_type": "code",
   "execution_count": null,
   "metadata": {},
   "outputs": [],
   "source": []
  },
  {
   "cell_type": "code",
   "execution_count": null,
   "metadata": {},
   "outputs": [],
   "source": []
  },
  {
   "cell_type": "code",
   "execution_count": null,
   "metadata": {},
   "outputs": [],
   "source": []
  },
  {
   "cell_type": "code",
   "execution_count": null,
   "metadata": {},
   "outputs": [],
   "source": []
  },
  {
   "cell_type": "code",
   "execution_count": null,
   "metadata": {},
   "outputs": [],
   "source": []
  },
  {
   "cell_type": "code",
   "execution_count": null,
   "metadata": {},
   "outputs": [],
   "source": []
  }
 ],
 "metadata": {
  "kernelspec": {
   "display_name": "Python 3",
   "language": "python",
   "name": "python3"
  },
  "language_info": {
   "codemirror_mode": {
    "name": "ipython",
    "version": 3
   },
   "file_extension": ".py",
   "mimetype": "text/x-python",
   "name": "python",
   "nbconvert_exporter": "python",
   "pygments_lexer": "ipython3",
   "version": "3.7.3"
  }
 },
 "nbformat": 4,
 "nbformat_minor": 4
}
