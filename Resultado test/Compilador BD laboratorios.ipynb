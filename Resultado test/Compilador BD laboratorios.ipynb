{
 "cells": [
  {
   "cell_type": "markdown",
   "metadata": {},
   "source": [
    "Limpieza BD resultado PCR-RT Covid19\n",
    "=====================\n"
   ]
  },
  {
   "cell_type": "code",
   "execution_count": 1,
   "metadata": {},
   "outputs": [],
   "source": [
    "import pandas as pd\n",
    "import numpy as np\n",
    "import matplotlib.pyplot as plt\n",
    "import matplotlib.dates as mdates\n",
    "import matplotlib.cm as cm\n",
    "import os\n",
    "\n",
    "import scipy \n",
    "from scipy import stats\n",
    "import datetime as dt\n",
    "from datetime import timedelta  \n",
    "import urllib.request  # importar archivos web\n",
    "from lifelines import NelsonAalenFitter # modelamiento survival\n",
    "\n",
    "# plot maps\n",
    "import geopandas as gpd\n",
    "from mpl_toolkits.axes_grid1 import make_axes_locatable \n",
    "\n",
    "import wget\n",
    "\n",
    "# para tratar de poner espanol\n",
    "from datetime import date, datetime, time\n",
    "from babel.dates import format_date, format_datetime, format_time, format_timedelta, Locale\n",
    "import locale                                    # para tratar de poner espanol\n",
    "locale.setlocale(locale.LC_ALL,'es_CL.utf8')  \n",
    "\n",
    "from IPython.core.interactiveshell import InteractiveShell\n",
    "InteractiveShell.ast_node_interactivity = \"all\"\n",
    "%matplotlib inline"
   ]
  },
  {
   "cell_type": "markdown",
   "metadata": {},
   "source": [
    "Creo una función para verificar los RUT"
   ]
  },
  {
   "cell_type": "code",
   "execution_count": 2,
   "metadata": {},
   "outputs": [],
   "source": [
    "# verificador de RUT\n",
    "from itertools import cycle\n",
    "def digito_verificador(rut):\n",
    "    reversed_digits = map(int, reversed(str(rut)))\n",
    "    factors = cycle(range(2, 8))\n",
    "    s = sum(d * f for d, f in zip(reversed_digits, factors))\n",
    "    if (-s) % 11 == 10:\n",
    "        return 'K'\n",
    "    else:\n",
    "        return (-s) % 11\n",
    "\n",
    "def verifico_RUT(valor):\n",
    "    try:\n",
    "        RUT_i  = str(valor)[:-1]\n",
    "        RUT_DV =str(valor)[-1]\n",
    "        if (str(digito_verificador(RUT_i)) == RUT_DV) == True:\n",
    "            return 'RUT_OK'\n",
    "        else:\n",
    "            return 'RUT_error'\n",
    "    except:\n",
    "        print(\"ERROR! ERROR! ERROR!\")\n",
    "#         print(valor)\n",
    "        return 'RUT_error'"
   ]
  },
  {
   "cell_type": "markdown",
   "metadata": {},
   "source": [
    "listo todos los archivos disponibles para trabajar de los que he conseguido según la fecha que quiero analizar"
   ]
  },
  {
   "cell_type": "code",
   "execution_count": 3,
   "metadata": {},
   "outputs": [
    {
     "data": {
      "text/plain": [
       "['./BDs/Labs 2020-07-03/PCR 2020-07-03 Minsal.xlsx',\n",
       " './BDs/Labs 2020-07-03/PCR 2020-07-03 Labocenter.xlsx',\n",
       " './BDs/Labs 2020-07-03/PCR 2020-07-03 PUCV molecular.xlsx',\n",
       " './BDs/Labs 2020-07-03/PCR 2020-07-03 Barnafi.xlsx',\n",
       " './BDs/Labs 2020-07-03/PCR 2020-07-03 LABORATORIO ETCHEVERRY .xls',\n",
       " './BDs/Labs 2020-07-03/PCR 2020-07-03 PUCV acuicula.xlsx',\n",
       " './BDs/Labs 2020-07-03/PCR 2020-07-03 UV.xlsx',\n",
       " './BDs/Labs 2020-07-03/PCR 2020-07-03 integramedica.xlsx']"
      ]
     },
     "execution_count": 3,
     "metadata": {},
     "output_type": "execute_result"
    }
   ],
   "source": [
    "# listo los archivos disponibles que he bajado\n",
    "import os\n",
    "lista_archivos = []\n",
    "for dirname, dirnames, filenames in os.walk('./BDs/Labs 2020-07-03/'):\n",
    "    for filename in filenames:\n",
    "        lista_archivos.append(os.path.join(dirname, filename))\n",
    "archivos = lista_archivos\n",
    "archivos"
   ]
  },
  {
   "cell_type": "code",
   "execution_count": 4,
   "metadata": {},
   "outputs": [],
   "source": [
    "current_integramedica = [s for s in archivos if \"integramedica\" in s]\n",
    "current_barnafi = [s for s in archivos if \"Barnafi\" in s]\n",
    "current_PUCVmolecular = [s for s in archivos if \"PUCV molecular\" in s]\n",
    "current_PUCVacuicula = [s for s in archivos if \"PUCV acuicula\" in s]\n",
    "current_ETCHEVERRY = [s for s in archivos if \"ETCHEVERRY\" in s]\n",
    "current_Labocenter = [s for s in archivos if \"Labocenter\" in s]\n",
    "current_UV = [s for s in archivos if \"UV\" in s]\n",
    "current_MINSAL = [s for s in archivos if \"Minsal\" in s]\n",
    "\n",
    "laboratorios = ['current_integramedica', 'current_barnafi',\n",
    "                'current_PUCVmolecular', 'current_PUCVacuicula',\n",
    "                'current_ETCHEVERRY', 'current_Labocenter',\n",
    "                'current_UV', 'current_MINSAL']"
   ]
  },
  {
   "cell_type": "markdown",
   "metadata": {},
   "source": [
    "creo dictado con las BDs"
   ]
  },
  {
   "cell_type": "code",
   "execution_count": 5,
   "metadata": {},
   "outputs": [],
   "source": [
    "Laboratorios_dict = {}"
   ]
  },
  {
   "cell_type": "markdown",
   "metadata": {},
   "source": [
    "## Barnafi"
   ]
  },
  {
   "cell_type": "code",
   "execution_count": 6,
   "metadata": {},
   "outputs": [
    {
     "data": {
      "text/plain": [
       "Index(['Solicitud', 'Fecha Ingreso', 'Codigo', 'Cliente', 'Rut', 'Paciente',\n",
       "       'Edad', 'Código BK', 'Examen', 'Resultado', 'Sexo', 'Toma Mues.',\n",
       "       'Hora ingreso', 'Fecha Resultado', 'Hora Resultado',\n",
       "       'fecha hora resulados', 'Unnamed: 16', 'LabBD'],\n",
       "      dtype='object')"
      ]
     },
     "execution_count": 6,
     "metadata": {},
     "output_type": "execute_result"
    }
   ],
   "source": [
    "BD_barnafi = pd.read_excel(current_barnafi[0],\n",
    "                        sheet_name='BARNAFI_KRAUSE',\n",
    "                        skiprows=3,\n",
    "                       dayfirst=True)\n",
    "# numero lab\n",
    "l = 'Barnafi'\n",
    "Laboratorios_dict[l] = BD_barnafi\n",
    "Laboratorios_dict[l]['LabBD'] = l\n",
    "Laboratorios_dict[l].columns"
   ]
  },
  {
   "cell_type": "code",
   "execution_count": 7,
   "metadata": {},
   "outputs": [],
   "source": [
    "# creo el TS de ingreso\n",
    "Laboratorios_dict[l]['TS_recepcion'] = pd.to_datetime(\n",
    "    arg = (Laboratorios_dict[l]['Fecha Ingreso'].astype(str) + ' '+  Laboratorios_dict[l]['Hora ingreso'].astype(str)),\n",
    "    format=('%Y-%m-%d %H:%M:%S'))"
   ]
  },
  {
   "cell_type": "markdown",
   "metadata": {},
   "source": [
    "Elimino algunas columnas redundates"
   ]
  },
  {
   "cell_type": "code",
   "execution_count": 8,
   "metadata": {},
   "outputs": [],
   "source": [
    "Laboratorios_dict[l].drop(\n",
    "    columns= ['Fecha Ingreso', 'Hora ingreso', 'Código BK', 'Examen',\n",
    "              'Fecha Resultado', 'Hora Resultado', 'Unnamed: 16'],\n",
    "    index=1,\n",
    "    inplace=True)"
   ]
  },
  {
   "cell_type": "markdown",
   "metadata": {},
   "source": [
    "Chequeo la integridad de los rut"
   ]
  },
  {
   "cell_type": "code",
   "execution_count": 9,
   "metadata": {},
   "outputs": [
    {
     "name": "stdout",
     "output_type": "stream",
     "text": [
      "ERROR! ERROR! ERROR!\n",
      "ERROR! ERROR! ERROR!\n"
     ]
    },
    {
     "data": {
      "text/plain": [
       "RUT_OK       1341\n",
       "RUT_error       4\n",
       "Name: Verificador_RUT, dtype: int64"
      ]
     },
     "execution_count": 9,
     "metadata": {},
     "output_type": "execute_result"
    }
   ],
   "source": [
    "Laboratorios_dict[l]['Verificador_RUT'] = Laboratorios_dict[l].Rut.apply(lambda x: verifico_RUT(x))\n",
    "Laboratorios_dict[l]['Verificador_RUT'].value_counts(dropna=False)"
   ]
  },
  {
   "cell_type": "markdown",
   "metadata": {},
   "source": [
    "Normalizo las columnas"
   ]
  },
  {
   "cell_type": "code",
   "execution_count": 10,
   "metadata": {},
   "outputs": [],
   "source": [
    "normalizacion_cols = dict({\n",
    "    'correlativo SEREMI'\t\t\t\t\t\t\t\t\t\t\t\t\t: 'ID_SEREMI',\n",
    "    'Paciente' \t\t\t\t\t\t\t\t\t\t\t\t\t\t\t\t: 'Nombre',\n",
    "    'Rut'\t\t\t\t\t\t\t\t\t\t\t\t\t\t\t\t\t: 'RUT',\n",
    "    'Edad'\t\t\t\t\t\t\t\t\t\t\t\t\t\t\t\t\t: 'Edad',\n",
    "    'Sexo'\t\t\t\t\t\t\t\t\t\t\t\t\t\t\t\t\t: 'Sexo',\n",
    "    'Tipo muestra'\t\t\t\t\t\t\t\t\t\t\t\t\t\t\t: 'Tipo_muestra',\n",
    "    'Toma Mues.'\t\t\t\t\t\t\t\t\t\t\t\t\t\t\t: 'TS_toma',\n",
    "    'Fecha de recepción de la muestra'\t\t\t\t\t\t\t\t\t\t: 'TS_recepcion',\n",
    "    'fecha hora resulados'\t\t\t\t\t\t\t\t\t\t\t\t\t: 'TS_resultado',\n",
    "    'Hospital o establecimiento de origen (lugar donde se toma la muestra)'\t: 'origen',\n",
    "    'Región de establecimiento de origen'\t\t\t\t\t\t\t\t\t: 'origenRegion',\n",
    "    'Laboratorio de referencia (lugar donde se procesa la muestra)'\t\t\t: 'Laboratorio',\n",
    "    'Región de laboratorio donde se procesa la muestra'\t\t\t\t\t\t: 'LaboratorioRegion',\n",
    "    'Teléfono de contacto de paciente'\t\t\t\t\t\t\t\t\t\t: 'PAC_telefono',\n",
    "    'Correo de contacto de paciente'\t\t\t\t\t\t\t\t\t\t: 'PAC_mail',\n",
    "    'Dirección de contacto de paciente'\t\t\t\t\t\t\t\t\t\t: 'PAC_direccion',\n",
    "    'fecha validacioon'\t\t\t\t\t\t\t\t\t\t\t\t\t\t: 'TS_validacion'})\n",
    "\n",
    "# Resigno nombres\n",
    "Laboratorios_dict[l] = Laboratorios_dict[l].rename(columns=normalizacion_cols)"
   ]
  },
  {
   "cell_type": "markdown",
   "metadata": {},
   "source": [
    "Arreglo sexo"
   ]
  },
  {
   "cell_type": "code",
   "execution_count": 11,
   "metadata": {},
   "outputs": [
    {
     "data": {
      "text/plain": [
       "Index(['M', 'F', '0'], dtype='object')"
      ]
     },
     "execution_count": 11,
     "metadata": {},
     "output_type": "execute_result"
    },
    {
     "data": {
      "text/plain": [
       "Hombre    711\n",
       "Mujer     535\n",
       "Name: Sexo, dtype: int64"
      ]
     },
     "execution_count": 11,
     "metadata": {},
     "output_type": "execute_result"
    }
   ],
   "source": [
    "Laboratorios_dict[l].Sexo = Laboratorios_dict[l].Sexo.apply(str)\n",
    "Laboratorios_dict[l].Sexo.value_counts().index\n",
    "norm_sexo = dict({\n",
    "    'M' \t\t\t\t\t: 'Hombre',\n",
    "    '0' \t\t\t\t\t: np.nan,\n",
    "    'F' \t\t\t\t\t: 'Mujer'})\n",
    "\n",
    "# Resigno nombres\n",
    "Laboratorios_dict[l].Sexo = Laboratorios_dict[l].Sexo.replace(norm_sexo)\n",
    "Laboratorios_dict[l].Sexo.value_counts()"
   ]
  },
  {
   "cell_type": "code",
   "execution_count": 12,
   "metadata": {},
   "outputs": [
    {
     "data": {
      "text/html": [
       "<div>\n",
       "<style scoped>\n",
       "    .dataframe tbody tr th:only-of-type {\n",
       "        vertical-align: middle;\n",
       "    }\n",
       "\n",
       "    .dataframe tbody tr th {\n",
       "        vertical-align: top;\n",
       "    }\n",
       "\n",
       "    .dataframe thead th {\n",
       "        text-align: right;\n",
       "    }\n",
       "</style>\n",
       "<table border=\"1\" class=\"dataframe\">\n",
       "  <thead>\n",
       "    <tr style=\"text-align: right;\">\n",
       "      <th></th>\n",
       "      <th>Solicitud</th>\n",
       "      <th>Codigo</th>\n",
       "      <th>Cliente</th>\n",
       "      <th>Edad</th>\n",
       "      <th>Resultado</th>\n",
       "      <th>Sexo</th>\n",
       "      <th>TS_toma</th>\n",
       "      <th>TS_resultado</th>\n",
       "      <th>LabBD</th>\n",
       "      <th>TS_recepcion</th>\n",
       "      <th>Verificador_RUT</th>\n",
       "    </tr>\n",
       "  </thead>\n",
       "  <tbody>\n",
       "    <tr>\n",
       "      <th>0</th>\n",
       "      <td>1015401</td>\n",
       "      <td>334</td>\n",
       "      <td>MAC MEDICA - CURICO</td>\n",
       "      <td>34</td>\n",
       "      <td>NEGATIVO</td>\n",
       "      <td>Hombre</td>\n",
       "      <td>2020-07-01</td>\n",
       "      <td>2020-07-02 19:47:00</td>\n",
       "      <td>Barnafi</td>\n",
       "      <td>2020-07-02 08:18:00</td>\n",
       "      <td>RUT_OK</td>\n",
       "    </tr>\n",
       "    <tr>\n",
       "      <th>2</th>\n",
       "      <td>1016668</td>\n",
       "      <td>161</td>\n",
       "      <td>LIMARI LTDA.</td>\n",
       "      <td>19</td>\n",
       "      <td>NEGATIVO</td>\n",
       "      <td>Hombre</td>\n",
       "      <td>2020-07-01</td>\n",
       "      <td>2020-07-02 19:47:00</td>\n",
       "      <td>Barnafi</td>\n",
       "      <td>2020-07-02 10:06:00</td>\n",
       "      <td>RUT_OK</td>\n",
       "    </tr>\n",
       "    <tr>\n",
       "      <th>3</th>\n",
       "      <td>1016689</td>\n",
       "      <td>251</td>\n",
       "      <td>ALEMAN - CURICO</td>\n",
       "      <td>40</td>\n",
       "      <td>NEGATIVO</td>\n",
       "      <td>Hombre</td>\n",
       "      <td>2020-07-01</td>\n",
       "      <td>2020-07-02 19:47:00</td>\n",
       "      <td>Barnafi</td>\n",
       "      <td>2020-07-02 10:28:00</td>\n",
       "      <td>RUT_OK</td>\n",
       "    </tr>\n",
       "  </tbody>\n",
       "</table>\n",
       "</div>"
      ],
      "text/plain": [
       "   Solicitud  Codigo              Cliente  Edad Resultado    Sexo    TS_toma  \\\n",
       "0    1015401     334  MAC MEDICA - CURICO    34  NEGATIVO  Hombre 2020-07-01   \n",
       "2    1016668     161         LIMARI LTDA.    19  NEGATIVO  Hombre 2020-07-01   \n",
       "3    1016689     251      ALEMAN - CURICO    40  NEGATIVO  Hombre 2020-07-01   \n",
       "\n",
       "         TS_resultado    LabBD        TS_recepcion Verificador_RUT  \n",
       "0 2020-07-02 19:47:00  Barnafi 2020-07-02 08:18:00          RUT_OK  \n",
       "2 2020-07-02 19:47:00  Barnafi 2020-07-02 10:06:00          RUT_OK  \n",
       "3 2020-07-02 19:47:00  Barnafi 2020-07-02 10:28:00          RUT_OK  "
      ]
     },
     "execution_count": 12,
     "metadata": {},
     "output_type": "execute_result"
    }
   ],
   "source": [
    "Laboratorios_dict[l] .head(3).loc[:, (Laboratorios_dict[l].columns != 'Nombre') & (Laboratorios_dict[l].columns != 'RUT')]"
   ]
  },
  {
   "cell_type": "markdown",
   "metadata": {},
   "source": [
    "## Integramedica"
   ]
  },
  {
   "cell_type": "code",
   "execution_count": 13,
   "metadata": {},
   "outputs": [
    {
     "data": {
      "text/plain": [
       "Index(['RUN', 'Nombre', 'Sexo', 'Edad', 'Tipo muestra', 'Resultado',\n",
       "       'Fecha de toma de muestra', 'Fecha de recepción de la muestra',\n",
       "       'Fecha de resultado', 'Hospital o establecimiento de origen',\n",
       "       'Región de establecimiento de origen', 'Laboratorio de referencia',\n",
       "       'Región de laboratorio donde se procesa la muestra', 'Teléfono ',\n",
       "       'Correo ', 'Dirección de contacto de paciente', 'LabBD'],\n",
       "      dtype='object')"
      ]
     },
     "execution_count": 13,
     "metadata": {},
     "output_type": "execute_result"
    }
   ],
   "source": [
    "BD_integramedica = pd.read_excel(current_integramedica[0],\n",
    "                                 dayfirst=True)\n",
    "\n",
    "# numero lab\n",
    "l = 'Integramedica'\n",
    "Laboratorios_dict[l] = BD_integramedica\n",
    "Laboratorios_dict[l]['LabBD'] = l\n",
    "Laboratorios_dict[l].columns"
   ]
  },
  {
   "cell_type": "markdown",
   "metadata": {},
   "source": [
    "Chequeo la integridad de los rut"
   ]
  },
  {
   "cell_type": "code",
   "execution_count": 14,
   "metadata": {},
   "outputs": [
    {
     "name": "stdout",
     "output_type": "stream",
     "text": [
      "ERROR! ERROR! ERROR!\n"
     ]
    },
    {
     "data": {
      "text/plain": [
       "RUT_OK       1122\n",
       "RUT_error       2\n",
       "Name: Verificador_RUT, dtype: int64"
      ]
     },
     "execution_count": 14,
     "metadata": {},
     "output_type": "execute_result"
    }
   ],
   "source": [
    "Laboratorios_dict[l]['Verificador_RUT'] = Laboratorios_dict[l].RUN.apply(lambda x: verifico_RUT(x))\n",
    "Laboratorios_dict[l]['Verificador_RUT'].value_counts(dropna=False)"
   ]
  },
  {
   "cell_type": "code",
   "execution_count": 15,
   "metadata": {},
   "outputs": [
    {
     "data": {
      "text/plain": [
       "Index(['RUN', 'Nombre', 'Sexo', 'Edad', 'Tipo muestra', 'Resultado',\n",
       "       'Fecha de toma de muestra', 'Fecha de recepción de la muestra',\n",
       "       'Fecha de resultado', 'Hospital o establecimiento de origen',\n",
       "       'Región de establecimiento de origen', 'Laboratorio de referencia',\n",
       "       'Región de laboratorio donde se procesa la muestra', 'Teléfono ',\n",
       "       'Correo ', 'Dirección de contacto de paciente', 'LabBD',\n",
       "       'Verificador_RUT'],\n",
       "      dtype='object')"
      ]
     },
     "execution_count": 15,
     "metadata": {},
     "output_type": "execute_result"
    }
   ],
   "source": [
    "# Normalizo las columnas\n",
    "Laboratorios_dict[l].columns"
   ]
  },
  {
   "cell_type": "code",
   "execution_count": 16,
   "metadata": {},
   "outputs": [],
   "source": [
    "normalizacion_cols = dict({\n",
    "    'correlativo SEREMI'\t\t\t\t\t\t\t\t\t\t\t\t\t: 'ID_SEREMI',\n",
    "    'Paciente' \t\t\t\t\t\t\t\t\t\t\t\t\t\t\t\t: 'Nombre',\n",
    "    'RUN'\t\t\t\t\t\t\t\t\t\t\t\t\t\t\t\t\t: 'RUT',\n",
    "    'Edad'\t\t\t\t\t\t\t\t\t\t\t\t\t\t\t\t\t: 'Edad',\n",
    "    'Sexo'\t\t\t\t\t\t\t\t\t\t\t\t\t\t\t\t\t: 'Sexo',\n",
    "    'Tipo muestra'\t\t\t\t\t\t\t\t\t\t\t\t\t\t\t: 'Tipo_muestra',\n",
    "    'Fecha de toma de muestra'\t\t\t\t\t\t\t\t\t\t\t\t: 'TS_toma',\n",
    "    'Fecha de recepción de la muestra'\t\t\t\t\t\t\t\t\t\t: 'TS_recepcion',\n",
    "    'Fecha de resultado'\t\t\t\t\t\t\t\t\t\t\t\t\t: 'TS_resultado',\n",
    "    'Hospital o establecimiento de origen'\t\t\t\t\t\t\t\t\t: 'origen',\n",
    "    'Región de establecimiento de origen'\t\t\t\t\t\t\t\t\t: 'origenRegion',\n",
    "    'Laboratorio de referencia'\t\t\t\t\t\t\t\t\t\t\t\t: 'Laboratorio',\n",
    "    'Región de laboratorio donde se procesa la muestra'\t\t\t\t\t\t: 'LaboratorioRegion',\n",
    "    'Teléfono'\t\t\t\t\t\t\t\t\t\t\t\t\t\t\t\t: 'PAC_telefono',\n",
    "    'Correo '\t\t\t\t\t\t\t\t\t\t\t\t\t\t\t\t: 'PAC_mail',\n",
    "    'Dirección de contacto de paciente'\t\t\t\t\t\t\t\t\t\t: 'PAC_direccion',\n",
    "    'fecha validacioon'\t\t\t\t\t\t\t\t\t\t\t\t\t\t: 'TS_validacion'})\n",
    "\n",
    "# Resigno nombres\n",
    "Laboratorios_dict[l] = Laboratorios_dict[l].rename(columns=normalizacion_cols)"
   ]
  },
  {
   "cell_type": "code",
   "execution_count": 17,
   "metadata": {},
   "outputs": [
    {
     "data": {
      "text/html": [
       "<div>\n",
       "<style scoped>\n",
       "    .dataframe tbody tr th:only-of-type {\n",
       "        vertical-align: middle;\n",
       "    }\n",
       "\n",
       "    .dataframe tbody tr th {\n",
       "        vertical-align: top;\n",
       "    }\n",
       "\n",
       "    .dataframe thead th {\n",
       "        text-align: right;\n",
       "    }\n",
       "</style>\n",
       "<table border=\"1\" class=\"dataframe\">\n",
       "  <thead>\n",
       "    <tr style=\"text-align: right;\">\n",
       "      <th></th>\n",
       "      <th>Sexo</th>\n",
       "      <th>Edad</th>\n",
       "      <th>Tipo_muestra</th>\n",
       "      <th>Resultado</th>\n",
       "      <th>TS_toma</th>\n",
       "      <th>TS_recepcion</th>\n",
       "      <th>TS_resultado</th>\n",
       "      <th>origen</th>\n",
       "      <th>origenRegion</th>\n",
       "      <th>Laboratorio</th>\n",
       "      <th>LaboratorioRegion</th>\n",
       "      <th>Teléfono</th>\n",
       "      <th>PAC_mail</th>\n",
       "      <th>LabBD</th>\n",
       "      <th>Verificador_RUT</th>\n",
       "    </tr>\n",
       "  </thead>\n",
       "  <tbody>\n",
       "    <tr>\n",
       "      <th>0</th>\n",
       "      <td>HOMBRE</td>\n",
       "      <td>40</td>\n",
       "      <td>HISOPADO NASOFARINGEO</td>\n",
       "      <td>NEGATIVO</td>\n",
       "      <td>2020-07-01 15:00:00</td>\n",
       "      <td>2020-07-02 10:17:58</td>\n",
       "      <td>2020-07-02 22:04:00</td>\n",
       "      <td>CENTROS MEDICOS INTEGRAMEDICA</td>\n",
       "      <td>BIO BIO</td>\n",
       "      <td>EXAMENES DE LABORATORIO SA (INTEGRAMEDICA)</td>\n",
       "      <td>REGION METROPOLITANA</td>\n",
       "      <td>998302424</td>\n",
       "      <td>NaN</td>\n",
       "      <td>Integramedica</td>\n",
       "      <td>RUT_OK</td>\n",
       "    </tr>\n",
       "    <tr>\n",
       "      <th>1</th>\n",
       "      <td>HOMBRE</td>\n",
       "      <td>42</td>\n",
       "      <td>HISOPADO NASOFARINGEO</td>\n",
       "      <td>NEGATIVO</td>\n",
       "      <td>2020-07-01 11:18:00</td>\n",
       "      <td>2020-07-01 19:03:43</td>\n",
       "      <td>2020-07-02 22:04:00</td>\n",
       "      <td>CLINICA REÑACA</td>\n",
       "      <td>VALPARAISO</td>\n",
       "      <td>EXAMENES DE LABORATORIO SA (INTEGRAMEDICA)</td>\n",
       "      <td>REGION METROPOLITANA</td>\n",
       "      <td>945368655</td>\n",
       "      <td>NaN</td>\n",
       "      <td>Integramedica</td>\n",
       "      <td>RUT_OK</td>\n",
       "    </tr>\n",
       "    <tr>\n",
       "      <th>2</th>\n",
       "      <td>HOMBRE</td>\n",
       "      <td>19</td>\n",
       "      <td>HISOPADO NASOFARINGEO</td>\n",
       "      <td>NEGATIVO</td>\n",
       "      <td>2020-07-01 12:07:00</td>\n",
       "      <td>2020-07-01 19:03:43</td>\n",
       "      <td>2020-07-02 22:04:00</td>\n",
       "      <td>CLINICA REÑACA</td>\n",
       "      <td>VALPARAISO</td>\n",
       "      <td>EXAMENES DE LABORATORIO SA (INTEGRAMEDICA)</td>\n",
       "      <td>REGION METROPOLITANA</td>\n",
       "      <td>962386009</td>\n",
       "      <td>NaN</td>\n",
       "      <td>Integramedica</td>\n",
       "      <td>RUT_OK</td>\n",
       "    </tr>\n",
       "  </tbody>\n",
       "</table>\n",
       "</div>"
      ],
      "text/plain": [
       "     Sexo  Edad           Tipo_muestra Resultado             TS_toma  \\\n",
       "0  HOMBRE    40  HISOPADO NASOFARINGEO  NEGATIVO 2020-07-01 15:00:00   \n",
       "1  HOMBRE    42  HISOPADO NASOFARINGEO  NEGATIVO 2020-07-01 11:18:00   \n",
       "2  HOMBRE    19  HISOPADO NASOFARINGEO  NEGATIVO 2020-07-01 12:07:00   \n",
       "\n",
       "         TS_recepcion        TS_resultado                         origen  \\\n",
       "0 2020-07-02 10:17:58 2020-07-02 22:04:00  CENTROS MEDICOS INTEGRAMEDICA   \n",
       "1 2020-07-01 19:03:43 2020-07-02 22:04:00                 CLINICA REÑACA   \n",
       "2 2020-07-01 19:03:43 2020-07-02 22:04:00                 CLINICA REÑACA   \n",
       "\n",
       "  origenRegion                                 Laboratorio  \\\n",
       "0     BIO BIO   EXAMENES DE LABORATORIO SA (INTEGRAMEDICA)   \n",
       "1   VALPARAISO  EXAMENES DE LABORATORIO SA (INTEGRAMEDICA)   \n",
       "2   VALPARAISO  EXAMENES DE LABORATORIO SA (INTEGRAMEDICA)   \n",
       "\n",
       "      LaboratorioRegion  Teléfono   PAC_mail          LabBD Verificador_RUT  \n",
       "0  REGION METROPOLITANA  998302424       NaN  Integramedica          RUT_OK  \n",
       "1  REGION METROPOLITANA  945368655       NaN  Integramedica          RUT_OK  \n",
       "2  REGION METROPOLITANA  962386009       NaN  Integramedica          RUT_OK  "
      ]
     },
     "execution_count": 17,
     "metadata": {},
     "output_type": "execute_result"
    }
   ],
   "source": [
    "Laboratorios_dict[l] .head(3).loc[:,\n",
    "                                  (Laboratorios_dict[l].columns != 'Nombre') &\n",
    "                                  (Laboratorios_dict[l].columns != 'RUT') &\n",
    "                                  (Laboratorios_dict[l].columns != 'PAC_direccion') \n",
    "                                 ]"
   ]
  },
  {
   "cell_type": "markdown",
   "metadata": {},
   "source": [
    "## PUCV molecular"
   ]
  },
  {
   "cell_type": "code",
   "execution_count": 18,
   "metadata": {},
   "outputs": [
    {
     "data": {
      "text/plain": [
       "Index(['RUN', 'Nombre', 'Sexo', 'Edad', 'Tipo muestra', 'Resultado',\n",
       "       'Fecha de toma de muestra', 'Fecha de recepción de la muestra',\n",
       "       'Fecha de resultado',\n",
       "       'Hospital o establecimiento de origen (lugar donde se toma la muestra)',\n",
       "       'Región de establecimiento de origen',\n",
       "       'Laboratorio de referencia (lugar donde se procesa la muestra)',\n",
       "       'Región de laboratorio donde se procesa la muestra',\n",
       "       'Teléfono de contacto de paciente', 'Correo de contacto de paciente',\n",
       "       'Dirección de contacto de paciente', 'LabBD'],\n",
       "      dtype='object')"
      ]
     },
     "execution_count": 18,
     "metadata": {},
     "output_type": "execute_result"
    }
   ],
   "source": [
    "BD_PUCVmoleular = pd.read_excel(current_PUCVmolecular[0],\n",
    "                                 dayfirst=True)\n",
    "# numero lab\n",
    "l = 'PUCV molecular'\n",
    "Laboratorios_dict[l] = BD_PUCVmoleular\n",
    "Laboratorios_dict[l]['LabBD'] = l\n",
    "Laboratorios_dict[l].columns"
   ]
  },
  {
   "cell_type": "markdown",
   "metadata": {},
   "source": [
    "Chequeo la integridad de los rut"
   ]
  },
  {
   "cell_type": "code",
   "execution_count": 19,
   "metadata": {},
   "outputs": [
    {
     "data": {
      "text/plain": [
       "RUT_OK       21\n",
       "RUT_error     1\n",
       "Name: Verificador_RUT, dtype: int64"
      ]
     },
     "execution_count": 19,
     "metadata": {},
     "output_type": "execute_result"
    }
   ],
   "source": [
    "Laboratorios_dict[l]['Verificador_RUT'] = Laboratorios_dict[l].RUN.apply(lambda x: verifico_RUT(x))\n",
    "Laboratorios_dict[l]['Verificador_RUT'].value_counts(dropna=False)"
   ]
  },
  {
   "cell_type": "code",
   "execution_count": 20,
   "metadata": {},
   "outputs": [
    {
     "data": {
      "text/plain": [
       "Index(['RUN', 'Nombre', 'Sexo', 'Edad', 'Tipo muestra', 'Resultado',\n",
       "       'Fecha de toma de muestra', 'Fecha de recepción de la muestra',\n",
       "       'Fecha de resultado',\n",
       "       'Hospital o establecimiento de origen (lugar donde se toma la muestra)',\n",
       "       'Región de establecimiento de origen',\n",
       "       'Laboratorio de referencia (lugar donde se procesa la muestra)',\n",
       "       'Región de laboratorio donde se procesa la muestra',\n",
       "       'Teléfono de contacto de paciente', 'Correo de contacto de paciente',\n",
       "       'Dirección de contacto de paciente', 'LabBD', 'Verificador_RUT'],\n",
       "      dtype='object')"
      ]
     },
     "execution_count": 20,
     "metadata": {},
     "output_type": "execute_result"
    }
   ],
   "source": [
    "# Normalizo las columnas\n",
    "Laboratorios_dict[l].columns"
   ]
  },
  {
   "cell_type": "code",
   "execution_count": 21,
   "metadata": {},
   "outputs": [],
   "source": [
    "normalizacion_cols = dict({\n",
    "    'correlativo SEREMI'\t\t\t\t\t\t\t\t\t\t\t\t\t: 'ID_SEREMI',\n",
    "    'Paciente' \t\t\t\t\t\t\t\t\t\t\t\t\t\t\t\t: 'Nombre',\n",
    "    'RUN'\t\t\t\t\t\t\t\t\t\t\t\t\t\t\t\t\t: 'RUT',\n",
    "    'Edad'\t\t\t\t\t\t\t\t\t\t\t\t\t\t\t\t\t: 'Edad',\n",
    "    'Sexo'\t\t\t\t\t\t\t\t\t\t\t\t\t\t\t\t\t: 'Sexo',\n",
    "    'Tipo muestra'\t\t\t\t\t\t\t\t\t\t\t\t\t\t\t: 'Tipo_muestra',\n",
    "    'Fecha de toma de muestra'\t\t\t\t\t\t\t\t\t\t\t\t: 'TS_toma',\n",
    "    'Fecha de recepción de la muestra'\t\t\t\t\t\t\t\t\t\t: 'TS_recepcion',\n",
    "    'Fecha de resultado'\t\t\t\t\t\t\t\t\t\t\t\t\t: 'TS_resultado',\n",
    "    'Hospital o establecimiento de origen (lugar donde se toma la muestra)'\t: 'origen',\n",
    "    'Región de establecimiento de origen'\t\t\t\t\t\t\t\t\t: 'origenRegion',\n",
    "    'Laboratorio de referencia (lugar donde se procesa la muestra)'\t\t\t: 'Laboratorio',\n",
    "    'Región de laboratorio donde se procesa la muestra'\t\t\t\t\t\t: 'LaboratorioRegion',\n",
    "    'Teléfono de contacto de paciente'\t\t\t\t\t\t\t\t\t\t: 'PAC_telefono',\n",
    "    'Correo de contacto de paciente'\t\t\t\t\t\t\t\t\t\t: 'PAC_mail',\n",
    "    'Dirección de contacto de paciente'\t\t\t\t\t\t\t\t\t\t: 'PAC_direccion',\n",
    "    'fecha validacioon'\t\t\t\t\t\t\t\t\t\t\t\t\t\t: 'TS_validacion'})\n",
    "\n",
    "# Resigno nombres\n",
    "Laboratorios_dict[l] = Laboratorios_dict[l].rename(columns=normalizacion_cols)"
   ]
  },
  {
   "cell_type": "code",
   "execution_count": 22,
   "metadata": {},
   "outputs": [
    {
     "data": {
      "text/plain": [
       "Index(['F', 'M'], dtype='object')"
      ]
     },
     "execution_count": 22,
     "metadata": {},
     "output_type": "execute_result"
    },
    {
     "data": {
      "text/plain": [
       "Mujer     14\n",
       "Hombre     8\n",
       "Name: Sexo, dtype: int64"
      ]
     },
     "execution_count": 22,
     "metadata": {},
     "output_type": "execute_result"
    }
   ],
   "source": [
    "Laboratorios_dict[l].Sexo = Laboratorios_dict[l].Sexo.apply(str)\n",
    "Laboratorios_dict[l].Sexo.value_counts().index\n",
    "norm_sexo = dict({\n",
    "    'M' \t\t\t\t\t: 'Hombre',\n",
    "    'F' \t\t\t\t\t: 'Mujer'})\n",
    "\n",
    "# Resigno nombres\n",
    "Laboratorios_dict[l].Sexo = Laboratorios_dict[l].Sexo.replace(norm_sexo)\n",
    "Laboratorios_dict[l].Sexo.value_counts()"
   ]
  },
  {
   "cell_type": "code",
   "execution_count": 23,
   "metadata": {},
   "outputs": [
    {
     "data": {
      "text/html": [
       "<div>\n",
       "<style scoped>\n",
       "    .dataframe tbody tr th:only-of-type {\n",
       "        vertical-align: middle;\n",
       "    }\n",
       "\n",
       "    .dataframe tbody tr th {\n",
       "        vertical-align: top;\n",
       "    }\n",
       "\n",
       "    .dataframe thead th {\n",
       "        text-align: right;\n",
       "    }\n",
       "</style>\n",
       "<table border=\"1\" class=\"dataframe\">\n",
       "  <thead>\n",
       "    <tr style=\"text-align: right;\">\n",
       "      <th></th>\n",
       "      <th>Sexo</th>\n",
       "      <th>Edad</th>\n",
       "      <th>Tipo_muestra</th>\n",
       "      <th>Resultado</th>\n",
       "      <th>TS_toma</th>\n",
       "      <th>TS_recepcion</th>\n",
       "      <th>TS_resultado</th>\n",
       "      <th>origen</th>\n",
       "      <th>origenRegion</th>\n",
       "      <th>Laboratorio</th>\n",
       "      <th>LaboratorioRegion</th>\n",
       "      <th>LabBD</th>\n",
       "      <th>Verificador_RUT</th>\n",
       "    </tr>\n",
       "  </thead>\n",
       "  <tbody>\n",
       "    <tr>\n",
       "      <th>0</th>\n",
       "      <td>Hombre</td>\n",
       "      <td>60</td>\n",
       "      <td>TORULA NASOFARINGEA</td>\n",
       "      <td>NEGATIVO</td>\n",
       "      <td>2020-07-01</td>\n",
       "      <td>2020-07-01</td>\n",
       "      <td>2020-07-03</td>\n",
       "      <td>Hospital Familiar y Comunitario San José- Casa...</td>\n",
       "      <td>VALPARAISO</td>\n",
       "      <td>LABORATORIO TECNOLOGIA MEDICA PUCV</td>\n",
       "      <td>VALPARAISO</td>\n",
       "      <td>PUCV molecular</td>\n",
       "      <td>RUT_OK</td>\n",
       "    </tr>\n",
       "    <tr>\n",
       "      <th>1</th>\n",
       "      <td>Mujer</td>\n",
       "      <td>56</td>\n",
       "      <td>TORULA NASOFARINGEA</td>\n",
       "      <td>INDETERMINADO</td>\n",
       "      <td>2020-07-01</td>\n",
       "      <td>2020-07-02</td>\n",
       "      <td>2020-07-03</td>\n",
       "      <td>ALGARROBO</td>\n",
       "      <td>VALPARAISO</td>\n",
       "      <td>LABORATORIO TECNOLOGIA MEDICA PUCV</td>\n",
       "      <td>VALPARAISO</td>\n",
       "      <td>PUCV molecular</td>\n",
       "      <td>RUT_OK</td>\n",
       "    </tr>\n",
       "    <tr>\n",
       "      <th>2</th>\n",
       "      <td>Mujer</td>\n",
       "      <td>80</td>\n",
       "      <td>TORULA NASOFARINGEA</td>\n",
       "      <td>NEGATIVO</td>\n",
       "      <td>2020-07-01</td>\n",
       "      <td>2020-07-02</td>\n",
       "      <td>2020-07-03</td>\n",
       "      <td>ALGARROBO</td>\n",
       "      <td>VALPARAISO</td>\n",
       "      <td>LABORATORIO TECNOLOGIA MEDICA PUCV</td>\n",
       "      <td>VALPARAISO</td>\n",
       "      <td>PUCV molecular</td>\n",
       "      <td>RUT_OK</td>\n",
       "    </tr>\n",
       "  </tbody>\n",
       "</table>\n",
       "</div>"
      ],
      "text/plain": [
       "     Sexo  Edad         Tipo_muestra      Resultado    TS_toma TS_recepcion  \\\n",
       "0  Hombre    60  TORULA NASOFARINGEA       NEGATIVO 2020-07-01   2020-07-01   \n",
       "1   Mujer    56  TORULA NASOFARINGEA  INDETERMINADO 2020-07-01   2020-07-02   \n",
       "2   Mujer    80  TORULA NASOFARINGEA       NEGATIVO 2020-07-01   2020-07-02   \n",
       "\n",
       "  TS_resultado                                             origen  \\\n",
       "0   2020-07-03  Hospital Familiar y Comunitario San José- Casa...   \n",
       "1   2020-07-03                                          ALGARROBO   \n",
       "2   2020-07-03                                          ALGARROBO   \n",
       "\n",
       "  origenRegion                         Laboratorio LaboratorioRegion  \\\n",
       "0   VALPARAISO  LABORATORIO TECNOLOGIA MEDICA PUCV        VALPARAISO   \n",
       "1   VALPARAISO  LABORATORIO TECNOLOGIA MEDICA PUCV        VALPARAISO   \n",
       "2   VALPARAISO  LABORATORIO TECNOLOGIA MEDICA PUCV        VALPARAISO   \n",
       "\n",
       "            LabBD Verificador_RUT  \n",
       "0  PUCV molecular          RUT_OK  \n",
       "1  PUCV molecular          RUT_OK  \n",
       "2  PUCV molecular          RUT_OK  "
      ]
     },
     "execution_count": 23,
     "metadata": {},
     "output_type": "execute_result"
    }
   ],
   "source": [
    "Laboratorios_dict[l] .head(3).loc[:,\n",
    "                                  (Laboratorios_dict[l].columns != 'Nombre') &\n",
    "                                  (Laboratorios_dict[l].columns != 'RUT') &\n",
    "                                  (Laboratorios_dict[l].columns != 'PAC_direccion') &\n",
    "                                  (Laboratorios_dict[l].columns != 'PAC_telefono') &\n",
    "                                  (Laboratorios_dict[l].columns != 'PAC_mail') \n",
    "                                 ]"
   ]
  },
  {
   "cell_type": "code",
   "execution_count": null,
   "metadata": {},
   "outputs": [],
   "source": []
  },
  {
   "cell_type": "markdown",
   "metadata": {},
   "source": [
    "## PUCV acuicola"
   ]
  },
  {
   "cell_type": "code",
   "execution_count": 24,
   "metadata": {},
   "outputs": [
    {
     "data": {
      "text/plain": [
       "Index(['RUN', 'NOMBRE ', 'SEXO', 'EDAD', 'TIPO DE MUESTRA', 'RESULTADO',\n",
       "       'FECHA TOMA DE MUESTRA', 'FECHA DE RECEPCION DE MUESTRA',\n",
       "       'FECHA DE RESULTADO', 'HOSPITAL O ESTABLECIMIENTO DE REFERENCIA',\n",
       "       'LABORATORIO DE REFERENCIA', 'TELEFONO PACIENTE', 'CORREO PACIENTE',\n",
       "       'DIRECCION PACIENTE', 'LabBD'],\n",
       "      dtype='object')"
      ]
     },
     "execution_count": 24,
     "metadata": {},
     "output_type": "execute_result"
    }
   ],
   "source": [
    "BD_PUCVacuicola = pd.read_excel(current_PUCVacuicula[0],\n",
    "                                 dayfirst=True)\n",
    "# numero lab\n",
    "l = 'PUCV acuicola'\n",
    "Laboratorios_dict[l] = BD_PUCVacuicola\n",
    "Laboratorios_dict[l]['LabBD'] = l\n",
    "Laboratorios_dict[l].columns"
   ]
  },
  {
   "cell_type": "markdown",
   "metadata": {},
   "source": [
    "Chequeo la integridad de los rut"
   ]
  },
  {
   "cell_type": "code",
   "execution_count": 25,
   "metadata": {},
   "outputs": [
    {
     "data": {
      "text/plain": [
       "RUT_OK       25\n",
       "RUT_error     1\n",
       "Name: Verificador_RUT, dtype: int64"
      ]
     },
     "execution_count": 25,
     "metadata": {},
     "output_type": "execute_result"
    }
   ],
   "source": [
    "Laboratorios_dict[l] ['Verificador_RUT'] = Laboratorios_dict[l] .RUN.apply(lambda x: verifico_RUT(x))\n",
    "Laboratorios_dict[l] ['Verificador_RUT'].value_counts(dropna=False)"
   ]
  },
  {
   "cell_type": "code",
   "execution_count": 26,
   "metadata": {},
   "outputs": [
    {
     "data": {
      "text/plain": [
       "Index(['RUN', 'NOMBRE ', 'SEXO', 'EDAD', 'TIPO DE MUESTRA', 'RESULTADO',\n",
       "       'FECHA TOMA DE MUESTRA', 'FECHA DE RECEPCION DE MUESTRA',\n",
       "       'FECHA DE RESULTADO', 'HOSPITAL O ESTABLECIMIENTO DE REFERENCIA',\n",
       "       'LABORATORIO DE REFERENCIA', 'TELEFONO PACIENTE', 'CORREO PACIENTE',\n",
       "       'DIRECCION PACIENTE', 'LabBD', 'Verificador_RUT'],\n",
       "      dtype='object')"
      ]
     },
     "execution_count": 26,
     "metadata": {},
     "output_type": "execute_result"
    }
   ],
   "source": [
    "# Normalizo las columnas\n",
    "Laboratorios_dict[l] .columns"
   ]
  },
  {
   "cell_type": "code",
   "execution_count": 27,
   "metadata": {},
   "outputs": [],
   "source": [
    "normalizacion_cols = dict({\n",
    "    'correlativo SEREMI'\t\t\t\t\t\t\t\t\t\t\t\t\t: 'ID_SEREMI',\n",
    "    'RUN'\t\t\t\t\t\t\t\t\t\t\t\t\t\t\t\t\t: 'RUT',\n",
    "    'NOMBRE ' \t\t\t\t\t\t\t\t\t\t\t\t\t\t\t\t: 'Nombre',\n",
    "    'SEXO'\t\t\t\t\t\t\t\t\t\t\t\t\t\t\t\t\t: 'Sexo',\n",
    "    'EDAD'\t\t\t\t\t\t\t\t\t\t\t\t\t\t\t\t\t: 'Edad',\n",
    "    'RESULTADO'\t\t\t\t\t\t\t\t\t\t\t\t\t\t\t\t: 'Resultado',\n",
    "    'TIPO DE MUESTRA'\t\t\t\t\t\t\t\t\t\t\t\t\t\t: 'Tipo_muestra',\n",
    "    'FECHA TOMA DE MUESTRA'\t\t\t\t\t\t\t\t\t\t\t\t\t: 'TS_toma',\n",
    "    'FECHA DE RECEPCION DE MUESTRA'\t\t\t\t\t\t\t\t\t\t\t: 'TS_recepcion',\n",
    "    'FECHA DE RESULTADO'\t\t\t\t\t\t\t\t\t\t\t\t\t: 'TS_resultado',\n",
    "    'HOSPITAL O ESTABLECIMIENTO DE REFERENCIA'\t\t\t\t\t\t\t\t: 'origen',\n",
    "    'Región de establecimiento de origen'\t\t\t\t\t\t\t\t\t: 'origenRegion',\n",
    "    'LABORATORIO DE REFERENCIA'\t\t\t\t\t\t\t\t\t\t\t\t: 'Laboratorio',\n",
    "    'Región de laboratorio donde se procesa la muestra'\t\t\t\t\t\t: 'LaboratorioRegion',\n",
    "    'TELEFONO PACIENTE'\t\t\t\t\t\t\t\t\t\t\t\t\t\t: 'PAC_telefono',\n",
    "    'CORREO PACIENTE'\t\t\t\t\t\t\t\t\t\t\t\t\t\t: 'PAC_mail',\n",
    "    'DIRECCION PACIENTE'\t\t\t\t\t\t\t\t\t\t\t\t\t: 'PAC_direccion',\n",
    "    'fecha validacioon'\t\t\t\t\t\t\t\t\t\t\t\t\t\t: 'TS_validacion'})\n",
    "\n",
    "# Resigno nombres\n",
    "Laboratorios_dict[l]  = Laboratorios_dict[l] .rename(columns=normalizacion_cols)"
   ]
  },
  {
   "cell_type": "code",
   "execution_count": 28,
   "metadata": {},
   "outputs": [
    {
     "data": {
      "text/html": [
       "<div>\n",
       "<style scoped>\n",
       "    .dataframe tbody tr th:only-of-type {\n",
       "        vertical-align: middle;\n",
       "    }\n",
       "\n",
       "    .dataframe tbody tr th {\n",
       "        vertical-align: top;\n",
       "    }\n",
       "\n",
       "    .dataframe thead th {\n",
       "        text-align: right;\n",
       "    }\n",
       "</style>\n",
       "<table border=\"1\" class=\"dataframe\">\n",
       "  <thead>\n",
       "    <tr style=\"text-align: right;\">\n",
       "      <th></th>\n",
       "      <th>Sexo</th>\n",
       "      <th>Edad</th>\n",
       "      <th>Tipo_muestra</th>\n",
       "      <th>Resultado</th>\n",
       "      <th>TS_toma</th>\n",
       "      <th>TS_recepcion</th>\n",
       "      <th>TS_resultado</th>\n",
       "      <th>origen</th>\n",
       "      <th>Laboratorio</th>\n",
       "      <th>LabBD</th>\n",
       "      <th>Verificador_RUT</th>\n",
       "    </tr>\n",
       "  </thead>\n",
       "  <tbody>\n",
       "    <tr>\n",
       "      <th>0</th>\n",
       "      <td>Hombre</td>\n",
       "      <td>68</td>\n",
       "      <td>Tórula nasofaringea</td>\n",
       "      <td>POSITIVO</td>\n",
       "      <td>2020-07-01</td>\n",
       "      <td>2020-07-03</td>\n",
       "      <td>2020-07-03</td>\n",
       "      <td>Hospital Peñablanca</td>\n",
       "      <td>2.- Laboratorio de Diagnóstico de Patógenos Ac...</td>\n",
       "      <td>PUCV acuicola</td>\n",
       "      <td>RUT_OK</td>\n",
       "    </tr>\n",
       "    <tr>\n",
       "      <th>1</th>\n",
       "      <td>Hombre</td>\n",
       "      <td>58</td>\n",
       "      <td>Desconocido</td>\n",
       "      <td>NEGATIVO</td>\n",
       "      <td>2020-07-02</td>\n",
       "      <td>2020-07-03</td>\n",
       "      <td>2020-07-03</td>\n",
       "      <td>Hospital Peñablanca</td>\n",
       "      <td>2.- Laboratorio de Diagnóstico de Patógenos Ac...</td>\n",
       "      <td>PUCV acuicola</td>\n",
       "      <td>RUT_OK</td>\n",
       "    </tr>\n",
       "    <tr>\n",
       "      <th>2</th>\n",
       "      <td>Mujer</td>\n",
       "      <td>37</td>\n",
       "      <td>Desconocido</td>\n",
       "      <td>NEGATIVO</td>\n",
       "      <td>2020-07-02</td>\n",
       "      <td>2020-07-03</td>\n",
       "      <td>2020-07-03</td>\n",
       "      <td>Hospital Peñablanca</td>\n",
       "      <td>2.- Laboratorio de Diagnóstico de Patógenos Ac...</td>\n",
       "      <td>PUCV acuicola</td>\n",
       "      <td>RUT_OK</td>\n",
       "    </tr>\n",
       "  </tbody>\n",
       "</table>\n",
       "</div>"
      ],
      "text/plain": [
       "     Sexo  Edad         Tipo_muestra Resultado    TS_toma TS_recepcion  \\\n",
       "0  Hombre    68  Tórula nasofaringea  POSITIVO 2020-07-01   2020-07-03   \n",
       "1  Hombre    58          Desconocido  NEGATIVO 2020-07-02   2020-07-03   \n",
       "2   Mujer    37          Desconocido  NEGATIVO 2020-07-02   2020-07-03   \n",
       "\n",
       "  TS_resultado               origen  \\\n",
       "0   2020-07-03  Hospital Peñablanca   \n",
       "1   2020-07-03  Hospital Peñablanca   \n",
       "2   2020-07-03  Hospital Peñablanca   \n",
       "\n",
       "                                         Laboratorio          LabBD  \\\n",
       "0  2.- Laboratorio de Diagnóstico de Patógenos Ac...  PUCV acuicola   \n",
       "1  2.- Laboratorio de Diagnóstico de Patógenos Ac...  PUCV acuicola   \n",
       "2  2.- Laboratorio de Diagnóstico de Patógenos Ac...  PUCV acuicola   \n",
       "\n",
       "  Verificador_RUT  \n",
       "0          RUT_OK  \n",
       "1          RUT_OK  \n",
       "2          RUT_OK  "
      ]
     },
     "execution_count": 28,
     "metadata": {},
     "output_type": "execute_result"
    }
   ],
   "source": [
    "Laboratorios_dict[l] .head(3).loc[:,\n",
    "                                  (Laboratorios_dict[l].columns != 'Nombre') &\n",
    "                                  (Laboratorios_dict[l].columns != 'RUT') &\n",
    "                                  (Laboratorios_dict[l].columns != 'PAC_direccion') &\n",
    "                                  (Laboratorios_dict[l].columns != 'PAC_telefono') &\n",
    "                                  (Laboratorios_dict[l].columns != 'PAC_mail') \n",
    "                                 ]"
   ]
  },
  {
   "cell_type": "code",
   "execution_count": null,
   "metadata": {},
   "outputs": [],
   "source": []
  },
  {
   "cell_type": "markdown",
   "metadata": {},
   "source": [
    "## Echeverry"
   ]
  },
  {
   "cell_type": "code",
   "execution_count": 29,
   "metadata": {},
   "outputs": [
    {
     "data": {
      "text/plain": [
       "Index(['RUN', 'Nombre', 'Sexo', 'Edad', 'Tipo Muestra', 'Resultado',\n",
       "       'Fecha de toma de\\nmuestra', 'Fecha de\\nrecepcion de la\\nmuestra',\n",
       "       'Fecha de\\nresultado',\n",
       "       'Hospital o establecimiento de origen\\n(lugar donde se toma la muestra)',\n",
       "       'Región de\\nestablecimiento de origen',\n",
       "       'Laboratorio de referencia (lugar\\ndonde se procesa la muestra)',\n",
       "       'Región de laboratorio\\ndonde se procesa la\\nmuestra',\n",
       "       'Teléfono\\nde contacto de\\npaciente',\n",
       "       'Correo de\\ncontacto de\\npaciente',\n",
       "       'Dirección\\nde contacto de\\npaciente', 'RUN del médico',\n",
       "       'Nombre del médico', 'LabBD'],\n",
       "      dtype='object')"
      ]
     },
     "execution_count": 29,
     "metadata": {},
     "output_type": "execute_result"
    }
   ],
   "source": [
    "BD_echeverry = pd.read_excel(current_ETCHEVERRY[0],\n",
    "                                 dayfirst=True)\n",
    "# numero lab\n",
    "l = 'Echeverry'\n",
    "Laboratorios_dict[l] = BD_echeverry\n",
    "Laboratorios_dict[l]['LabBD'] = l\n",
    "Laboratorios_dict[l].columns"
   ]
  },
  {
   "cell_type": "markdown",
   "metadata": {},
   "source": [
    "Chequeo la integridad de los rut"
   ]
  },
  {
   "cell_type": "code",
   "execution_count": 30,
   "metadata": {},
   "outputs": [
    {
     "data": {
      "text/plain": [
       "RUT_OK       21\n",
       "RUT_error     1\n",
       "Name: Verificador_RUT, dtype: int64"
      ]
     },
     "execution_count": 30,
     "metadata": {},
     "output_type": "execute_result"
    }
   ],
   "source": [
    "Laboratorios_dict[l]['Verificador_RUT'] = Laboratorios_dict[l].RUN.apply(lambda x: verifico_RUT(x))\n",
    "Laboratorios_dict[l]['Verificador_RUT'].value_counts(dropna=False)"
   ]
  },
  {
   "cell_type": "code",
   "execution_count": 31,
   "metadata": {},
   "outputs": [
    {
     "data": {
      "text/plain": [
       "Index(['RUN', 'Nombre', 'Sexo', 'Edad', 'Tipo Muestra', 'Resultado',\n",
       "       'Fecha de toma de\\nmuestra', 'Fecha de\\nrecepcion de la\\nmuestra',\n",
       "       'Fecha de\\nresultado',\n",
       "       'Hospital o establecimiento de origen\\n(lugar donde se toma la muestra)',\n",
       "       'Región de\\nestablecimiento de origen',\n",
       "       'Laboratorio de referencia (lugar\\ndonde se procesa la muestra)',\n",
       "       'Región de laboratorio\\ndonde se procesa la\\nmuestra',\n",
       "       'Teléfono\\nde contacto de\\npaciente',\n",
       "       'Correo de\\ncontacto de\\npaciente',\n",
       "       'Dirección\\nde contacto de\\npaciente', 'RUN del médico',\n",
       "       'Nombre del médico', 'LabBD', 'Verificador_RUT'],\n",
       "      dtype='object')"
      ]
     },
     "execution_count": 31,
     "metadata": {},
     "output_type": "execute_result"
    }
   ],
   "source": [
    "# Normalizo las columnas\n",
    "Laboratorios_dict[l].columns"
   ]
  },
  {
   "cell_type": "code",
   "execution_count": 32,
   "metadata": {},
   "outputs": [],
   "source": [
    "normalizacion_cols = dict({\n",
    "    'correlativo SEREMI'\t\t\t\t\t\t\t\t\t\t\t\t\t: 'ID_SEREMI',\n",
    "    'RUN'\t\t\t\t\t\t\t\t\t\t\t\t\t\t\t\t\t: 'RUT',\n",
    "    'Nombre ' \t\t\t\t\t\t\t\t\t\t\t\t\t\t\t\t: 'Nombre',\n",
    "    'Sexo'\t\t\t\t\t\t\t\t\t\t\t\t\t\t\t\t\t: 'Sexo',\n",
    "    'Edad'\t\t\t\t\t\t\t\t\t\t\t\t\t\t\t\t\t: 'Edad',\n",
    "    'Tipo Muestra'\t\t\t\t\t\t\t\t\t\t\t\t\t\t\t: 'Tipo_muestra',\n",
    "    'Fecha de toma de\\nmuestra'\t\t\t\t\t\t\t\t\t\t\t\t: 'TS_toma',\n",
    "    'Fecha de\\nrecepcion de la\\nmuestra'\t\t\t\t\t\t\t\t\t: 'TS_recepcion',\n",
    "    'Fecha de\\nresultado'\t\t\t\t\t\t\t\t\t\t\t\t\t: 'TS_resultado',\n",
    "    'Hospital o establecimiento de origen\\n(lugar donde se toma la muestra)': 'origen',\n",
    "    'Región de\\nestablecimiento de origen'\t\t\t\t\t\t\t\t\t: 'origenRegion',\n",
    "    'Laboratorio de referencia (lugar\\ndonde se procesa la muestra)'\t\t: 'Laboratorio',\n",
    "    'Región de laboratorio\\ndonde se procesa la\\nmuestra'\t\t\t\t\t: 'LaboratorioRegion',\n",
    "    'Teléfono\\nde contacto de\\npaciente'\t\t\t\t\t\t\t\t\t: 'PAC_telefono',\n",
    "    'Correo de\\ncontacto de\\npaciente'\t\t\t\t\t\t\t\t\t\t: 'PAC_mail',\n",
    "    'Dirección\\nde contacto de\\npaciente'\t\t\t\t\t\t\t\t\t: 'PAC_direccion',\n",
    "    'fecha validacioon'\t\t\t\t\t\t\t\t\t\t\t\t\t\t: 'TS_validacion',\n",
    "    'RUN del médico'\t\t\t\t\t\t\t\t\t\t\t\t\t\t: 'Medico_rut',\n",
    "    'Nombre del médico'\t\t\t\t\t\t\t\t\t\t\t\t\t\t: 'Medico_nombre',\n",
    "})\n",
    "\n",
    "# Resigno nombres\n",
    "Laboratorios_dict[l] = Laboratorios_dict[l].rename(columns=normalizacion_cols)"
   ]
  },
  {
   "cell_type": "code",
   "execution_count": 33,
   "metadata": {},
   "outputs": [
    {
     "data": {
      "text/plain": [
       "Index(['H', 'M'], dtype='object')"
      ]
     },
     "execution_count": 33,
     "metadata": {},
     "output_type": "execute_result"
    },
    {
     "data": {
      "text/plain": [
       "Hombre    13\n",
       "Mujer      9\n",
       "Name: Sexo, dtype: int64"
      ]
     },
     "execution_count": 33,
     "metadata": {},
     "output_type": "execute_result"
    }
   ],
   "source": [
    "Laboratorios_dict[l].Sexo = Laboratorios_dict[l].Sexo.apply(str)\n",
    "Laboratorios_dict[l].Sexo.value_counts().index\n",
    "norm_sexo = dict({\n",
    "    'H' \t\t\t\t\t: 'Hombre',\n",
    "    'M' \t\t\t\t\t: 'Mujer'})\n",
    "\n",
    "# Resigno nombres\n",
    "Laboratorios_dict[l].Sexo = Laboratorios_dict[l].Sexo.replace(norm_sexo)\n",
    "Laboratorios_dict[l].Sexo.value_counts()"
   ]
  },
  {
   "cell_type": "code",
   "execution_count": 34,
   "metadata": {},
   "outputs": [
    {
     "data": {
      "text/html": [
       "<div>\n",
       "<style scoped>\n",
       "    .dataframe tbody tr th:only-of-type {\n",
       "        vertical-align: middle;\n",
       "    }\n",
       "\n",
       "    .dataframe tbody tr th {\n",
       "        vertical-align: top;\n",
       "    }\n",
       "\n",
       "    .dataframe thead th {\n",
       "        text-align: right;\n",
       "    }\n",
       "</style>\n",
       "<table border=\"1\" class=\"dataframe\">\n",
       "  <thead>\n",
       "    <tr style=\"text-align: right;\">\n",
       "      <th></th>\n",
       "      <th>Sexo</th>\n",
       "      <th>Edad</th>\n",
       "      <th>Tipo_muestra</th>\n",
       "      <th>Resultado</th>\n",
       "      <th>TS_toma</th>\n",
       "      <th>TS_recepcion</th>\n",
       "      <th>TS_resultado</th>\n",
       "      <th>origen</th>\n",
       "      <th>origenRegion</th>\n",
       "      <th>Laboratorio</th>\n",
       "      <th>LaboratorioRegion</th>\n",
       "      <th>LabBD</th>\n",
       "      <th>Verificador_RUT</th>\n",
       "    </tr>\n",
       "  </thead>\n",
       "  <tbody>\n",
       "    <tr>\n",
       "      <th>0</th>\n",
       "      <td>Hombre</td>\n",
       "      <td>27</td>\n",
       "      <td>Hisopado nasofaríngeo</td>\n",
       "      <td>NEGATIVO</td>\n",
       "      <td>2020-07-03</td>\n",
       "      <td>2020-07-03</td>\n",
       "      <td>2020-07-03</td>\n",
       "      <td>DOMICILIO</td>\n",
       "      <td>VALPARAISO</td>\n",
       "      <td>LABORATORIO ETCHEVERRY</td>\n",
       "      <td>VALPARAISO</td>\n",
       "      <td>Echeverry</td>\n",
       "      <td>RUT_OK</td>\n",
       "    </tr>\n",
       "    <tr>\n",
       "      <th>1</th>\n",
       "      <td>Hombre</td>\n",
       "      <td>52</td>\n",
       "      <td>Hisopado nasofaríngeo</td>\n",
       "      <td>NEGATIVO</td>\n",
       "      <td>2020-07-03</td>\n",
       "      <td>2020-07-03</td>\n",
       "      <td>2020-07-03</td>\n",
       "      <td>ARCADIA</td>\n",
       "      <td>VALPARAISO</td>\n",
       "      <td>LABORATORIO ETCHEVERRY</td>\n",
       "      <td>VALPARAISO</td>\n",
       "      <td>Echeverry</td>\n",
       "      <td>RUT_OK</td>\n",
       "    </tr>\n",
       "    <tr>\n",
       "      <th>2</th>\n",
       "      <td>Mujer</td>\n",
       "      <td>23</td>\n",
       "      <td>Hisopado nasofaríngeo</td>\n",
       "      <td>NEGATIVO</td>\n",
       "      <td>2020-07-03</td>\n",
       "      <td>2020-07-03</td>\n",
       "      <td>2020-07-03</td>\n",
       "      <td>DOMICILIO</td>\n",
       "      <td>VALPARAISO</td>\n",
       "      <td>LABORATORIO ETCHEVERRY</td>\n",
       "      <td>VALPARAISO</td>\n",
       "      <td>Echeverry</td>\n",
       "      <td>RUT_OK</td>\n",
       "    </tr>\n",
       "  </tbody>\n",
       "</table>\n",
       "</div>"
      ],
      "text/plain": [
       "     Sexo  Edad           Tipo_muestra Resultado    TS_toma TS_recepcion  \\\n",
       "0  Hombre    27  Hisopado nasofaríngeo  NEGATIVO 2020-07-03   2020-07-03   \n",
       "1  Hombre    52  Hisopado nasofaríngeo  NEGATIVO 2020-07-03   2020-07-03   \n",
       "2   Mujer    23  Hisopado nasofaríngeo  NEGATIVO 2020-07-03   2020-07-03   \n",
       "\n",
       "  TS_resultado     origen origenRegion             Laboratorio  \\\n",
       "0   2020-07-03  DOMICILIO   VALPARAISO  LABORATORIO ETCHEVERRY   \n",
       "1   2020-07-03    ARCADIA   VALPARAISO  LABORATORIO ETCHEVERRY   \n",
       "2   2020-07-03  DOMICILIO   VALPARAISO  LABORATORIO ETCHEVERRY   \n",
       "\n",
       "  LaboratorioRegion      LabBD Verificador_RUT  \n",
       "0        VALPARAISO  Echeverry          RUT_OK  \n",
       "1        VALPARAISO  Echeverry          RUT_OK  \n",
       "2        VALPARAISO  Echeverry          RUT_OK  "
      ]
     },
     "execution_count": 34,
     "metadata": {},
     "output_type": "execute_result"
    }
   ],
   "source": [
    "Laboratorios_dict[l] .head(3).loc[:,\n",
    "                                  (Laboratorios_dict[l].columns != 'Nombre') &\n",
    "                                  (Laboratorios_dict[l].columns != 'RUT') &\n",
    "                                  (Laboratorios_dict[l].columns != 'PAC_direccion') &\n",
    "                                  (Laboratorios_dict[l].columns != 'PAC_telefono') &\n",
    "                                  (Laboratorios_dict[l].columns != 'PAC_mail') &\n",
    "                                  (Laboratorios_dict[l].columns != 'Medico_rut') &\n",
    "                                  (Laboratorios_dict[l].columns != 'Medico_nombre') \n",
    "\n",
    "                                 ]"
   ]
  },
  {
   "cell_type": "markdown",
   "metadata": {},
   "source": [
    "## Labocenter"
   ]
  },
  {
   "cell_type": "code",
   "execution_count": 35,
   "metadata": {},
   "outputs": [
    {
     "data": {
      "text/plain": [
       "Index(['RUN', 'Nombre', 'Sexo', 'Edad', 'Tipo muestra', 'Resultado',\n",
       "       'Fecha de toma de muestra', 'Fecha de recepción de la muestra',\n",
       "       'Fecha de resultado',\n",
       "       'Hospital o establecimiento de origen (lugar donde se toma la muestra)',\n",
       "       'Región de establecimiento de origen',\n",
       "       'Laboratorio de referencia (lugar donde se procesa la muestra)',\n",
       "       'Región de laboratorio donde se procesa la muestra',\n",
       "       'Teléfono de contacto de paciente', 'Correo de contacto de paciente',\n",
       "       'Dirección de contacto de paciente', 'LabBD'],\n",
       "      dtype='object')"
      ]
     },
     "execution_count": 35,
     "metadata": {},
     "output_type": "execute_result"
    }
   ],
   "source": [
    "BD_labocenter = pd.read_excel(current_Labocenter[0],\n",
    "                                 dayfirst=True)\n",
    "# numero lab\n",
    "l = 'Labocenter'\n",
    "Laboratorios_dict[l] = BD_labocenter\n",
    "Laboratorios_dict[l]['LabBD'] = l\n",
    "Laboratorios_dict[l].columns"
   ]
  },
  {
   "cell_type": "markdown",
   "metadata": {},
   "source": [
    "Chequeo la integridad de los rut"
   ]
  },
  {
   "cell_type": "code",
   "execution_count": 36,
   "metadata": {},
   "outputs": [
    {
     "data": {
      "text/plain": [
       "RUT_OK    4\n",
       "Name: Verificador_RUT, dtype: int64"
      ]
     },
     "execution_count": 36,
     "metadata": {},
     "output_type": "execute_result"
    }
   ],
   "source": [
    "Laboratorios_dict[l]['Verificador_RUT'] = Laboratorios_dict[l].RUN.apply(lambda x: verifico_RUT(x))\n",
    "Laboratorios_dict[l]['Verificador_RUT'].value_counts(dropna=False)"
   ]
  },
  {
   "cell_type": "code",
   "execution_count": 37,
   "metadata": {},
   "outputs": [
    {
     "data": {
      "text/plain": [
       "Index(['RUN', 'Nombre', 'Sexo', 'Edad', 'Tipo muestra', 'Resultado',\n",
       "       'Fecha de toma de muestra', 'Fecha de recepción de la muestra',\n",
       "       'Fecha de resultado',\n",
       "       'Hospital o establecimiento de origen (lugar donde se toma la muestra)',\n",
       "       'Región de establecimiento de origen',\n",
       "       'Laboratorio de referencia (lugar donde se procesa la muestra)',\n",
       "       'Región de laboratorio donde se procesa la muestra',\n",
       "       'Teléfono de contacto de paciente', 'Correo de contacto de paciente',\n",
       "       'Dirección de contacto de paciente', 'LabBD', 'Verificador_RUT'],\n",
       "      dtype='object')"
      ]
     },
     "execution_count": 37,
     "metadata": {},
     "output_type": "execute_result"
    }
   ],
   "source": [
    "# Normalizo las columnas\n",
    "Laboratorios_dict[l].columns"
   ]
  },
  {
   "cell_type": "code",
   "execution_count": 38,
   "metadata": {},
   "outputs": [],
   "source": [
    "normalizacion_cols = dict({\n",
    "    'correlativo SEREMI'\t\t\t\t\t\t\t\t\t\t\t\t\t: 'ID_SEREMI',\n",
    "    'RUN'\t\t\t\t\t\t\t\t\t\t\t\t\t\t\t\t\t: 'RUT',\n",
    "    'Paciente' \t\t\t\t\t\t\t\t\t\t\t\t\t\t\t\t: 'Nombre',\n",
    "    'Edad'\t\t\t\t\t\t\t\t\t\t\t\t\t\t\t\t\t: 'Edad',\n",
    "    'Sexo'\t\t\t\t\t\t\t\t\t\t\t\t\t\t\t\t\t: 'Sexo',\n",
    "    'Tipo muestra'\t\t\t\t\t\t\t\t\t\t\t\t\t\t\t: 'Tipo_muestra',\n",
    "    'Fecha de toma de muestra'\t\t\t\t\t\t\t\t\t\t\t\t: 'TS_toma',\n",
    "    'Fecha de recepción de la muestra'\t\t\t\t\t\t\t\t\t\t: 'TS_recepcion',\n",
    "    'Fecha de resultado'\t\t\t\t\t\t\t\t\t\t\t\t\t: 'TS_resultado',\n",
    "    'Hospital o establecimiento de origen (lugar donde se toma la muestra)'\t: 'origen',\n",
    "    'Región de establecimiento de origen'\t\t\t\t\t\t\t\t\t: 'origenRegion',\n",
    "    'Laboratorio de referencia (lugar donde se procesa la muestra)'\t\t\t: 'Laboratorio',\n",
    "    'Región de laboratorio donde se procesa la muestra'\t\t\t\t\t\t: 'LaboratorioRegion',\n",
    "    'Teléfono de contacto de paciente'\t\t\t\t\t\t\t\t\t\t: 'PAC_telefono',\n",
    "    'Correo de contacto de paciente'\t\t\t\t\t\t\t\t\t\t: 'PAC_mail',\n",
    "    'Dirección de contacto de paciente'\t\t\t\t\t\t\t\t\t\t: 'PAC_direccion',\n",
    "    'fecha validacioon'\t\t\t\t\t\t\t\t\t\t\t\t\t\t: 'TS_validacion'})\n",
    "\n",
    "# Resigno nombres\n",
    "Laboratorios_dict[l] = Laboratorios_dict[l].rename(columns=normalizacion_cols)"
   ]
  },
  {
   "cell_type": "code",
   "execution_count": 39,
   "metadata": {},
   "outputs": [
    {
     "data": {
      "text/html": [
       "<div>\n",
       "<style scoped>\n",
       "    .dataframe tbody tr th:only-of-type {\n",
       "        vertical-align: middle;\n",
       "    }\n",
       "\n",
       "    .dataframe tbody tr th {\n",
       "        vertical-align: top;\n",
       "    }\n",
       "\n",
       "    .dataframe thead th {\n",
       "        text-align: right;\n",
       "    }\n",
       "</style>\n",
       "<table border=\"1\" class=\"dataframe\">\n",
       "  <thead>\n",
       "    <tr style=\"text-align: right;\">\n",
       "      <th></th>\n",
       "      <th>Sexo</th>\n",
       "      <th>Edad</th>\n",
       "      <th>Tipo_muestra</th>\n",
       "      <th>Resultado</th>\n",
       "      <th>TS_toma</th>\n",
       "      <th>TS_recepcion</th>\n",
       "      <th>TS_resultado</th>\n",
       "      <th>origen</th>\n",
       "      <th>origenRegion</th>\n",
       "      <th>Laboratorio</th>\n",
       "      <th>LaboratorioRegion</th>\n",
       "      <th>LabBD</th>\n",
       "      <th>Verificador_RUT</th>\n",
       "    </tr>\n",
       "  </thead>\n",
       "  <tbody>\n",
       "    <tr>\n",
       "      <th>0</th>\n",
       "      <td>Hombre</td>\n",
       "      <td>28</td>\n",
       "      <td>Nasofaringea</td>\n",
       "      <td>Negativo</td>\n",
       "      <td>2020-06-03</td>\n",
       "      <td>2020-06-03</td>\n",
       "      <td>2020-06-03</td>\n",
       "      <td>DarSalud (San Antonio)</td>\n",
       "      <td>Valparaiso</td>\n",
       "      <td>Laboratorio Labocenter</td>\n",
       "      <td>Metropolitana</td>\n",
       "      <td>Labocenter</td>\n",
       "      <td>RUT_OK</td>\n",
       "    </tr>\n",
       "    <tr>\n",
       "      <th>1</th>\n",
       "      <td>Mujer</td>\n",
       "      <td>43</td>\n",
       "      <td>Nasofaringea</td>\n",
       "      <td>Negativo</td>\n",
       "      <td>2020-06-03</td>\n",
       "      <td>2020-06-03</td>\n",
       "      <td>2020-06-03</td>\n",
       "      <td>DarSalud (San Antonio)</td>\n",
       "      <td>Valparaiso</td>\n",
       "      <td>Laboratorio Labocenter</td>\n",
       "      <td>Metropolitana</td>\n",
       "      <td>Labocenter</td>\n",
       "      <td>RUT_OK</td>\n",
       "    </tr>\n",
       "    <tr>\n",
       "      <th>2</th>\n",
       "      <td>Mujer</td>\n",
       "      <td>41</td>\n",
       "      <td>Nasofaringea</td>\n",
       "      <td>Negativo</td>\n",
       "      <td>2020-06-03</td>\n",
       "      <td>2020-06-03</td>\n",
       "      <td>2020-06-03</td>\n",
       "      <td>CLINICA SAN JULIAN</td>\n",
       "      <td>Valparaiso</td>\n",
       "      <td>Laboratorio Labocenter</td>\n",
       "      <td>Metropolitana</td>\n",
       "      <td>Labocenter</td>\n",
       "      <td>RUT_OK</td>\n",
       "    </tr>\n",
       "  </tbody>\n",
       "</table>\n",
       "</div>"
      ],
      "text/plain": [
       "     Sexo  Edad  Tipo_muestra  Resultado    TS_toma TS_recepcion TS_resultado  \\\n",
       "0  Hombre    28  Nasofaringea  Negativo  2020-06-03   2020-06-03   2020-06-03   \n",
       "1   Mujer    43  Nasofaringea  Negativo  2020-06-03   2020-06-03   2020-06-03   \n",
       "2   Mujer    41  Nasofaringea  Negativo  2020-06-03   2020-06-03   2020-06-03   \n",
       "\n",
       "                   origen origenRegion             Laboratorio  \\\n",
       "0  DarSalud (San Antonio)   Valparaiso  Laboratorio Labocenter   \n",
       "1  DarSalud (San Antonio)   Valparaiso  Laboratorio Labocenter   \n",
       "2      CLINICA SAN JULIAN   Valparaiso  Laboratorio Labocenter   \n",
       "\n",
       "  LaboratorioRegion       LabBD Verificador_RUT  \n",
       "0     Metropolitana  Labocenter          RUT_OK  \n",
       "1     Metropolitana  Labocenter          RUT_OK  \n",
       "2     Metropolitana  Labocenter          RUT_OK  "
      ]
     },
     "execution_count": 39,
     "metadata": {},
     "output_type": "execute_result"
    }
   ],
   "source": [
    "Laboratorios_dict[l] .head(3).loc[:,\n",
    "                                  (Laboratorios_dict[l].columns != 'Nombre') &\n",
    "                                  (Laboratorios_dict[l].columns != 'RUT') &\n",
    "                                  (Laboratorios_dict[l].columns != 'PAC_direccion') &\n",
    "                                  (Laboratorios_dict[l].columns != 'PAC_telefono') &\n",
    "                                  (Laboratorios_dict[l].columns != 'PAC_mail') &\n",
    "                                  (Laboratorios_dict[l].columns != 'Medico_rut') &\n",
    "                                  (Laboratorios_dict[l].columns != 'Medico_nombre') \n",
    "\n",
    "                                 ]"
   ]
  },
  {
   "cell_type": "code",
   "execution_count": null,
   "metadata": {},
   "outputs": [],
   "source": []
  },
  {
   "cell_type": "markdown",
   "metadata": {},
   "source": [
    "## UV"
   ]
  },
  {
   "cell_type": "code",
   "execution_count": 40,
   "metadata": {},
   "outputs": [
    {
     "data": {
      "text/plain": [
       "Index(['RUN', 'Nombre', 'Sexo', 'Edad', 'Tipo muestra', 'Resultado',\n",
       "       'Fecha de toma de muestra', 'Fecha de recepción de la muestra',\n",
       "       'Fecha de resultado',\n",
       "       'Hospital o establecimiento de origen (lugar donde se toma la muestra)',\n",
       "       'Región de establecimiento de origen',\n",
       "       'Laboratorio de referencia (lugar donde se procesa la muestra)',\n",
       "       'Región de laboratorio donde se procesa la muestra',\n",
       "       'Teléfono de contacto de paciente', 'Correo de contacto de paciente',\n",
       "       'Dirección de contacto de paciente', 'LabBD'],\n",
       "      dtype='object')"
      ]
     },
     "execution_count": 40,
     "metadata": {},
     "output_type": "execute_result"
    }
   ],
   "source": [
    "BD_UV = pd.read_excel(current_UV[0],\n",
    "                                 dayfirst=True,\n",
    "                     sheet_name='Resultados')\n",
    "# numero lab\n",
    "l = 'UV'\n",
    "Laboratorios_dict[l] = BD_UV\n",
    "Laboratorios_dict[l]['LabBD'] = l\n",
    "Laboratorios_dict[l].columns"
   ]
  },
  {
   "cell_type": "markdown",
   "metadata": {},
   "source": [
    "Chequeo la integridad de los rut"
   ]
  },
  {
   "cell_type": "code",
   "execution_count": 41,
   "metadata": {},
   "outputs": [
    {
     "name": "stdout",
     "output_type": "stream",
     "text": [
      "ERROR! ERROR! ERROR!\n"
     ]
    },
    {
     "data": {
      "text/plain": [
       "RUT_OK       105\n",
       "RUT_error      6\n",
       "Name: Verificador_RUT, dtype: int64"
      ]
     },
     "execution_count": 41,
     "metadata": {},
     "output_type": "execute_result"
    }
   ],
   "source": [
    "Laboratorios_dict[l]['Verificador_RUT'] = Laboratorios_dict[l].RUN.apply(lambda x: verifico_RUT(x))\n",
    "Laboratorios_dict[l]['Verificador_RUT'].value_counts(dropna=False)"
   ]
  },
  {
   "cell_type": "code",
   "execution_count": 42,
   "metadata": {},
   "outputs": [
    {
     "data": {
      "text/plain": [
       "Index(['RUN', 'Nombre', 'Sexo', 'Edad', 'Tipo muestra', 'Resultado',\n",
       "       'Fecha de toma de muestra', 'Fecha de recepción de la muestra',\n",
       "       'Fecha de resultado',\n",
       "       'Hospital o establecimiento de origen (lugar donde se toma la muestra)',\n",
       "       'Región de establecimiento de origen',\n",
       "       'Laboratorio de referencia (lugar donde se procesa la muestra)',\n",
       "       'Región de laboratorio donde se procesa la muestra',\n",
       "       'Teléfono de contacto de paciente', 'Correo de contacto de paciente',\n",
       "       'Dirección de contacto de paciente', 'LabBD', 'Verificador_RUT'],\n",
       "      dtype='object')"
      ]
     },
     "execution_count": 42,
     "metadata": {},
     "output_type": "execute_result"
    }
   ],
   "source": [
    "# Normalizo las columnas\n",
    "Laboratorios_dict[l].columns"
   ]
  },
  {
   "cell_type": "code",
   "execution_count": 43,
   "metadata": {},
   "outputs": [],
   "source": [
    "normalizacion_cols = dict({\n",
    "    'correlativo SEREMI'\t\t\t\t\t\t\t\t\t\t\t\t\t: 'ID_SEREMI',\n",
    "    'RUN'\t\t\t\t\t\t\t\t\t\t\t\t\t\t\t\t\t: 'RUT',\n",
    "    'Paciente' \t\t\t\t\t\t\t\t\t\t\t\t\t\t\t\t: 'Nombre',\n",
    "    'Edad'\t\t\t\t\t\t\t\t\t\t\t\t\t\t\t\t\t: 'Edad',\n",
    "    'Sexo'\t\t\t\t\t\t\t\t\t\t\t\t\t\t\t\t\t: 'Sexo',\n",
    "    'Tipo muestra'\t\t\t\t\t\t\t\t\t\t\t\t\t\t\t: 'Tipo_muestra',\n",
    "    'Fecha de toma de muestra'\t\t\t\t\t\t\t\t\t\t\t\t: 'TS_toma',\n",
    "    'Fecha de recepción de la muestra'\t\t\t\t\t\t\t\t\t\t: 'TS_recepcion',\n",
    "    'Fecha de resultado'\t\t\t\t\t\t\t\t\t\t\t\t\t: 'TS_resultado',\n",
    "    'Hospital o establecimiento de origen (lugar donde se toma la muestra)'\t: 'origen',\n",
    "    'Región de establecimiento de origen'\t\t\t\t\t\t\t\t\t: 'origenRegion',\n",
    "    'Laboratorio de referencia (lugar donde se procesa la muestra)'\t\t\t: 'Laboratorio',\n",
    "    'Región de laboratorio donde se procesa la muestra'\t\t\t\t\t\t: 'LaboratorioRegion',\n",
    "    'Teléfono de contacto de paciente'\t\t\t\t\t\t\t\t\t\t: 'PAC_telefono',\n",
    "    'Correo de contacto de paciente'\t\t\t\t\t\t\t\t\t\t: 'PAC_mail',\n",
    "    'Dirección de contacto de paciente'\t\t\t\t\t\t\t\t\t\t: 'PAC_direccion',\n",
    "    'fecha validacioon'\t\t\t\t\t\t\t\t\t\t\t\t\t\t: 'TS_validacion'})\n",
    "\n",
    "# Resigno nombres\n",
    "Laboratorios_dict[l] = Laboratorios_dict[l].rename(columns=normalizacion_cols)"
   ]
  },
  {
   "cell_type": "code",
   "execution_count": 44,
   "metadata": {},
   "outputs": [
    {
     "data": {
      "text/html": [
       "<div>\n",
       "<style scoped>\n",
       "    .dataframe tbody tr th:only-of-type {\n",
       "        vertical-align: middle;\n",
       "    }\n",
       "\n",
       "    .dataframe tbody tr th {\n",
       "        vertical-align: top;\n",
       "    }\n",
       "\n",
       "    .dataframe thead th {\n",
       "        text-align: right;\n",
       "    }\n",
       "</style>\n",
       "<table border=\"1\" class=\"dataframe\">\n",
       "  <thead>\n",
       "    <tr style=\"text-align: right;\">\n",
       "      <th></th>\n",
       "      <th>Sexo</th>\n",
       "      <th>Edad</th>\n",
       "      <th>Tipo_muestra</th>\n",
       "      <th>Resultado</th>\n",
       "      <th>TS_toma</th>\n",
       "      <th>TS_recepcion</th>\n",
       "      <th>TS_resultado</th>\n",
       "      <th>origen</th>\n",
       "      <th>origenRegion</th>\n",
       "      <th>Laboratorio</th>\n",
       "      <th>LaboratorioRegion</th>\n",
       "      <th>LabBD</th>\n",
       "      <th>Verificador_RUT</th>\n",
       "    </tr>\n",
       "  </thead>\n",
       "  <tbody>\n",
       "    <tr>\n",
       "      <th>0</th>\n",
       "      <td>HOMBRE</td>\n",
       "      <td>10.0</td>\n",
       "      <td>Hisopado Nasofaringeo</td>\n",
       "      <td>No Concluyente</td>\n",
       "      <td>2020-06-30</td>\n",
       "      <td>2020-07-01</td>\n",
       "      <td>2020-07-03</td>\n",
       "      <td>Hospital de Quintero</td>\n",
       "      <td>VALPARAISO</td>\n",
       "      <td>UVCLIN</td>\n",
       "      <td>VALPARAISO</td>\n",
       "      <td>UV</td>\n",
       "      <td>RUT_OK</td>\n",
       "    </tr>\n",
       "    <tr>\n",
       "      <th>1</th>\n",
       "      <td>MUJER</td>\n",
       "      <td>33.0</td>\n",
       "      <td>Aspirado NasoFaringeo</td>\n",
       "      <td>NEGATIVO</td>\n",
       "      <td>2020-07-01</td>\n",
       "      <td>2020-07-01</td>\n",
       "      <td>2020-07-03</td>\n",
       "      <td>Hospital San Martin de Quillot</td>\n",
       "      <td>VALPARAISO</td>\n",
       "      <td>UVCLIN</td>\n",
       "      <td>VALPARAISO</td>\n",
       "      <td>UV</td>\n",
       "      <td>RUT_OK</td>\n",
       "    </tr>\n",
       "    <tr>\n",
       "      <th>2</th>\n",
       "      <td>MUJER</td>\n",
       "      <td>27.0</td>\n",
       "      <td>Aspirado NasoFaringeo</td>\n",
       "      <td>POSITIVO</td>\n",
       "      <td>2020-06-30</td>\n",
       "      <td>2020-07-01</td>\n",
       "      <td>2020-07-03</td>\n",
       "      <td>Hospital San Martin de Quillot</td>\n",
       "      <td>VALPARAISO</td>\n",
       "      <td>UVCLIN</td>\n",
       "      <td>VALPARAISO</td>\n",
       "      <td>UV</td>\n",
       "      <td>RUT_OK</td>\n",
       "    </tr>\n",
       "  </tbody>\n",
       "</table>\n",
       "</div>"
      ],
      "text/plain": [
       "     Sexo  Edad           Tipo_muestra       Resultado    TS_toma  \\\n",
       "0  HOMBRE  10.0  Hisopado Nasofaringeo  No Concluyente 2020-06-30   \n",
       "1   MUJER  33.0  Aspirado NasoFaringeo        NEGATIVO 2020-07-01   \n",
       "2   MUJER  27.0  Aspirado NasoFaringeo        POSITIVO 2020-06-30   \n",
       "\n",
       "  TS_recepcion TS_resultado                          origen origenRegion  \\\n",
       "0   2020-07-01   2020-07-03            Hospital de Quintero   VALPARAISO   \n",
       "1   2020-07-01   2020-07-03  Hospital San Martin de Quillot   VALPARAISO   \n",
       "2   2020-07-01   2020-07-03  Hospital San Martin de Quillot   VALPARAISO   \n",
       "\n",
       "  Laboratorio LaboratorioRegion LabBD Verificador_RUT  \n",
       "0      UVCLIN        VALPARAISO    UV          RUT_OK  \n",
       "1      UVCLIN        VALPARAISO    UV          RUT_OK  \n",
       "2      UVCLIN        VALPARAISO    UV          RUT_OK  "
      ]
     },
     "execution_count": 44,
     "metadata": {},
     "output_type": "execute_result"
    }
   ],
   "source": [
    "Laboratorios_dict[l] .head(3).loc[:,\n",
    "                                  (Laboratorios_dict[l].columns != 'Nombre') &\n",
    "                                  (Laboratorios_dict[l].columns != 'RUT') &\n",
    "                                  (Laboratorios_dict[l].columns != 'PAC_direccion') &\n",
    "                                  (Laboratorios_dict[l].columns != 'PAC_telefono') &\n",
    "                                  (Laboratorios_dict[l].columns != 'PAC_mail') &\n",
    "                                  (Laboratorios_dict[l].columns != 'Medico_rut') &\n",
    "                                  (Laboratorios_dict[l].columns != 'Medico_nombre') \n",
    "\n",
    "                                 ]"
   ]
  },
  {
   "cell_type": "markdown",
   "metadata": {},
   "source": [
    "# MINSAL db"
   ]
  },
  {
   "cell_type": "code",
   "execution_count": 45,
   "metadata": {},
   "outputs": [
    {
     "data": {
      "text/plain": [
       "Index(['IDLaboratorio', 'RUT', 'NombreCompleto', 'Fechatomademuestra',\n",
       "       'Tipomuestra', 'Resultado', 'FechadeResultado', 'Fechadecorreo',\n",
       "       'Fechaderecepción', 'Hospitaldereferencia', 'Regióntomademuestra',\n",
       "       'Laboratoriodereferencia', 'Regiónprocesamientodemuestra', 'SEXO',\n",
       "       'EDAD', 'Base_Origen', 'Fechademodificación', 'R', 'resul',\n",
       "       'region_toma_muestra', 'laboratorio', 'año_examen', 'mes_examen',\n",
       "       'dia_examen', 'año_correo', 'mes_correo', 'dia_correo', 'val_rut',\n",
       "       'val_nombre', 'val_hosp', 'val_fech', 'val_resul', 'val_lab',\n",
       "       'completo', 'fecha_resultado', 'largo', 'tipo_iden',\n",
       "       'identificacion_paciente', 'prim_let', 'muestra_actual', 'posit_actual',\n",
       "       'LabBD'],\n",
       "      dtype='object')"
      ]
     },
     "execution_count": 45,
     "metadata": {},
     "output_type": "execute_result"
    }
   ],
   "source": [
    "BD_Minsal = pd.read_excel(current_MINSAL[0],\n",
    "                                 dayfirst=True)\n",
    "# numero lab\n",
    "l = 'Minsal'\n",
    "Laboratorios_dict[l] = BD_Minsal\n",
    "Laboratorios_dict[l]['LabBD'] = l\n",
    "Laboratorios_dict[l].columns"
   ]
  },
  {
   "cell_type": "code",
   "execution_count": 46,
   "metadata": {},
   "outputs": [],
   "source": [
    "Laboratorios_dict[l].drop(columns=['año_examen', 'mes_examen',\n",
    "       'dia_examen', 'año_correo', 'mes_correo', 'dia_correo'],\n",
    "              inplace=True)"
   ]
  },
  {
   "cell_type": "code",
   "execution_count": 47,
   "metadata": {
    "scrolled": true
   },
   "outputs": [
    {
     "name": "stdout",
     "output_type": "stream",
     "text": [
      "ERROR! ERROR! ERROR!\n",
      "ERROR! ERROR! ERROR!\n",
      "ERROR! ERROR! ERROR!\n",
      "ERROR! ERROR! ERROR!\n",
      "ERROR! ERROR! ERROR!\n",
      "ERROR! ERROR! ERROR!\n",
      "ERROR! ERROR! ERROR!\n",
      "ERROR! ERROR! ERROR!\n",
      "ERROR! ERROR! ERROR!\n",
      "ERROR! ERROR! ERROR!\n",
      "ERROR! ERROR! ERROR!\n",
      "ERROR! ERROR! ERROR!\n",
      "ERROR! ERROR! ERROR!\n",
      "ERROR! ERROR! ERROR!\n",
      "ERROR! ERROR! ERROR!\n",
      "ERROR! ERROR! ERROR!\n",
      "ERROR! ERROR! ERROR!\n",
      "ERROR! ERROR! ERROR!\n",
      "ERROR! ERROR! ERROR!\n",
      "ERROR! ERROR! ERROR!\n",
      "ERROR! ERROR! ERROR!\n",
      "ERROR! ERROR! ERROR!\n",
      "ERROR! ERROR! ERROR!\n",
      "ERROR! ERROR! ERROR!\n",
      "ERROR! ERROR! ERROR!\n",
      "ERROR! ERROR! ERROR!\n",
      "ERROR! ERROR! ERROR!\n",
      "ERROR! ERROR! ERROR!\n",
      "ERROR! ERROR! ERROR!\n",
      "ERROR! ERROR! ERROR!\n",
      "ERROR! ERROR! ERROR!\n",
      "ERROR! ERROR! ERROR!\n",
      "ERROR! ERROR! ERROR!\n",
      "ERROR! ERROR! ERROR!\n",
      "ERROR! ERROR! ERROR!\n",
      "ERROR! ERROR! ERROR!\n",
      "ERROR! ERROR! ERROR!\n",
      "ERROR! ERROR! ERROR!\n",
      "ERROR! ERROR! ERROR!\n",
      "ERROR! ERROR! ERROR!\n",
      "ERROR! ERROR! ERROR!\n",
      "ERROR! ERROR! ERROR!\n",
      "ERROR! ERROR! ERROR!\n",
      "ERROR! ERROR! ERROR!\n",
      "ERROR! ERROR! ERROR!\n",
      "ERROR! ERROR! ERROR!\n",
      "ERROR! ERROR! ERROR!\n",
      "ERROR! ERROR! ERROR!\n",
      "ERROR! ERROR! ERROR!\n",
      "ERROR! ERROR! ERROR!\n",
      "ERROR! ERROR! ERROR!\n",
      "ERROR! ERROR! ERROR!\n",
      "ERROR! ERROR! ERROR!\n",
      "ERROR! ERROR! ERROR!\n",
      "ERROR! ERROR! ERROR!\n",
      "ERROR! ERROR! ERROR!\n",
      "ERROR! ERROR! ERROR!\n",
      "ERROR! ERROR! ERROR!\n",
      "ERROR! ERROR! ERROR!\n",
      "ERROR! ERROR! ERROR!\n",
      "ERROR! ERROR! ERROR!\n",
      "ERROR! ERROR! ERROR!\n",
      "ERROR! ERROR! ERROR!\n",
      "ERROR! ERROR! ERROR!\n",
      "ERROR! ERROR! ERROR!\n",
      "ERROR! ERROR! ERROR!\n"
     ]
    },
    {
     "data": {
      "text/plain": [
       "RUT_OK       16717\n",
       "RUT_error      570\n",
       "Name: Verificador_RUT, dtype: int64"
      ]
     },
     "execution_count": 47,
     "metadata": {},
     "output_type": "execute_result"
    }
   ],
   "source": [
    "Laboratorios_dict[l]['Verificador_RUT'] = Laboratorios_dict[l].RUT.apply(lambda x: verifico_RUT(x))\n",
    "Laboratorios_dict[l]['Verificador_RUT'].value_counts(dropna=False)\n",
    "Laboratorios_dict[l].RUT = Laboratorios_dict[l].RUT.apply(str)"
   ]
  },
  {
   "cell_type": "code",
   "execution_count": 48,
   "metadata": {},
   "outputs": [
    {
     "data": {
      "text/plain": [
       "Index(['IDLaboratorio', 'RUT', 'NombreCompleto', 'Fechatomademuestra',\n",
       "       'Tipomuestra', 'Resultado', 'FechadeResultado', 'Fechadecorreo',\n",
       "       'Fechaderecepción', 'Hospitaldereferencia', 'Regióntomademuestra',\n",
       "       'Laboratoriodereferencia', 'Regiónprocesamientodemuestra', 'SEXO',\n",
       "       'EDAD', 'Base_Origen', 'Fechademodificación', 'R', 'resul',\n",
       "       'region_toma_muestra', 'laboratorio', 'val_rut', 'val_nombre',\n",
       "       'val_hosp', 'val_fech', 'val_resul', 'val_lab', 'completo',\n",
       "       'fecha_resultado', 'largo', 'tipo_iden', 'identificacion_paciente',\n",
       "       'prim_let', 'muestra_actual', 'posit_actual', 'LabBD',\n",
       "       'Verificador_RUT'],\n",
       "      dtype='object')"
      ]
     },
     "execution_count": 48,
     "metadata": {},
     "output_type": "execute_result"
    },
    {
     "name": "stdout",
     "output_type": "stream",
     "text": [
      "<class 'pandas.core.frame.DataFrame'>\n",
      "RangeIndex: 17287 entries, 0 to 17286\n",
      "Data columns (total 37 columns):\n",
      " #   Column                        Non-Null Count  Dtype         \n",
      "---  ------                        --------------  -----         \n",
      " 0   IDLaboratorio                 17287 non-null  int64         \n",
      " 1   RUT                           17287 non-null  object        \n",
      " 2   NombreCompleto                17287 non-null  object        \n",
      " 3   Fechatomademuestra            17274 non-null  datetime64[ns]\n",
      " 4   Tipomuestra                   17280 non-null  object        \n",
      " 5   Resultado                     17287 non-null  object        \n",
      " 6   FechadeResultado              16681 non-null  object        \n",
      " 7   Fechadecorreo                 17287 non-null  datetime64[ns]\n",
      " 8   Fechaderecepción              17286 non-null  datetime64[ns]\n",
      " 9   Hospitaldereferencia          17287 non-null  object        \n",
      " 10  Regióntomademuestra           17147 non-null  object        \n",
      " 11  Laboratoriodereferencia       17287 non-null  object        \n",
      " 12  Regiónprocesamientodemuestra  16235 non-null  object        \n",
      " 13  SEXO                          17285 non-null  object        \n",
      " 14  EDAD                          17246 non-null  object        \n",
      " 15  Base_Origen                   17287 non-null  object        \n",
      " 16  Fechademodificación           0 non-null      float64       \n",
      " 17  R                             0 non-null      float64       \n",
      " 18  resul                         17287 non-null  object        \n",
      " 19  region_toma_muestra           17222 non-null  object        \n",
      " 20  laboratorio                   16261 non-null  object        \n",
      " 21  val_rut                       17287 non-null  int64         \n",
      " 22  val_nombre                    17287 non-null  int64         \n",
      " 23  val_hosp                      17287 non-null  int64         \n",
      " 24  val_fech                      17287 non-null  int64         \n",
      " 25  val_resul                     17287 non-null  int64         \n",
      " 26  val_lab                       17287 non-null  int64         \n",
      " 27  completo                      17287 non-null  int64         \n",
      " 28  fecha_resultado               16681 non-null  object        \n",
      " 29  largo                         17287 non-null  int64         \n",
      " 30  tipo_iden                     17287 non-null  object        \n",
      " 31  identificacion_paciente       17216 non-null  object        \n",
      " 32  prim_let                      17277 non-null  object        \n",
      " 33  muestra_actual                17287 non-null  int64         \n",
      " 34  posit_actual                  17287 non-null  int64         \n",
      " 35  LabBD                         17287 non-null  object        \n",
      " 36  Verificador_RUT               17287 non-null  object        \n",
      "dtypes: datetime64[ns](3), float64(2), int64(11), object(21)\n",
      "memory usage: 4.9+ MB\n"
     ]
    }
   ],
   "source": [
    "Laboratorios_dict[l].columns\n",
    "Laboratorios_dict[l].info()"
   ]
  },
  {
   "cell_type": "markdown",
   "metadata": {},
   "source": [
    "# Junto BDs"
   ]
  },
  {
   "cell_type": "code",
   "execution_count": 49,
   "metadata": {},
   "outputs": [
    {
     "data": {
      "text/plain": [
       "dict_keys(['Barnafi', 'Integramedica', 'PUCV molecular', 'PUCV acuicola', 'Echeverry', 'Labocenter', 'UV', 'Minsal'])"
      ]
     },
     "execution_count": 49,
     "metadata": {},
     "output_type": "execute_result"
    }
   ],
   "source": [
    "Laboratorios_dict.keys()"
   ]
  },
  {
   "cell_type": "code",
   "execution_count": 50,
   "metadata": {},
   "outputs": [
    {
     "name": "stdout",
     "output_type": "stream",
     "text": [
      "Barnafi entradas: 1345\n",
      "Integramedica entradas: 1124\n",
      "PUCV molecular entradas: 22\n",
      "PUCV acuicola entradas: 26\n",
      "Echeverry entradas: 22\n",
      "Labocenter entradas: 4\n",
      "UV entradas: 111\n",
      "listo!!\n"
     ]
    },
    {
     "data": {
      "text/plain": [
       "(2654, 24)"
      ]
     },
     "execution_count": 50,
     "metadata": {},
     "output_type": "execute_result"
    }
   ],
   "source": [
    "BD = pd.DataFrame()\n",
    "\n",
    "for key, df in Laboratorios_dict.items():\n",
    "    if key== 'Minsal':\n",
    "        print('listo!!')\n",
    "    else:\n",
    "        print(key, 'entradas:', df.shape[0])\n",
    "        BD = BD.append(df, sort=False,)\n",
    "\n",
    "BD.shape"
   ]
  },
  {
   "cell_type": "markdown",
   "metadata": {},
   "source": [
    "## Ordeno y estandarizo columnas"
   ]
  },
  {
   "cell_type": "code",
   "execution_count": 51,
   "metadata": {},
   "outputs": [
    {
     "data": {
      "text/plain": [
       "Index(['NEGATIVO', 'POSITIVO', 'No Concluyente', 'Negativo ', 'INDETERMINADO'], dtype='object')"
      ]
     },
     "execution_count": 51,
     "metadata": {},
     "output_type": "execute_result"
    },
    {
     "data": {
      "text/plain": [
       "Negativo         2090\n",
       "Positivo          554\n",
       "Indeterminado      10\n",
       "Name: Resultado, dtype: int64"
      ]
     },
     "execution_count": 51,
     "metadata": {},
     "output_type": "execute_result"
    }
   ],
   "source": [
    "# Resultado a valores únicos\n",
    "BD.Resultado.value_counts().index\n",
    "normalizacion_vals = dict({\n",
    "    'NEGATIVO'\t\t\t: 'Negativo',\n",
    "    'Negativo '\t\t\t: 'Negativo',\n",
    "    'INDETERMINADO '\t: 'Indeterminado',\n",
    "    'INDETERMINADO'\t\t: 'Indeterminado',\n",
    "    'No Concluyente '\t: 'Indeterminado',\n",
    "    'No Concluyente'\t: 'Indeterminado',\n",
    "    'POSITIVO '\t\t\t: 'Positivo',\n",
    "    'POSITIVO'\t\t\t: 'Positivo'})\n",
    "\n",
    "# Resigno nombres\n",
    "BD.Resultado = BD.Resultado.replace(normalizacion_vals)\n",
    "BD.Resultado.value_counts()"
   ]
  },
  {
   "cell_type": "code",
   "execution_count": 52,
   "metadata": {},
   "outputs": [],
   "source": [
    "# RUT a string\n",
    "BD.RUT = BD.RUT.apply(str)"
   ]
  },
  {
   "cell_type": "code",
   "execution_count": 53,
   "metadata": {},
   "outputs": [
    {
     "data": {
      "text/plain": [
       "Index(['Hombre', 'HOMBRE', 'Mujer', 'MUJER'], dtype='object')"
      ]
     },
     "execution_count": 53,
     "metadata": {},
     "output_type": "execute_result"
    },
    {
     "data": {
      "text/plain": [
       "Hombre    1438\n",
       "Mujer     1114\n",
       "NaN        102\n",
       "Name: Sexo, dtype: int64"
      ]
     },
     "execution_count": 53,
     "metadata": {},
     "output_type": "execute_result"
    }
   ],
   "source": [
    "# Sexo a valores únicos\n",
    "BD.Sexo.value_counts().index\n",
    "normalizacion_vals = dict({\n",
    "    'MUJER'\t\t: 'Mujer',\n",
    "    'Mujer '\t: 'Mujer',\n",
    "    'HOMBRE'\t\t\t: 'Hombre'})\n",
    "\n",
    "# Resigno nombres\n",
    "BD.Sexo = BD.Sexo.replace(normalizacion_vals)\n",
    "BD.Sexo.value_counts(dropna=False)"
   ]
  },
  {
   "cell_type": "markdown",
   "metadata": {},
   "source": [
    "Ordeno las columnas"
   ]
  },
  {
   "cell_type": "code",
   "execution_count": 54,
   "metadata": {},
   "outputs": [
    {
     "data": {
      "text/plain": [
       "Index(['Solicitud', 'Codigo', 'Cliente', 'RUT', 'Nombre', 'Edad', 'Resultado',\n",
       "       'Sexo', 'TS_toma', 'TS_resultado', 'LabBD', 'TS_recepcion',\n",
       "       'Verificador_RUT', 'Tipo_muestra', 'origen', 'origenRegion',\n",
       "       'Laboratorio', 'LaboratorioRegion', 'Teléfono ', 'PAC_mail',\n",
       "       'PAC_direccion', 'PAC_telefono', 'Medico_rut', 'Medico_nombre'],\n",
       "      dtype='object')"
      ]
     },
     "execution_count": 54,
     "metadata": {},
     "output_type": "execute_result"
    }
   ],
   "source": [
    "BD = BD.reset_index(drop=True)\n",
    "BD.columns\n",
    "BD = BD [['RUT', 'Nombre', 'Edad','Sexo','Teléfono ', 'PAC_direccion', 'PAC_telefono', 'PAC_mail', 'Verificador_RUT',\n",
    "          'LabBD', 'Resultado', 'Tipo_muestra',\n",
    "          'TS_toma','TS_recepcion', 'TS_resultado', \n",
    "          'origen', 'origenRegion', 'Laboratorio', 'LaboratorioRegion', \n",
    "          'Medico_rut', 'Medico_nombre', 'Solicitud', 'Codigo', 'Cliente', ]]"
   ]
  },
  {
   "cell_type": "code",
   "execution_count": 55,
   "metadata": {},
   "outputs": [
    {
     "data": {
      "text/plain": [
       "count                    2653\n",
       "unique                    560\n",
       "top       2020-07-02 00:00:00\n",
       "freq                     1043\n",
       "first     2020-06-02 00:00:00\n",
       "last      2020-07-03 00:00:00\n",
       "Name: TS_toma, dtype: object"
      ]
     },
     "execution_count": 55,
     "metadata": {},
     "output_type": "execute_result"
    },
    {
     "name": "stdout",
     "output_type": "stream",
     "text": [
      "<class 'pandas.core.frame.DataFrame'>\n",
      "RangeIndex: 2654 entries, 0 to 2653\n",
      "Data columns (total 24 columns):\n",
      " #   Column             Non-Null Count  Dtype         \n",
      "---  ------             --------------  -----         \n",
      " 0   RUT                2654 non-null   object        \n",
      " 1   Nombre             2654 non-null   object        \n",
      " 2   Edad               2653 non-null   float64       \n",
      " 3   Sexo               2552 non-null   object        \n",
      " 4   Teléfono           1124 non-null   object        \n",
      " 5   PAC_direccion      1197 non-null   object        \n",
      " 6   PAC_telefono       184 non-null    object        \n",
      " 7   PAC_mail           67 non-null     object        \n",
      " 8   Verificador_RUT    2654 non-null   object        \n",
      " 9   LabBD              2654 non-null   object        \n",
      " 10  Resultado          2654 non-null   object        \n",
      " 11  Tipo_muestra       1309 non-null   object        \n",
      " 12  TS_toma            2653 non-null   datetime64[ns]\n",
      " 13  TS_recepcion       2654 non-null   datetime64[ns]\n",
      " 14  TS_resultado       2654 non-null   datetime64[ns]\n",
      " 15  origen             1309 non-null   object        \n",
      " 16  origenRegion       1283 non-null   object        \n",
      " 17  Laboratorio        1309 non-null   object        \n",
      " 18  LaboratorioRegion  1283 non-null   object        \n",
      " 19  Medico_rut         21 non-null     object        \n",
      " 20  Medico_nombre      21 non-null     object        \n",
      " 21  Solicitud          1345 non-null   float64       \n",
      " 22  Codigo             1345 non-null   float64       \n",
      " 23  Cliente            1345 non-null   object        \n",
      "dtypes: datetime64[ns](3), float64(3), object(18)\n",
      "memory usage: 497.8+ KB\n"
     ]
    }
   ],
   "source": [
    "BD.TS_toma.describe()\n",
    "# BD.groupby(pd.Grouper(key='TS_toma', freq='D')).TS_toma.count().plot()\n",
    "BD.info()"
   ]
  },
  {
   "cell_type": "markdown",
   "metadata": {},
   "source": [
    "Listo los RUT mal escrtitos"
   ]
  },
  {
   "cell_type": "code",
   "execution_count": 56,
   "metadata": {},
   "outputs": [],
   "source": [
    "BD.loc[BD.Verificador_RUT == 'RUT_error'][['RUT', \t'Nombre', \t'Edad', 'LabBD', 'Laboratorio', 'TS_toma']].to_csv('./RUT_malos.csv')"
   ]
  },
  {
   "cell_type": "markdown",
   "metadata": {},
   "source": [
    "# Comparo BD del Minsal versus la compilada"
   ]
  },
  {
   "cell_type": "code",
   "execution_count": 57,
   "metadata": {},
   "outputs": [
    {
     "data": {
      "text/plain": [
       "<matplotlib.axes._subplots.AxesSubplot at 0x7f947d3d6fd0>"
      ]
     },
     "execution_count": 57,
     "metadata": {},
     "output_type": "execute_result"
    },
    {
     "data": {
      "image/png": "[encoded data removed]",
      "text/plain": [
       "<Figure size 432x288 with 1 Axes>"
      ]
     },
     "metadata": {
      "needs_background": "light"
     },
     "output_type": "display_data"
    }
   ],
   "source": [
    "# BD.RUT.isin(BD_Minsal.RUT).value_counts()\n",
    "BD_Minsal.groupby(pd.Grouper(key='Fechaderecepción', freq='D')).Fechaderecepción.count().plot()"
   ]
  },
  {
   "cell_type": "code",
   "execution_count": null,
   "metadata": {},
   "outputs": [],
   "source": []
  },
  {
   "cell_type": "code",
   "execution_count": null,
   "metadata": {},
   "outputs": [],
   "source": []
  },
  {
   "cell_type": "code",
   "execution_count": null,
   "metadata": {},
   "outputs": [],
   "source": []
  }
 ],
 "metadata": {
  "kernelspec": {
   "display_name": "Python 3",
   "language": "python",
   "name": "python3"
  },
  "language_info": {
   "codemirror_mode": {
    "name": "ipython",
    "version": 3
   },
   "file_extension": ".py",
   "mimetype": "text/x-python",
   "name": "python",
   "nbconvert_exporter": "python",
   "pygments_lexer": "ipython3",
   "version": "3.7.3"
  }
 },
 "nbformat": 4,
 "nbformat_minor": 4
}
