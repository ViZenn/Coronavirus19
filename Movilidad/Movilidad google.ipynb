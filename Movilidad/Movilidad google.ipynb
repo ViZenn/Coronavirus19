{
 "cells": [
  {
   "cell_type": "markdown",
   "metadata": {},
   "source": [
    "Movilidad de personas en chile\n",
    "=================\n"
   ]
  },
  {
   "cell_type": "markdown",
   "metadata": {},
   "source": [
    "Importo librerías útiles"
   ]
  },
  {
   "cell_type": "code",
   "execution_count": 1,
   "metadata": {
    "scrolled": true
   },
   "outputs": [],
   "source": [
    "import pandas as pd\n",
    "import numpy as np\n",
    "import matplotlib.pyplot as plt\n",
    "import matplotlib.dates as mdates\n",
    "import matplotlib.cm as cm\n",
    "\n",
    "import scipy \n",
    "from scipy import stats\n",
    "import datetime as dt\n",
    "from datetime import timedelta  \n",
    "import urllib.request  # importar archivos web\n",
    "from lifelines import NelsonAalenFitter # modelamiento survival\n",
    "\n",
    "import wget\n",
    "\n",
    "# para tratar de poner espanol\n",
    "from datetime import date, datetime, time\n",
    "from babel.dates import format_date, format_datetime, format_time, format_timedelta, Locale\n",
    "import locale                                    # para tratar de poner espanol\n",
    "locale.setlocale(locale.LC_ALL,'es_CL.utf8')  \n",
    "\n",
    "from IPython.core.interactiveshell import InteractiveShell\n",
    "InteractiveShell.ast_node_interactivity = \"all\"\n",
    "%matplotlib inline"
   ]
  },
  {
   "cell_type": "markdown",
   "metadata": {},
   "source": [
    "leo la base de datos desde google y la guardo"
   ]
  },
  {
   "cell_type": "code",
   "execution_count": 2,
   "metadata": {},
   "outputs": [
    {
     "name": "stdout",
     "output_type": "stream",
     "text": [
      "Bajando\n"
     ]
    },
    {
     "data": {
      "text/plain": [
       "'./BDs/Movilidad2020-06-10.csv'"
      ]
     },
     "execution_count": 2,
     "metadata": {},
     "output_type": "execute_result"
    }
   ],
   "source": [
    "print('Bajando')\n",
    "# desde esta dirección\n",
    "url = 'https://www.gstatic.com/covid19/mobility/Global_Mobility_Report.csv?cachebust=b8b0c30cbee5f341'\n",
    "\n",
    "# le pongo nombre al archivo\n",
    "hoy     = datetime.now().strftime('%Y-%m-%d')\n",
    "nombre  = './BDs/Movilidad' + hoy + '.csv'\n",
    "\n",
    "# la bajo\n",
    "wget.download(url, nombre)"
   ]
  },
  {
   "cell_type": "markdown",
   "metadata": {},
   "source": [
    "listo todos los archivos disponibles para trabajar de los que he conseguido"
   ]
  },
  {
   "cell_type": "code",
   "execution_count": 3,
   "metadata": {},
   "outputs": [
    {
     "data": {
      "text/plain": [
       "['./BDs/.~lock.Movilidad2020-06-10.csv#',\n",
       " './BDs/Movilidad2020-06-10.csv',\n",
       " './BDs/Movilidad2020-06-07.csv',\n",
       " './BDs/Movilidad2020-06-05.csv',\n",
       " './BDs/Movilidad2020-06-08.csv']"
      ]
     },
     "execution_count": 3,
     "metadata": {},
     "output_type": "execute_result"
    }
   ],
   "source": [
    "# listo los archivos disponibles que he bajado\n",
    "import os\n",
    "lista_archivos = []\n",
    "for dirname, dirnames, filenames in os.walk('./BDs/'):\n",
    "    for filename in filenames:\n",
    "        lista_archivos.append(os.path.join(dirname, filename))\n",
    "archivos = lista_archivos\n",
    "archivos"
   ]
  },
  {
   "cell_type": "markdown",
   "metadata": {},
   "source": [
    "leo la última base de datos, supongo es la más actualizada"
   ]
  },
  {
   "cell_type": "code",
   "execution_count": 4,
   "metadata": {
    "scrolled": true
   },
   "outputs": [
    {
     "name": "stderr",
     "output_type": "stream",
     "text": [
      "/home/egidio/.local/lib/python3.7/site-packages/IPython/core/interactiveshell.py:3063: DtypeWarning: Columns (3) have mixed types.Specify dtype option on import or set low_memory=False.\n",
      "  interactivity=interactivity, compiler=compiler, result=result)\n"
     ]
    }
   ],
   "source": [
    "BD = pd.read_csv(archivos[-1])"
   ]
  },
  {
   "cell_type": "markdown",
   "metadata": {},
   "source": [
    "consigo algo de información de la base de datos que he bajado"
   ]
  },
  {
   "cell_type": "code",
   "execution_count": 5,
   "metadata": {
    "scrolled": true
   },
   "outputs": [
    {
     "name": "stdout",
     "output_type": "stream",
     "text": [
      "<class 'pandas.core.frame.DataFrame'>\n",
      "RangeIndex: 477322 entries, 0 to 477321\n",
      "Data columns (total 11 columns):\n",
      " #   Column                                              Non-Null Count   Dtype  \n",
      "---  ------                                              --------------   -----  \n",
      " 0   country_region_code                                 476498 non-null  object \n",
      " 1   country_region                                      477322 non-null  object \n",
      " 2   sub_region_1                                        463462 non-null  object \n",
      " 3   sub_region_2                                        276591 non-null  object \n",
      " 4   date                                                477322 non-null  object \n",
      " 5   retail_and_recreation_percent_change_from_baseline  371377 non-null  float64\n",
      " 6   grocery_and_pharmacy_percent_change_from_baseline   358150 non-null  float64\n",
      " 7   parks_percent_change_from_baseline                  220621 non-null  float64\n",
      " 8   transit_stations_percent_change_from_baseline       253790 non-null  float64\n",
      " 9   workplaces_percent_change_from_baseline             464398 non-null  float64\n",
      " 10  residential_percent_change_from_baseline            262232 non-null  float64\n",
      "dtypes: float64(6), object(5)\n",
      "memory usage: 40.1+ MB\n"
     ]
    },
    {
     "data": {
      "text/plain": [
       "Index(['country_region_code', 'country_region', 'sub_region_1', 'sub_region_2',\n",
       "       'date', 'retail_and_recreation_percent_change_from_baseline',\n",
       "       'grocery_and_pharmacy_percent_change_from_baseline',\n",
       "       'parks_percent_change_from_baseline',\n",
       "       'transit_stations_percent_change_from_baseline',\n",
       "       'workplaces_percent_change_from_baseline',\n",
       "       'residential_percent_change_from_baseline'],\n",
       "      dtype='object')"
      ]
     },
     "execution_count": 5,
     "metadata": {},
     "output_type": "execute_result"
    }
   ],
   "source": [
    "BD.info()\n",
    "BD.columns"
   ]
  },
  {
   "cell_type": "markdown",
   "metadata": {},
   "source": [
    "# Corrección de la Base de datos"
   ]
  },
  {
   "cell_type": "markdown",
   "metadata": {},
   "source": [
    "Corrijo fechas"
   ]
  },
  {
   "cell_type": "code",
   "execution_count": 6,
   "metadata": {},
   "outputs": [],
   "source": [
    "BD['date'] = pd.to_datetime(BD.date)"
   ]
  },
  {
   "cell_type": "markdown",
   "metadata": {},
   "source": [
    "Corrijo nombre columnas"
   ]
  },
  {
   "cell_type": "code",
   "execution_count": 7,
   "metadata": {},
   "outputs": [
    {
     "data": {
      "text/plain": [
       "Index(['country_region_code', 'country_region', 'sub_region_1', 'sub_region_2',\n",
       "       'date', 'retail_and_recreation', 'grocery_and_pharmacy', 'parks',\n",
       "       'transit_stations', 'workplaces', 'residential'],\n",
       "      dtype='object')"
      ]
     },
     "execution_count": 7,
     "metadata": {},
     "output_type": "execute_result"
    }
   ],
   "source": [
    "BD.rename(columns={\n",
    "    'retail_and_recreation_percent_change_from_baseline': 'retail_and_recreation',\n",
    "    'grocery_and_pharmacy_percent_change_from_baseline': 'grocery_and_pharmacy',\n",
    "    'parks_percent_change_from_baseline': 'parks',\n",
    "    'transit_stations_percent_change_from_baseline': 'transit_stations',\n",
    "    'workplaces_percent_change_from_baseline': 'workplaces',\n",
    "    'residential_percent_change_from_baseline': 'residential'},\n",
    "          inplace=True)\n",
    "BD.columns"
   ]
  },
  {
   "cell_type": "markdown",
   "metadata": {},
   "source": [
    "Creo BDs útiles"
   ]
  },
  {
   "cell_type": "code",
   "execution_count": 8,
   "metadata": {},
   "outputs": [],
   "source": [
    "mundo = BD.loc[BD.country_region.isin(['United States', 'United Kingdom', 'Japan',\n",
    "                                       'Spain', 'Italy','Canada', 'Argentina',\n",
    "                                       'Colombia','Peru', 'Brazil', 'Uruguay',\n",
    "                                       'Chile'])].copy()\n",
    "\n",
    "chile = BD.loc[BD.country_region=='Chile'].copy()\n",
    "valpo = chile.loc[chile.sub_region_1=='Valparaíso']"
   ]
  },
  {
   "cell_type": "markdown",
   "metadata": {},
   "source": [
    "seteo nombre de regiones como variable categórica ordenada"
   ]
  },
  {
   "cell_type": "code",
   "execution_count": 9,
   "metadata": {},
   "outputs": [],
   "source": [
    "chile['sub_region_1'] = pd.Categorical(\n",
    "    chile['sub_region_1'],\n",
    "    categories = ['Arica y Parinacota', 'Antofagasta', 'Tarapacá', 'Atacama', 'Coquimbo',\n",
    "                  'Valparaíso', 'Santiago Metropolitan Region', \"O'Higgins\", 'Maule',\n",
    "                  'Ñuble', 'Bio Bio', 'Araucania', 'Los Ríos', 'Los Lagos', 'Aysén',\n",
    "                  'Magallanes and Chilean Antarctica']\n",
    ")"
   ]
  },
  {
   "cell_type": "markdown",
   "metadata": {},
   "source": [
    "determino el nombre de los indicadores"
   ]
  },
  {
   "cell_type": "code",
   "execution_count": 99,
   "metadata": {},
   "outputs": [],
   "source": [
    "indicadores = ['retail_and_recreation', 'grocery_and_pharmacy', 'parks',\n",
    "               'transit_stations', 'workplaces', 'residential']"
   ]
  },
  {
   "cell_type": "markdown",
   "metadata": {},
   "source": [
    "# Resultados"
   ]
  },
  {
   "cell_type": "code",
   "execution_count": 10,
   "metadata": {},
   "outputs": [
    {
     "data": {
      "text/plain": [
       "(132,)"
      ]
     },
     "execution_count": 10,
     "metadata": {},
     "output_type": "execute_result"
    }
   ],
   "source": [
    "#cantidad de países\n",
    "BD.country_region.unique().shape"
   ]
  },
  {
   "cell_type": "markdown",
   "metadata": {},
   "source": [
    "creo una tabla y gráfico de algunos países de interés de la movilidad ciudadana.\n",
    "\n",
    "Llevo a un dictado la información por cada uno de los indicadores"
   ]
  },
  {
   "cell_type": "code",
   "execution_count": 108,
   "metadata": {},
   "outputs": [
    {
     "name": "stdout",
     "output_type": "stream",
     "text": [
      "{'retail_and_recreation': country_region  date\n",
      "Argentina       7       -1.0\n",
      "                8        2.0\n",
      "                9       -1.0\n",
      "                10       3.0\n",
      "                11      -5.0\n",
      "                        ... \n",
      "Uruguay         18     -51.0\n",
      "                19     -36.0\n",
      "                20     -33.0\n",
      "                21     -39.0\n",
      "                22     -32.0\n",
      "Name: retail_and_recreation, Length: 192, dtype: float64, 'grocery_and_pharmacy': country_region  date\n",
      "Argentina       7       -3.0\n",
      "                8        2.0\n",
      "                9        1.0\n",
      "                10       6.0\n",
      "                11       6.0\n",
      "                        ... \n",
      "Uruguay         18     -26.5\n",
      "                19     -11.0\n",
      "                20     -14.5\n",
      "                21     -20.0\n",
      "                22     -17.0\n",
      "Name: grocery_and_pharmacy, Length: 192, dtype: float64, 'parks': country_region  date\n",
      "Argentina       7       -6.5\n",
      "                8       -2.0\n",
      "                9       -4.0\n",
      "                10      -6.0\n",
      "                11     -16.0\n",
      "                        ... \n",
      "Uruguay         18     -61.0\n",
      "                19     -54.0\n",
      "                20     -47.0\n",
      "                21     -56.0\n",
      "                22     -47.0\n",
      "Name: parks, Length: 192, dtype: float64, 'transit_stations': country_region  date\n",
      "Argentina       7       -3.0\n",
      "                8        4.0\n",
      "                9        0.0\n",
      "                10       0.5\n",
      "                11      -5.0\n",
      "                        ... \n",
      "Uruguay         18     -53.0\n",
      "                19     -40.0\n",
      "                20     -39.0\n",
      "                21     -48.0\n",
      "                22     -39.5\n",
      "Name: transit_stations, Length: 192, dtype: float64, 'workplaces': country_region  date\n",
      "Argentina       7       -2.0\n",
      "                8        9.0\n",
      "                9        3.0\n",
      "                10      18.0\n",
      "                11      18.0\n",
      "                        ... \n",
      "Uruguay         18     -18.0\n",
      "                19      -9.0\n",
      "                20      -6.0\n",
      "                21     -11.0\n",
      "                22       0.0\n",
      "Name: workplaces, Length: 192, dtype: float64, 'residential': country_region  date\n",
      "Argentina       7        1.0\n",
      "                8       -1.0\n",
      "                9        1.0\n",
      "                10      -1.0\n",
      "                11      -1.0\n",
      "                        ... \n",
      "Uruguay         18      14.0\n",
      "                19      12.0\n",
      "                20      11.0\n",
      "                21      13.0\n",
      "                22      10.0\n",
      "Name: residential, Length: 192, dtype: float64}\n"
     ]
    },
    {
     "data": {
      "text/html": [
       "<div>\n",
       "<style scoped>\n",
       "    .dataframe tbody tr th:only-of-type {\n",
       "        vertical-align: middle;\n",
       "    }\n",
       "\n",
       "    .dataframe tbody tr th {\n",
       "        vertical-align: top;\n",
       "    }\n",
       "\n",
       "    .dataframe thead th {\n",
       "        text-align: right;\n",
       "    }\n",
       "</style>\n",
       "<table border=\"1\" class=\"dataframe\">\n",
       "  <thead>\n",
       "    <tr style=\"text-align: right;\">\n",
       "      <th></th>\n",
       "      <th></th>\n",
       "      <th>retail_and_recreation</th>\n",
       "      <th>grocery_and_pharmacy</th>\n",
       "      <th>parks</th>\n",
       "      <th>transit_stations</th>\n",
       "      <th>workplaces</th>\n",
       "      <th>residential</th>\n",
       "    </tr>\n",
       "    <tr>\n",
       "      <th>country_region</th>\n",
       "      <th>date</th>\n",
       "      <th></th>\n",
       "      <th></th>\n",
       "      <th></th>\n",
       "      <th></th>\n",
       "      <th></th>\n",
       "      <th></th>\n",
       "    </tr>\n",
       "  </thead>\n",
       "  <tbody>\n",
       "    <tr>\n",
       "      <th rowspan=\"5\" valign=\"top\">Argentina</th>\n",
       "      <th>7</th>\n",
       "      <td>-1.0</td>\n",
       "      <td>-3.0</td>\n",
       "      <td>-6.5</td>\n",
       "      <td>-3.0</td>\n",
       "      <td>-2.0</td>\n",
       "      <td>1.0</td>\n",
       "    </tr>\n",
       "    <tr>\n",
       "      <th>8</th>\n",
       "      <td>2.0</td>\n",
       "      <td>2.0</td>\n",
       "      <td>-2.0</td>\n",
       "      <td>4.0</td>\n",
       "      <td>9.0</td>\n",
       "      <td>-1.0</td>\n",
       "    </tr>\n",
       "    <tr>\n",
       "      <th>9</th>\n",
       "      <td>-1.0</td>\n",
       "      <td>1.0</td>\n",
       "      <td>-4.0</td>\n",
       "      <td>0.0</td>\n",
       "      <td>3.0</td>\n",
       "      <td>1.0</td>\n",
       "    </tr>\n",
       "    <tr>\n",
       "      <th>10</th>\n",
       "      <td>3.0</td>\n",
       "      <td>6.0</td>\n",
       "      <td>-6.0</td>\n",
       "      <td>0.5</td>\n",
       "      <td>18.0</td>\n",
       "      <td>-1.0</td>\n",
       "    </tr>\n",
       "    <tr>\n",
       "      <th>11</th>\n",
       "      <td>-5.0</td>\n",
       "      <td>6.0</td>\n",
       "      <td>-16.0</td>\n",
       "      <td>-5.0</td>\n",
       "      <td>18.0</td>\n",
       "      <td>-1.0</td>\n",
       "    </tr>\n",
       "    <tr>\n",
       "      <th>...</th>\n",
       "      <th>...</th>\n",
       "      <td>...</td>\n",
       "      <td>...</td>\n",
       "      <td>...</td>\n",
       "      <td>...</td>\n",
       "      <td>...</td>\n",
       "      <td>...</td>\n",
       "    </tr>\n",
       "    <tr>\n",
       "      <th rowspan=\"5\" valign=\"top\">Uruguay</th>\n",
       "      <th>18</th>\n",
       "      <td>-51.0</td>\n",
       "      <td>-26.5</td>\n",
       "      <td>-61.0</td>\n",
       "      <td>-53.0</td>\n",
       "      <td>-18.0</td>\n",
       "      <td>14.0</td>\n",
       "    </tr>\n",
       "    <tr>\n",
       "      <th>19</th>\n",
       "      <td>-36.0</td>\n",
       "      <td>-11.0</td>\n",
       "      <td>-54.0</td>\n",
       "      <td>-40.0</td>\n",
       "      <td>-9.0</td>\n",
       "      <td>12.0</td>\n",
       "    </tr>\n",
       "    <tr>\n",
       "      <th>20</th>\n",
       "      <td>-33.0</td>\n",
       "      <td>-14.5</td>\n",
       "      <td>-47.0</td>\n",
       "      <td>-39.0</td>\n",
       "      <td>-6.0</td>\n",
       "      <td>11.0</td>\n",
       "    </tr>\n",
       "    <tr>\n",
       "      <th>21</th>\n",
       "      <td>-39.0</td>\n",
       "      <td>-20.0</td>\n",
       "      <td>-56.0</td>\n",
       "      <td>-48.0</td>\n",
       "      <td>-11.0</td>\n",
       "      <td>13.0</td>\n",
       "    </tr>\n",
       "    <tr>\n",
       "      <th>22</th>\n",
       "      <td>-32.0</td>\n",
       "      <td>-17.0</td>\n",
       "      <td>-47.0</td>\n",
       "      <td>-39.5</td>\n",
       "      <td>0.0</td>\n",
       "      <td>10.0</td>\n",
       "    </tr>\n",
       "  </tbody>\n",
       "</table>\n",
       "<p>192 rows × 6 columns</p>\n",
       "</div>"
      ],
      "text/plain": [
       "                     retail_and_recreation  grocery_and_pharmacy  parks  \\\n",
       "country_region date                                                       \n",
       "Argentina      7                      -1.0                  -3.0   -6.5   \n",
       "               8                       2.0                   2.0   -2.0   \n",
       "               9                      -1.0                   1.0   -4.0   \n",
       "               10                      3.0                   6.0   -6.0   \n",
       "               11                     -5.0                   6.0  -16.0   \n",
       "...                                    ...                   ...    ...   \n",
       "Uruguay        18                    -51.0                 -26.5  -61.0   \n",
       "               19                    -36.0                 -11.0  -54.0   \n",
       "               20                    -33.0                 -14.5  -47.0   \n",
       "               21                    -39.0                 -20.0  -56.0   \n",
       "               22                    -32.0                 -17.0  -47.0   \n",
       "\n",
       "                     transit_stations  workplaces  residential  \n",
       "country_region date                                             \n",
       "Argentina      7                 -3.0        -2.0          1.0  \n",
       "               8                  4.0         9.0         -1.0  \n",
       "               9                  0.0         3.0          1.0  \n",
       "               10                 0.5        18.0         -1.0  \n",
       "               11                -5.0        18.0         -1.0  \n",
       "...                               ...         ...          ...  \n",
       "Uruguay        18               -53.0       -18.0         14.0  \n",
       "               19               -40.0        -9.0         12.0  \n",
       "               20               -39.0        -6.0         11.0  \n",
       "               21               -48.0       -11.0         13.0  \n",
       "               22               -39.5         0.0         10.0  \n",
       "\n",
       "[192 rows x 6 columns]"
      ]
     },
     "execution_count": 108,
     "metadata": {},
     "output_type": "execute_result"
    },
    {
     "data": {
      "text/html": [
       "<div>\n",
       "<style scoped>\n",
       "    .dataframe tbody tr th:only-of-type {\n",
       "        vertical-align: middle;\n",
       "    }\n",
       "\n",
       "    .dataframe tbody tr th {\n",
       "        vertical-align: top;\n",
       "    }\n",
       "\n",
       "    .dataframe thead th {\n",
       "        text-align: right;\n",
       "    }\n",
       "</style>\n",
       "<table border=\"1\" class=\"dataframe\">\n",
       "  <thead>\n",
       "    <tr style=\"text-align: right;\">\n",
       "      <th>date</th>\n",
       "      <th>7</th>\n",
       "      <th>8</th>\n",
       "      <th>9</th>\n",
       "      <th>10</th>\n",
       "      <th>11</th>\n",
       "      <th>12</th>\n",
       "      <th>13</th>\n",
       "      <th>14</th>\n",
       "      <th>15</th>\n",
       "      <th>16</th>\n",
       "      <th>17</th>\n",
       "      <th>18</th>\n",
       "      <th>19</th>\n",
       "      <th>20</th>\n",
       "      <th>21</th>\n",
       "      <th>22</th>\n",
       "    </tr>\n",
       "    <tr>\n",
       "      <th>country_region</th>\n",
       "      <th></th>\n",
       "      <th></th>\n",
       "      <th></th>\n",
       "      <th></th>\n",
       "      <th></th>\n",
       "      <th></th>\n",
       "      <th></th>\n",
       "      <th></th>\n",
       "      <th></th>\n",
       "      <th></th>\n",
       "      <th></th>\n",
       "      <th></th>\n",
       "      <th></th>\n",
       "      <th></th>\n",
       "      <th></th>\n",
       "      <th></th>\n",
       "    </tr>\n",
       "  </thead>\n",
       "  <tbody>\n",
       "    <tr>\n",
       "      <th>Argentina</th>\n",
       "      <td>-2.120000</td>\n",
       "      <td>7.805714</td>\n",
       "      <td>-6.308571</td>\n",
       "      <td>17.005714</td>\n",
       "      <td>15.142857</td>\n",
       "      <td>-30.234286</td>\n",
       "      <td>-62.891429</td>\n",
       "      <td>-56.851429</td>\n",
       "      <td>-53.582857</td>\n",
       "      <td>-44.748571</td>\n",
       "      <td>-40.788571</td>\n",
       "      <td>-40.885714</td>\n",
       "      <td>-29.794286</td>\n",
       "      <td>-23.720000</td>\n",
       "      <td>-20.954286</td>\n",
       "      <td>-25.320000</td>\n",
       "    </tr>\n",
       "    <tr>\n",
       "      <th>Brazil</th>\n",
       "      <td>2.571429</td>\n",
       "      <td>9.642857</td>\n",
       "      <td>-13.938776</td>\n",
       "      <td>13.775510</td>\n",
       "      <td>13.673469</td>\n",
       "      <td>-12.040816</td>\n",
       "      <td>-43.372449</td>\n",
       "      <td>-37.158163</td>\n",
       "      <td>-39.397959</td>\n",
       "      <td>-31.520408</td>\n",
       "      <td>-33.959184</td>\n",
       "      <td>-32.193878</td>\n",
       "      <td>-23.433673</td>\n",
       "      <td>-26.438776</td>\n",
       "      <td>-25.637755</td>\n",
       "      <td>-26.542857</td>\n",
       "    </tr>\n",
       "    <tr>\n",
       "      <th>Canada</th>\n",
       "      <td>0.782609</td>\n",
       "      <td>-6.311828</td>\n",
       "      <td>2.139785</td>\n",
       "      <td>1.064516</td>\n",
       "      <td>0.182796</td>\n",
       "      <td>-30.906250</td>\n",
       "      <td>-48.041237</td>\n",
       "      <td>-50.288660</td>\n",
       "      <td>-54.577320</td>\n",
       "      <td>-49.833333</td>\n",
       "      <td>-45.958333</td>\n",
       "      <td>-43.937500</td>\n",
       "      <td>-40.895833</td>\n",
       "      <td>-39.031250</td>\n",
       "      <td>-39.375000</td>\n",
       "      <td>-38.414286</td>\n",
       "    </tr>\n",
       "  </tbody>\n",
       "</table>\n",
       "</div>"
      ],
      "text/plain": [
       "date                  7         8          9          10         11  \\\n",
       "country_region                                                        \n",
       "Argentina      -2.120000  7.805714  -6.308571  17.005714  15.142857   \n",
       "Brazil          2.571429  9.642857 -13.938776  13.775510  13.673469   \n",
       "Canada          0.782609 -6.311828   2.139785   1.064516   0.182796   \n",
       "\n",
       "date                   12         13         14         15         16  \\\n",
       "country_region                                                          \n",
       "Argentina      -30.234286 -62.891429 -56.851429 -53.582857 -44.748571   \n",
       "Brazil         -12.040816 -43.372449 -37.158163 -39.397959 -31.520408   \n",
       "Canada         -30.906250 -48.041237 -50.288660 -54.577320 -49.833333   \n",
       "\n",
       "date                   17         18         19         20         21  \\\n",
       "country_region                                                          \n",
       "Argentina      -40.788571 -40.885714 -29.794286 -23.720000 -20.954286   \n",
       "Brazil         -33.959184 -32.193878 -23.433673 -26.438776 -25.637755   \n",
       "Canada         -45.958333 -43.937500 -40.895833 -39.031250 -39.375000   \n",
       "\n",
       "date                   22  \n",
       "country_region             \n",
       "Argentina      -25.320000  \n",
       "Brazil         -26.542857  \n",
       "Canada         -38.414286  "
      ]
     },
     "execution_count": 108,
     "metadata": {},
     "output_type": "execute_result"
    },
    {
     "data": {
      "text/plain": [
       "Int64Index([7, 8, 9, 10, 11, 12, 13, 14, 15, 16, 17, 18, 19, 20, 21, 22], dtype='int64', name='date')"
      ]
     },
     "execution_count": 108,
     "metadata": {},
     "output_type": "execute_result"
    }
   ],
   "source": [
    "mundo_grouped = mundo.groupby(['country_region', mundo.date.dt.week])\n",
    "mundo_grouped_media=dict()\n",
    "for indicador in indicadores:\n",
    "    mundo_grouped_media[str(indicador)] = mundo_grouped[indicador].median()\n",
    "print(mundo_grouped_media)\n",
    "pd.DataFrame.from_dict(mundo_grouped_media)\n",
    "\n",
    "mundo_grouped_var   ='d'\n",
    "\n",
    "\n",
    "mundo_grouped.workplaces.mean().unstack().head(3)\n",
    "\n",
    "mundo_grouped.count().reset_index(level=0).index.unique()\n",
    "# mundo_grouped.groups[('Argentina', 7)]\n",
    "# semana = dt.datetime.strptime(mundo.date.dt.week + '-1', \"%Y-W%W-%w\")"
   ]
  },
  {
   "cell_type": "code",
   "execution_count": 41,
   "metadata": {
    "scrolled": true
   },
   "outputs": [
    {
     "data": {
      "text/plain": [
       "<matplotlib.legend.Legend at 0x7f0b170f9be0>"
      ]
     },
     "execution_count": 41,
     "metadata": {},
     "output_type": "execute_result"
    },
    {
     "data": {
      "text/plain": [
       "Text(0.5, 0, 'Fecha')"
      ]
     },
     "execution_count": 41,
     "metadata": {},
     "output_type": "execute_result"
    },
    {
     "data": {
      "text/plain": [
       "Text(0, 0.5, 'Cambio % respecto al basal previo')"
      ]
     },
     "execution_count": 41,
     "metadata": {},
     "output_type": "execute_result"
    },
    {
     "data": {
      "text/plain": [
       "Text(0.5, 1.0, 'Movilidad ciudadana en base a servicio Google \\n y localización basada en el teléfono móvil')"
      ]
     },
     "execution_count": 41,
     "metadata": {},
     "output_type": "execute_result"
    },
    {
     "data": {
      "text/plain": [
       "([<matplotlib.axis.XTick at 0x7f0b16ea4c50>,\n",
       "  <matplotlib.axis.XTick at 0x7f0b16ea4c18>,\n",
       "  <matplotlib.axis.XTick at 0x7f0b16ea9a20>,\n",
       "  <matplotlib.axis.XTick at 0x7f0b163c8198>,\n",
       "  <matplotlib.axis.XTick at 0x7f0b163c8550>,\n",
       "  <matplotlib.axis.XTick at 0x7f0b163c89e8>,\n",
       "  <matplotlib.axis.XTick at 0x7f0b163c8e80>,\n",
       "  <matplotlib.axis.XTick at 0x7f0b163ca358>,\n",
       "  <matplotlib.axis.XTick at 0x7f0b163ca7f0>,\n",
       "  <matplotlib.axis.XTick at 0x7f0b163cac88>,\n",
       "  <matplotlib.axis.XTick at 0x7f0b16ea4898>,\n",
       "  <matplotlib.axis.XTick at 0x7f0b163da748>,\n",
       "  <matplotlib.axis.XTick at 0x7f0b163daa90>,\n",
       "  <matplotlib.axis.XTick at 0x7f0b163daf28>,\n",
       "  <matplotlib.axis.XTick at 0x7f0b163de400>,\n",
       "  <matplotlib.axis.XTick at 0x7f0b163de898>,\n",
       "  <matplotlib.axis.XTick at 0x7f0b163ded30>],\n",
       " [Text(0, 0, '10 feb'),\n",
       "  Text(0, 0, '17 feb'),\n",
       "  Text(0, 0, '24 feb'),\n",
       "  Text(0, 0, '2 mar'),\n",
       "  Text(0, 0, '9 mar'),\n",
       "  Text(0, 0, '16 mar'),\n",
       "  Text(0, 0, '23 mar'),\n",
       "  Text(0, 0, '30 mar'),\n",
       "  Text(0, 0, '6 abr'),\n",
       "  Text(0, 0, '13 abr'),\n",
       "  Text(0, 0, '20 abr'),\n",
       "  Text(0, 0, '27 abr'),\n",
       "  Text(0, 0, '4 may'),\n",
       "  Text(0, 0, '11 may'),\n",
       "  Text(0, 0, '18 may'),\n",
       "  Text(0, 0, '25 may'),\n",
       "  Text(0, 0, '1 jun')])"
      ]
     },
     "execution_count": 41,
     "metadata": {},
     "output_type": "execute_result"
    },
    {
     "data": {
      "image/png": "[encoded data removed]",
      "text/plain": [
       "<Figure size 432x288 with 1 Axes>"
      ]
     },
     "metadata": {
      "needs_background": "light"
     },
     "output_type": "display_data"
    }
   ],
   "source": [
    "colors = cm.rainbow(np.linspace(0, 1, 13))\n",
    "mundo_grouped.workplaces.mean().unstack().T.plot(color= colors).legend(bbox_to_anchor=(1, 1), title= 'Región')\n",
    "plt.xlabel('Fecha')\n",
    "plt.ylabel('Cambio % respecto al basal previo')\n",
    "plt.title('Movilidad ciudadana en base a servicio Google \\n y localización basada en el teléfono móvil')\n",
    "plt.xticks(range(7,24),\n",
    "           ['10 feb', '17 feb', '24 feb', '2 mar',\n",
    "            '9 mar', '16 mar', '23 mar', '30 mar', '6 abr',\n",
    "            '13 abr', '20 abr', '27 abr', '4 may', '11 may',\n",
    "            '18 may', '25 may', '1 jun', '8 jun'],\n",
    "           rotation='vertical')\n"
   ]
  },
  {
   "cell_type": "code",
   "execution_count": null,
   "metadata": {},
   "outputs": [],
   "source": []
  },
  {
   "cell_type": "code",
   "execution_count": null,
   "metadata": {},
   "outputs": [],
   "source": []
  },
  {
   "cell_type": "code",
   "execution_count": null,
   "metadata": {},
   "outputs": [],
   "source": []
  },
  {
   "cell_type": "markdown",
   "metadata": {},
   "source": [
    "Comienzo a describir la BD para ver que resultados puedo sacar"
   ]
  },
  {
   "cell_type": "code",
   "execution_count": 13,
   "metadata": {},
   "outputs": [
    {
     "data": {
      "text/plain": [
       "Index(['country_region_code', 'country_region', 'sub_region_1', 'sub_region_2',\n",
       "       'date', 'retail_and_recreation', 'grocery_and_pharmacy', 'parks',\n",
       "       'transit_stations', 'workplaces', 'residential'],\n",
       "      dtype='object')"
      ]
     },
     "execution_count": 13,
     "metadata": {},
     "output_type": "execute_result"
    }
   ],
   "source": [
    "chile.columns"
   ]
  },
  {
   "cell_type": "code",
   "execution_count": 14,
   "metadata": {},
   "outputs": [
    {
     "data": {
      "text/html": [
       "<div>\n",
       "<style scoped>\n",
       "    .dataframe tbody tr th:only-of-type {\n",
       "        vertical-align: middle;\n",
       "    }\n",
       "\n",
       "    .dataframe tbody tr th {\n",
       "        vertical-align: top;\n",
       "    }\n",
       "\n",
       "    .dataframe thead tr th {\n",
       "        text-align: left;\n",
       "    }\n",
       "\n",
       "    .dataframe thead tr:last-of-type th {\n",
       "        text-align: right;\n",
       "    }\n",
       "</style>\n",
       "<table border=\"1\" class=\"dataframe\">\n",
       "  <thead>\n",
       "    <tr>\n",
       "      <th></th>\n",
       "      <th colspan=\"10\" halign=\"left\">retail_and_recreation</th>\n",
       "      <th>...</th>\n",
       "      <th colspan=\"10\" halign=\"left\">residential</th>\n",
       "    </tr>\n",
       "    <tr>\n",
       "      <th>date</th>\n",
       "      <th>7</th>\n",
       "      <th>8</th>\n",
       "      <th>9</th>\n",
       "      <th>10</th>\n",
       "      <th>11</th>\n",
       "      <th>12</th>\n",
       "      <th>13</th>\n",
       "      <th>14</th>\n",
       "      <th>15</th>\n",
       "      <th>16</th>\n",
       "      <th>...</th>\n",
       "      <th>13</th>\n",
       "      <th>14</th>\n",
       "      <th>15</th>\n",
       "      <th>16</th>\n",
       "      <th>17</th>\n",
       "      <th>18</th>\n",
       "      <th>19</th>\n",
       "      <th>20</th>\n",
       "      <th>21</th>\n",
       "      <th>22</th>\n",
       "    </tr>\n",
       "    <tr>\n",
       "      <th>sub_region_1</th>\n",
       "      <th></th>\n",
       "      <th></th>\n",
       "      <th></th>\n",
       "      <th></th>\n",
       "      <th></th>\n",
       "      <th></th>\n",
       "      <th></th>\n",
       "      <th></th>\n",
       "      <th></th>\n",
       "      <th></th>\n",
       "      <th></th>\n",
       "      <th></th>\n",
       "      <th></th>\n",
       "      <th></th>\n",
       "      <th></th>\n",
       "      <th></th>\n",
       "      <th></th>\n",
       "      <th></th>\n",
       "      <th></th>\n",
       "      <th></th>\n",
       "      <th></th>\n",
       "    </tr>\n",
       "  </thead>\n",
       "  <tbody>\n",
       "    <tr>\n",
       "      <th>Arica y Parinacota</th>\n",
       "      <td>-2.0</td>\n",
       "      <td>-0.285714</td>\n",
       "      <td>2.142857</td>\n",
       "      <td>4.714286</td>\n",
       "      <td>-6.857143</td>\n",
       "      <td>-43.000000</td>\n",
       "      <td>-61.571429</td>\n",
       "      <td>-56.428571</td>\n",
       "      <td>-64.142857</td>\n",
       "      <td>-66.428571</td>\n",
       "      <td>...</td>\n",
       "      <td>20.714286</td>\n",
       "      <td>19.000000</td>\n",
       "      <td>20.428571</td>\n",
       "      <td>22.142857</td>\n",
       "      <td>26.000000</td>\n",
       "      <td>24.000000</td>\n",
       "      <td>22.000000</td>\n",
       "      <td>21.571429</td>\n",
       "      <td>19.000000</td>\n",
       "      <td>18.4</td>\n",
       "    </tr>\n",
       "    <tr>\n",
       "      <th>Antofagasta</th>\n",
       "      <td>2.0</td>\n",
       "      <td>-1.571429</td>\n",
       "      <td>6.428571</td>\n",
       "      <td>8.285714</td>\n",
       "      <td>0.714286</td>\n",
       "      <td>-38.857143</td>\n",
       "      <td>-56.571429</td>\n",
       "      <td>-50.428571</td>\n",
       "      <td>-55.857143</td>\n",
       "      <td>-51.857143</td>\n",
       "      <td>...</td>\n",
       "      <td>21.428571</td>\n",
       "      <td>19.428571</td>\n",
       "      <td>20.428571</td>\n",
       "      <td>19.000000</td>\n",
       "      <td>17.857143</td>\n",
       "      <td>18.000000</td>\n",
       "      <td>20.714286</td>\n",
       "      <td>22.857143</td>\n",
       "      <td>24.142857</td>\n",
       "      <td>23.6</td>\n",
       "    </tr>\n",
       "    <tr>\n",
       "      <th>Tarapacá</th>\n",
       "      <td>4.0</td>\n",
       "      <td>1.000000</td>\n",
       "      <td>1.142857</td>\n",
       "      <td>0.571429</td>\n",
       "      <td>-9.571429</td>\n",
       "      <td>-40.714286</td>\n",
       "      <td>-65.857143</td>\n",
       "      <td>-60.285714</td>\n",
       "      <td>-66.571429</td>\n",
       "      <td>-62.714286</td>\n",
       "      <td>...</td>\n",
       "      <td>24.142857</td>\n",
       "      <td>21.571429</td>\n",
       "      <td>22.285714</td>\n",
       "      <td>21.000000</td>\n",
       "      <td>20.142857</td>\n",
       "      <td>19.714286</td>\n",
       "      <td>18.142857</td>\n",
       "      <td>21.428571</td>\n",
       "      <td>30.571429</td>\n",
       "      <td>29.2</td>\n",
       "    </tr>\n",
       "    <tr>\n",
       "      <th>Atacama</th>\n",
       "      <td>3.0</td>\n",
       "      <td>-1.857143</td>\n",
       "      <td>1.142857</td>\n",
       "      <td>6.000000</td>\n",
       "      <td>-4.428571</td>\n",
       "      <td>-40.285714</td>\n",
       "      <td>-54.428571</td>\n",
       "      <td>-47.857143</td>\n",
       "      <td>-56.285714</td>\n",
       "      <td>-50.428571</td>\n",
       "      <td>...</td>\n",
       "      <td>22.285714</td>\n",
       "      <td>19.857143</td>\n",
       "      <td>21.857143</td>\n",
       "      <td>20.142857</td>\n",
       "      <td>19.285714</td>\n",
       "      <td>20.000000</td>\n",
       "      <td>18.571429</td>\n",
       "      <td>20.285714</td>\n",
       "      <td>21.714286</td>\n",
       "      <td>19.8</td>\n",
       "    </tr>\n",
       "    <tr>\n",
       "      <th>Coquimbo</th>\n",
       "      <td>22.5</td>\n",
       "      <td>16.142857</td>\n",
       "      <td>3.428571</td>\n",
       "      <td>-12.000000</td>\n",
       "      <td>-19.142857</td>\n",
       "      <td>-54.571429</td>\n",
       "      <td>-71.428571</td>\n",
       "      <td>-66.428571</td>\n",
       "      <td>-71.428571</td>\n",
       "      <td>-66.571429</td>\n",
       "      <td>...</td>\n",
       "      <td>23.571429</td>\n",
       "      <td>21.142857</td>\n",
       "      <td>21.428571</td>\n",
       "      <td>19.857143</td>\n",
       "      <td>18.285714</td>\n",
       "      <td>18.000000</td>\n",
       "      <td>17.142857</td>\n",
       "      <td>19.285714</td>\n",
       "      <td>20.714286</td>\n",
       "      <td>20.0</td>\n",
       "    </tr>\n",
       "    <tr>\n",
       "      <th>Valparaíso</th>\n",
       "      <td>10.0</td>\n",
       "      <td>8.285714</td>\n",
       "      <td>2.000000</td>\n",
       "      <td>-8.000000</td>\n",
       "      <td>-16.142857</td>\n",
       "      <td>-52.142857</td>\n",
       "      <td>-68.142857</td>\n",
       "      <td>-63.428571</td>\n",
       "      <td>-67.571429</td>\n",
       "      <td>-63.714286</td>\n",
       "      <td>...</td>\n",
       "      <td>23.428571</td>\n",
       "      <td>21.571429</td>\n",
       "      <td>22.000000</td>\n",
       "      <td>20.142857</td>\n",
       "      <td>19.285714</td>\n",
       "      <td>19.142857</td>\n",
       "      <td>17.714286</td>\n",
       "      <td>20.142857</td>\n",
       "      <td>22.428571</td>\n",
       "      <td>22.2</td>\n",
       "    </tr>\n",
       "    <tr>\n",
       "      <th>Santiago Metropolitan Region</th>\n",
       "      <td>-8.0</td>\n",
       "      <td>-9.000000</td>\n",
       "      <td>3.000000</td>\n",
       "      <td>8.142857</td>\n",
       "      <td>0.571429</td>\n",
       "      <td>-45.285714</td>\n",
       "      <td>-65.571429</td>\n",
       "      <td>-65.571429</td>\n",
       "      <td>-69.571429</td>\n",
       "      <td>-63.428571</td>\n",
       "      <td>...</td>\n",
       "      <td>27.714286</td>\n",
       "      <td>28.285714</td>\n",
       "      <td>28.428571</td>\n",
       "      <td>25.857143</td>\n",
       "      <td>24.428571</td>\n",
       "      <td>24.428571</td>\n",
       "      <td>24.285714</td>\n",
       "      <td>28.714286</td>\n",
       "      <td>33.142857</td>\n",
       "      <td>34.0</td>\n",
       "    </tr>\n",
       "    <tr>\n",
       "      <th>O'Higgins</th>\n",
       "      <td>4.0</td>\n",
       "      <td>1.714286</td>\n",
       "      <td>0.857143</td>\n",
       "      <td>2.714286</td>\n",
       "      <td>-4.285714</td>\n",
       "      <td>-42.285714</td>\n",
       "      <td>-59.142857</td>\n",
       "      <td>-53.142857</td>\n",
       "      <td>-57.571429</td>\n",
       "      <td>-51.428571</td>\n",
       "      <td>...</td>\n",
       "      <td>22.142857</td>\n",
       "      <td>20.285714</td>\n",
       "      <td>21.285714</td>\n",
       "      <td>19.000000</td>\n",
       "      <td>18.000000</td>\n",
       "      <td>18.285714</td>\n",
       "      <td>17.000000</td>\n",
       "      <td>19.571429</td>\n",
       "      <td>22.428571</td>\n",
       "      <td>20.8</td>\n",
       "    </tr>\n",
       "    <tr>\n",
       "      <th>Maule</th>\n",
       "      <td>6.0</td>\n",
       "      <td>2.285714</td>\n",
       "      <td>2.142857</td>\n",
       "      <td>0.428571</td>\n",
       "      <td>-5.428571</td>\n",
       "      <td>-43.428571</td>\n",
       "      <td>-59.428571</td>\n",
       "      <td>-54.571429</td>\n",
       "      <td>-60.285714</td>\n",
       "      <td>-54.571429</td>\n",
       "      <td>...</td>\n",
       "      <td>22.714286</td>\n",
       "      <td>20.857143</td>\n",
       "      <td>22.428571</td>\n",
       "      <td>20.285714</td>\n",
       "      <td>19.571429</td>\n",
       "      <td>19.428571</td>\n",
       "      <td>17.142857</td>\n",
       "      <td>19.571429</td>\n",
       "      <td>22.142857</td>\n",
       "      <td>20.6</td>\n",
       "    </tr>\n",
       "    <tr>\n",
       "      <th>Ñuble</th>\n",
       "      <td>8.0</td>\n",
       "      <td>4.714286</td>\n",
       "      <td>2.714286</td>\n",
       "      <td>3.571429</td>\n",
       "      <td>-4.000000</td>\n",
       "      <td>-50.428571</td>\n",
       "      <td>-69.142857</td>\n",
       "      <td>-73.142857</td>\n",
       "      <td>-76.142857</td>\n",
       "      <td>-71.285714</td>\n",
       "      <td>...</td>\n",
       "      <td>22.000000</td>\n",
       "      <td>17.000000</td>\n",
       "      <td>NaN</td>\n",
       "      <td>NaN</td>\n",
       "      <td>NaN</td>\n",
       "      <td>15.500000</td>\n",
       "      <td>14.200000</td>\n",
       "      <td>16.200000</td>\n",
       "      <td>17.000000</td>\n",
       "      <td>17.0</td>\n",
       "    </tr>\n",
       "    <tr>\n",
       "      <th>Bio Bio</th>\n",
       "      <td>4.0</td>\n",
       "      <td>-0.571429</td>\n",
       "      <td>3.142857</td>\n",
       "      <td>3.285714</td>\n",
       "      <td>-3.714286</td>\n",
       "      <td>-49.142857</td>\n",
       "      <td>-68.285714</td>\n",
       "      <td>-61.714286</td>\n",
       "      <td>-68.714286</td>\n",
       "      <td>-62.428571</td>\n",
       "      <td>...</td>\n",
       "      <td>27.285714</td>\n",
       "      <td>24.857143</td>\n",
       "      <td>25.714286</td>\n",
       "      <td>23.285714</td>\n",
       "      <td>21.714286</td>\n",
       "      <td>21.000000</td>\n",
       "      <td>18.714286</td>\n",
       "      <td>20.285714</td>\n",
       "      <td>23.714286</td>\n",
       "      <td>20.6</td>\n",
       "    </tr>\n",
       "    <tr>\n",
       "      <th>Araucania</th>\n",
       "      <td>17.0</td>\n",
       "      <td>9.000000</td>\n",
       "      <td>2.000000</td>\n",
       "      <td>-4.285714</td>\n",
       "      <td>-11.857143</td>\n",
       "      <td>-54.571429</td>\n",
       "      <td>-72.714286</td>\n",
       "      <td>-78.857143</td>\n",
       "      <td>-80.571429</td>\n",
       "      <td>-77.000000</td>\n",
       "      <td>...</td>\n",
       "      <td>28.285714</td>\n",
       "      <td>30.285714</td>\n",
       "      <td>29.428571</td>\n",
       "      <td>27.857143</td>\n",
       "      <td>26.285714</td>\n",
       "      <td>24.714286</td>\n",
       "      <td>22.428571</td>\n",
       "      <td>23.571429</td>\n",
       "      <td>25.000000</td>\n",
       "      <td>23.2</td>\n",
       "    </tr>\n",
       "    <tr>\n",
       "      <th>Los Ríos</th>\n",
       "      <td>27.0</td>\n",
       "      <td>22.285714</td>\n",
       "      <td>16.714286</td>\n",
       "      <td>-6.571429</td>\n",
       "      <td>-15.571429</td>\n",
       "      <td>-53.857143</td>\n",
       "      <td>-70.428571</td>\n",
       "      <td>-66.857143</td>\n",
       "      <td>-71.857143</td>\n",
       "      <td>-70.000000</td>\n",
       "      <td>...</td>\n",
       "      <td>25.000000</td>\n",
       "      <td>23.571429</td>\n",
       "      <td>24.000000</td>\n",
       "      <td>23.571429</td>\n",
       "      <td>21.714286</td>\n",
       "      <td>21.285714</td>\n",
       "      <td>19.857143</td>\n",
       "      <td>21.714286</td>\n",
       "      <td>23.714286</td>\n",
       "      <td>22.2</td>\n",
       "    </tr>\n",
       "    <tr>\n",
       "      <th>Los Lagos</th>\n",
       "      <td>14.5</td>\n",
       "      <td>9.285714</td>\n",
       "      <td>5.571429</td>\n",
       "      <td>2.000000</td>\n",
       "      <td>-8.142857</td>\n",
       "      <td>-48.428571</td>\n",
       "      <td>-65.857143</td>\n",
       "      <td>-65.714286</td>\n",
       "      <td>-69.857143</td>\n",
       "      <td>-68.000000</td>\n",
       "      <td>...</td>\n",
       "      <td>24.000000</td>\n",
       "      <td>23.571429</td>\n",
       "      <td>24.285714</td>\n",
       "      <td>23.285714</td>\n",
       "      <td>21.428571</td>\n",
       "      <td>20.571429</td>\n",
       "      <td>18.285714</td>\n",
       "      <td>20.000000</td>\n",
       "      <td>22.000000</td>\n",
       "      <td>20.2</td>\n",
       "    </tr>\n",
       "    <tr>\n",
       "      <th>Aysén</th>\n",
       "      <td>1.5</td>\n",
       "      <td>1.714286</td>\n",
       "      <td>-0.285714</td>\n",
       "      <td>-3.857143</td>\n",
       "      <td>-12.857143</td>\n",
       "      <td>-50.000000</td>\n",
       "      <td>-64.000000</td>\n",
       "      <td>-59.428571</td>\n",
       "      <td>-64.285714</td>\n",
       "      <td>-59.428571</td>\n",
       "      <td>...</td>\n",
       "      <td>18.600000</td>\n",
       "      <td>17.800000</td>\n",
       "      <td>15.250000</td>\n",
       "      <td>17.000000</td>\n",
       "      <td>15.200000</td>\n",
       "      <td>12.500000</td>\n",
       "      <td>14.600000</td>\n",
       "      <td>16.800000</td>\n",
       "      <td>15.500000</td>\n",
       "      <td>16.0</td>\n",
       "    </tr>\n",
       "    <tr>\n",
       "      <th>Magallanes and Chilean Antarctica</th>\n",
       "      <td>-2.0</td>\n",
       "      <td>-2.571429</td>\n",
       "      <td>2.142857</td>\n",
       "      <td>4.571429</td>\n",
       "      <td>-3.571429</td>\n",
       "      <td>-52.142857</td>\n",
       "      <td>-68.571429</td>\n",
       "      <td>-73.428571</td>\n",
       "      <td>-82.428571</td>\n",
       "      <td>-80.285714</td>\n",
       "      <td>...</td>\n",
       "      <td>22.000000</td>\n",
       "      <td>23.500000</td>\n",
       "      <td>25.500000</td>\n",
       "      <td>24.500000</td>\n",
       "      <td>22.666667</td>\n",
       "      <td>22.000000</td>\n",
       "      <td>19.285714</td>\n",
       "      <td>15.571429</td>\n",
       "      <td>16.285714</td>\n",
       "      <td>16.8</td>\n",
       "    </tr>\n",
       "  </tbody>\n",
       "</table>\n",
       "<p>16 rows × 96 columns</p>\n",
       "</div>"
      ],
      "text/plain": [
       "                                  retail_and_recreation                        \\\n",
       "date                                                 7          8          9    \n",
       "sub_region_1                                                                    \n",
       "Arica y Parinacota                                 -2.0  -0.285714   2.142857   \n",
       "Antofagasta                                         2.0  -1.571429   6.428571   \n",
       "Tarapacá                                            4.0   1.000000   1.142857   \n",
       "Atacama                                             3.0  -1.857143   1.142857   \n",
       "Coquimbo                                           22.5  16.142857   3.428571   \n",
       "Valparaíso                                         10.0   8.285714   2.000000   \n",
       "Santiago Metropolitan Region                       -8.0  -9.000000   3.000000   \n",
       "O'Higgins                                           4.0   1.714286   0.857143   \n",
       "Maule                                               6.0   2.285714   2.142857   \n",
       "Ñuble                                               8.0   4.714286   2.714286   \n",
       "Bio Bio                                             4.0  -0.571429   3.142857   \n",
       "Araucania                                          17.0   9.000000   2.000000   \n",
       "Los Ríos                                           27.0  22.285714  16.714286   \n",
       "Los Lagos                                          14.5   9.285714   5.571429   \n",
       "Aysén                                               1.5   1.714286  -0.285714   \n",
       "Magallanes and Chilean Antarctica                  -2.0  -2.571429   2.142857   \n",
       "\n",
       "                                                                               \\\n",
       "date                                      10         11         12         13   \n",
       "sub_region_1                                                                    \n",
       "Arica y Parinacota                  4.714286  -6.857143 -43.000000 -61.571429   \n",
       "Antofagasta                         8.285714   0.714286 -38.857143 -56.571429   \n",
       "Tarapacá                            0.571429  -9.571429 -40.714286 -65.857143   \n",
       "Atacama                             6.000000  -4.428571 -40.285714 -54.428571   \n",
       "Coquimbo                          -12.000000 -19.142857 -54.571429 -71.428571   \n",
       "Valparaíso                         -8.000000 -16.142857 -52.142857 -68.142857   \n",
       "Santiago Metropolitan Region        8.142857   0.571429 -45.285714 -65.571429   \n",
       "O'Higgins                           2.714286  -4.285714 -42.285714 -59.142857   \n",
       "Maule                               0.428571  -5.428571 -43.428571 -59.428571   \n",
       "Ñuble                               3.571429  -4.000000 -50.428571 -69.142857   \n",
       "Bio Bio                             3.285714  -3.714286 -49.142857 -68.285714   \n",
       "Araucania                          -4.285714 -11.857143 -54.571429 -72.714286   \n",
       "Los Ríos                           -6.571429 -15.571429 -53.857143 -70.428571   \n",
       "Los Lagos                           2.000000  -8.142857 -48.428571 -65.857143   \n",
       "Aysén                              -3.857143 -12.857143 -50.000000 -64.000000   \n",
       "Magallanes and Chilean Antarctica   4.571429  -3.571429 -52.142857 -68.571429   \n",
       "\n",
       "                                                                    ...  \\\n",
       "date                                      14         15         16  ...   \n",
       "sub_region_1                                                        ...   \n",
       "Arica y Parinacota                -56.428571 -64.142857 -66.428571  ...   \n",
       "Antofagasta                       -50.428571 -55.857143 -51.857143  ...   \n",
       "Tarapacá                          -60.285714 -66.571429 -62.714286  ...   \n",
       "Atacama                           -47.857143 -56.285714 -50.428571  ...   \n",
       "Coquimbo                          -66.428571 -71.428571 -66.571429  ...   \n",
       "Valparaíso                        -63.428571 -67.571429 -63.714286  ...   \n",
       "Santiago Metropolitan Region      -65.571429 -69.571429 -63.428571  ...   \n",
       "O'Higgins                         -53.142857 -57.571429 -51.428571  ...   \n",
       "Maule                             -54.571429 -60.285714 -54.571429  ...   \n",
       "Ñuble                             -73.142857 -76.142857 -71.285714  ...   \n",
       "Bio Bio                           -61.714286 -68.714286 -62.428571  ...   \n",
       "Araucania                         -78.857143 -80.571429 -77.000000  ...   \n",
       "Los Ríos                          -66.857143 -71.857143 -70.000000  ...   \n",
       "Los Lagos                         -65.714286 -69.857143 -68.000000  ...   \n",
       "Aysén                             -59.428571 -64.285714 -59.428571  ...   \n",
       "Magallanes and Chilean Antarctica -73.428571 -82.428571 -80.285714  ...   \n",
       "\n",
       "                                  residential                        \\\n",
       "date                                       13         14         15   \n",
       "sub_region_1                                                          \n",
       "Arica y Parinacota                  20.714286  19.000000  20.428571   \n",
       "Antofagasta                         21.428571  19.428571  20.428571   \n",
       "Tarapacá                            24.142857  21.571429  22.285714   \n",
       "Atacama                             22.285714  19.857143  21.857143   \n",
       "Coquimbo                            23.571429  21.142857  21.428571   \n",
       "Valparaíso                          23.428571  21.571429  22.000000   \n",
       "Santiago Metropolitan Region        27.714286  28.285714  28.428571   \n",
       "O'Higgins                           22.142857  20.285714  21.285714   \n",
       "Maule                               22.714286  20.857143  22.428571   \n",
       "Ñuble                               22.000000  17.000000        NaN   \n",
       "Bio Bio                             27.285714  24.857143  25.714286   \n",
       "Araucania                           28.285714  30.285714  29.428571   \n",
       "Los Ríos                            25.000000  23.571429  24.000000   \n",
       "Los Lagos                           24.000000  23.571429  24.285714   \n",
       "Aysén                               18.600000  17.800000  15.250000   \n",
       "Magallanes and Chilean Antarctica   22.000000  23.500000  25.500000   \n",
       "\n",
       "                                                                               \\\n",
       "date                                      16         17         18         19   \n",
       "sub_region_1                                                                    \n",
       "Arica y Parinacota                 22.142857  26.000000  24.000000  22.000000   \n",
       "Antofagasta                        19.000000  17.857143  18.000000  20.714286   \n",
       "Tarapacá                           21.000000  20.142857  19.714286  18.142857   \n",
       "Atacama                            20.142857  19.285714  20.000000  18.571429   \n",
       "Coquimbo                           19.857143  18.285714  18.000000  17.142857   \n",
       "Valparaíso                         20.142857  19.285714  19.142857  17.714286   \n",
       "Santiago Metropolitan Region       25.857143  24.428571  24.428571  24.285714   \n",
       "O'Higgins                          19.000000  18.000000  18.285714  17.000000   \n",
       "Maule                              20.285714  19.571429  19.428571  17.142857   \n",
       "Ñuble                                    NaN        NaN  15.500000  14.200000   \n",
       "Bio Bio                            23.285714  21.714286  21.000000  18.714286   \n",
       "Araucania                          27.857143  26.285714  24.714286  22.428571   \n",
       "Los Ríos                           23.571429  21.714286  21.285714  19.857143   \n",
       "Los Lagos                          23.285714  21.428571  20.571429  18.285714   \n",
       "Aysén                              17.000000  15.200000  12.500000  14.600000   \n",
       "Magallanes and Chilean Antarctica  24.500000  22.666667  22.000000  19.285714   \n",
       "\n",
       "                                                               \n",
       "date                                      20         21    22  \n",
       "sub_region_1                                                   \n",
       "Arica y Parinacota                 21.571429  19.000000  18.4  \n",
       "Antofagasta                        22.857143  24.142857  23.6  \n",
       "Tarapacá                           21.428571  30.571429  29.2  \n",
       "Atacama                            20.285714  21.714286  19.8  \n",
       "Coquimbo                           19.285714  20.714286  20.0  \n",
       "Valparaíso                         20.142857  22.428571  22.2  \n",
       "Santiago Metropolitan Region       28.714286  33.142857  34.0  \n",
       "O'Higgins                          19.571429  22.428571  20.8  \n",
       "Maule                              19.571429  22.142857  20.6  \n",
       "Ñuble                              16.200000  17.000000  17.0  \n",
       "Bio Bio                            20.285714  23.714286  20.6  \n",
       "Araucania                          23.571429  25.000000  23.2  \n",
       "Los Ríos                           21.714286  23.714286  22.2  \n",
       "Los Lagos                          20.000000  22.000000  20.2  \n",
       "Aysén                              16.800000  15.500000  16.0  \n",
       "Magallanes and Chilean Antarctica  15.571429  16.285714  16.8  \n",
       "\n",
       "[16 rows x 96 columns]"
      ]
     },
     "execution_count": 14,
     "metadata": {},
     "output_type": "execute_result"
    }
   ],
   "source": [
    "# Creo un objeto 'agrupado'\n",
    "agrupado = chile.groupby(['sub_region_1',chile.date.dt.week])\n",
    "agrupado.mean().unstack()"
   ]
  },
  {
   "cell_type": "markdown",
   "metadata": {},
   "source": [
    "Calculo la varianza de cada semana según cada indicador"
   ]
  },
  {
   "cell_type": "code",
   "execution_count": 15,
   "metadata": {},
   "outputs": [
    {
     "data": {
      "text/plain": [
       "retail_and_recreation    1.715871\n",
       "grocery_and_pharmacy     1.908575\n",
       "parks                    2.813761\n",
       "transit_stations         2.314542\n",
       "workplaces               2.876361\n",
       "residential              1.358679\n",
       "dtype: float64"
      ]
     },
     "execution_count": 15,
     "metadata": {},
     "output_type": "execute_result"
    },
    {
     "data": {
      "text/plain": [
       "retail_and_recreation    8.285536\n",
       "grocery_and_pharmacy     7.916302\n",
       "parks                    8.922996\n",
       "transit_stations         9.262115\n",
       "workplaces               9.501539\n",
       "residential              2.799263\n",
       "dtype: float64"
      ]
     },
     "execution_count": 15,
     "metadata": {},
     "output_type": "execute_result"
    }
   ],
   "source": [
    "\n",
    "varianza = dict()\n",
    "for var in indicadores:\n",
    "    varianza[str(var)] = agrupado[var].mean().groupby(['date']).std()\n",
    "# varianza de la varianza\n",
    "pd.DataFrame.from_dict(varianza).std()\n",
    "# mediana de la varianza\n",
    "pd.DataFrame.from_dict(varianza).median()"
   ]
  },
  {
   "cell_type": "code",
   "execution_count": 26,
   "metadata": {},
   "outputs": [
    {
     "data": {
      "text/plain": [
       "sub_region_1                       date\n",
       "Arica y Parinacota                 7       -3.500000\n",
       "                                   8       -5.142857\n",
       "                                   9       -0.857143\n",
       "                                   10      10.285714\n",
       "                                   11      13.857143\n",
       "                                             ...    \n",
       "Magallanes and Chilean Antarctica  18     -53.428571\n",
       "                                   19     -42.857143\n",
       "                                   20     -33.857143\n",
       "                                   21     -37.142857\n",
       "                                   22     -28.600000\n",
       "Name: workplaces, Length: 256, dtype: float64"
      ]
     },
     "execution_count": 26,
     "metadata": {},
     "output_type": "execute_result"
    }
   ],
   "source": [
    "agrupado.workplaces.mean()"
   ]
  },
  {
   "cell_type": "code",
   "execution_count": 16,
   "metadata": {},
   "outputs": [
    {
     "data": {
      "text/plain": [
       "<matplotlib.legend.Legend at 0x7f0b22fd7da0>"
      ]
     },
     "execution_count": 16,
     "metadata": {},
     "output_type": "execute_result"
    },
    {
     "data": {
      "text/plain": [
       "Text(0.5, 0, 'Fecha')"
      ]
     },
     "execution_count": 16,
     "metadata": {},
     "output_type": "execute_result"
    },
    {
     "data": {
      "text/plain": [
       "Text(0, 0.5, 'Cambio % respecto al basal previo')"
      ]
     },
     "execution_count": 16,
     "metadata": {},
     "output_type": "execute_result"
    },
    {
     "data": {
      "text/plain": [
       "Text(0.5, 1.0, 'Movilidad ciudadana en base a servicio Google \\n y localización basada en el teléfono móvil')"
      ]
     },
     "execution_count": 16,
     "metadata": {},
     "output_type": "execute_result"
    },
    {
     "data": {
      "text/plain": [
       "([<matplotlib.axis.XTick at 0x7f0b2301bf60>,\n",
       "  <matplotlib.axis.XTick at 0x7f0b2301bf28>,\n",
       "  <matplotlib.axis.XTick at 0x7f0b22f9fa90>,\n",
       "  <matplotlib.axis.XTick at 0x7f0b22f9fc18>,\n",
       "  <matplotlib.axis.XTick at 0x7f0b1f91c390>,\n",
       "  <matplotlib.axis.XTick at 0x7f0b22f9fe48>,\n",
       "  <matplotlib.axis.XTick at 0x7f0b1f91c358>,\n",
       "  <matplotlib.axis.XTick at 0x7f0b1f91cac8>,\n",
       "  <matplotlib.axis.XTick at 0x7f0b1f91cf60>,\n",
       "  <matplotlib.axis.XTick at 0x7f0b1f923438>,\n",
       "  <matplotlib.axis.XTick at 0x7f0b2301bb70>,\n",
       "  <matplotlib.axis.XTick at 0x7f0b1f94b5f8>,\n",
       "  <matplotlib.axis.XTick at 0x7f0b1f94bf60>,\n",
       "  <matplotlib.axis.XTick at 0x7f0b1f8db470>,\n",
       "  <matplotlib.axis.XTick at 0x7f0b1f8db908>],\n",
       " [Text(0, 0, '3 feb'),\n",
       "  Text(0, 0, '10 feb'),\n",
       "  Text(0, 0, '17 feb'),\n",
       "  Text(0, 0, '24 feb'),\n",
       "  Text(0, 0, '2 mar'),\n",
       "  Text(0, 0, '9 mar'),\n",
       "  Text(0, 0, '16 mar'),\n",
       "  Text(0, 0, '23 mar'),\n",
       "  Text(0, 0, '30 mar'),\n",
       "  Text(0, 0, '6 abr'),\n",
       "  Text(0, 0, '13 abr'),\n",
       "  Text(0, 0, '20 abr'),\n",
       "  Text(0, 0, '27 abr'),\n",
       "  Text(0, 0, '4 may'),\n",
       "  Text(0, 0, '11 may')])"
      ]
     },
     "execution_count": 16,
     "metadata": {},
     "output_type": "execute_result"
    },
    {
     "data": {
      "image/png": "[encoded data removed]",
      "text/plain": [
       "<Figure size 432x288 with 1 Axes>"
      ]
     },
     "metadata": {
      "needs_background": "light"
     },
     "output_type": "display_data"
    }
   ],
   "source": [
    "# lo grafico \n",
    "colors = cm.rainbow(np.linspace(0, 1, 13))\n",
    "agrupado.workplaces.median().unstack().T.plot(color=colors).legend(bbox_to_anchor=(1, 1), title= 'Región')\n",
    "plt.xlabel('Fecha')\n",
    "plt.ylabel('Cambio % respecto al basal previo')\n",
    "plt.title('Movilidad ciudadana en base a servicio Google \\n y localización basada en el teléfono móvil')\n",
    "plt.xticks(range(7,22),\n",
    "           ['3 feb', '10 feb', '17 feb', '24 feb', '2 mar',\n",
    "            '9 mar', '16 mar', '23 mar', '30 mar', '6 abr',\n",
    "            '13 abr', '20 abr', '27 abr', '4 may', '11 may',\n",
    "            '18 may', '25 may', '1 jun'],\n",
    "           rotation='vertical')"
   ]
  },
  {
   "cell_type": "code",
   "execution_count": null,
   "metadata": {},
   "outputs": [],
   "source": []
  },
  {
   "cell_type": "code",
   "execution_count": null,
   "metadata": {},
   "outputs": [],
   "source": []
  },
  {
   "cell_type": "code",
   "execution_count": 17,
   "metadata": {},
   "outputs": [],
   "source": [
    "#graficador movilidad\n",
    "def graf_movilidad(db, variables, fecha_inicio, leyenda=None):\n",
    "    variables\n",
    "    f_fin = dt.datetime.now()\n",
    "    f_inicio = dt.datetime(2020,2,16)\n",
    "    \n",
    "    # Grafico\n",
    "    fig, ax = plt.subplots()\n",
    "    dum.plot(x='date',\n",
    "              y=variables,\n",
    "              ax=ax)\n",
    "    plt.xlabel('Fecha')\n",
    "    plt.ylabel('Cambio % respecto al basal previo')\n",
    "    plt.title('Movilidad ciudadana en base a servicio Google \\n y localización GPS del celular')\n",
    "    plt.text(f_inicio, -0,\n",
    "             'Dr E Céspedes \\nSAMU Viña del Mar',\n",
    "             fontsize=10,\n",
    "             color='gray',\n",
    "             alpha=0.5)\n",
    "    plt.legend(leyenda)"
   ]
  },
  {
   "cell_type": "code",
   "execution_count": 18,
   "metadata": {},
   "outputs": [
    {
     "name": "stdout",
     "output_type": "stream",
     "text": [
      "Valparaíso\n"
     ]
    },
    {
     "data": {
      "image/png": "[encoded data removed]",
      "text/plain": [
       "<Figure size 432x288 with 1 Axes>"
      ]
     },
     "metadata": {
      "needs_background": "light"
     },
     "output_type": "display_data"
    }
   ],
   "source": [
    "# Graficador movilidad en chile\n",
    "dum = BD.loc[\n",
    "    (BD.country_region == 'Chile') &\n",
    "     (BD.sub_region_1 == 'Valparaíso')\n",
    "            ]\n",
    "\n",
    "for region in dum.sub_region_1.unique():\n",
    "    print(region)\n",
    "graf_movilidad(dum,\n",
    "           variables = ['retail_and_recreation', 'grocery_and_pharmacy', 'parks',\t'transit_stations', 'workplaces'],\n",
    "           leyenda   = ['Retail y recreación', 'Farmacia y Supermercados', 'Plazas y parques',\t'Transporte Público', 'Lugar de trabajo'],\n",
    "           fecha_inicio=dt.datetime(2020,4,16)\n",
    "          )"
   ]
  },
  {
   "cell_type": "code",
   "execution_count": 19,
   "metadata": {},
   "outputs": [
    {
     "data": {
      "text/plain": [
       "array(['Valparaíso'], dtype=object)"
      ]
     },
     "execution_count": 19,
     "metadata": {},
     "output_type": "execute_result"
    }
   ],
   "source": [
    "dum.sub_region_1.unique()"
   ]
  },
  {
   "cell_type": "code",
   "execution_count": 20,
   "metadata": {},
   "outputs": [
    {
     "data": {
      "text/html": [
       "<div>\n",
       "<style scoped>\n",
       "    .dataframe tbody tr th:only-of-type {\n",
       "        vertical-align: middle;\n",
       "    }\n",
       "\n",
       "    .dataframe tbody tr th {\n",
       "        vertical-align: top;\n",
       "    }\n",
       "\n",
       "    .dataframe thead th {\n",
       "        text-align: right;\n",
       "    }\n",
       "</style>\n",
       "<table border=\"1\" class=\"dataframe\">\n",
       "  <thead>\n",
       "    <tr style=\"text-align: right;\">\n",
       "      <th></th>\n",
       "      <th>mean</th>\n",
       "      <th>std</th>\n",
       "    </tr>\n",
       "    <tr>\n",
       "      <th>date</th>\n",
       "      <th></th>\n",
       "      <th></th>\n",
       "    </tr>\n",
       "  </thead>\n",
       "  <tbody>\n",
       "    <tr>\n",
       "      <th>Friday</th>\n",
       "      <td>-64.777778</td>\n",
       "      <td>9.679589</td>\n",
       "    </tr>\n",
       "    <tr>\n",
       "      <th>Monday</th>\n",
       "      <td>-57.875000</td>\n",
       "      <td>2.295181</td>\n",
       "    </tr>\n",
       "    <tr>\n",
       "      <th>Saturday</th>\n",
       "      <td>-64.500000</td>\n",
       "      <td>5.631544</td>\n",
       "    </tr>\n",
       "    <tr>\n",
       "      <th>Sunday</th>\n",
       "      <td>-73.125000</td>\n",
       "      <td>3.090885</td>\n",
       "    </tr>\n",
       "    <tr>\n",
       "      <th>Thursday</th>\n",
       "      <td>-60.000000</td>\n",
       "      <td>6.363961</td>\n",
       "    </tr>\n",
       "    <tr>\n",
       "      <th>Tuesday</th>\n",
       "      <td>-58.500000</td>\n",
       "      <td>2.672612</td>\n",
       "    </tr>\n",
       "    <tr>\n",
       "      <th>Wednesday</th>\n",
       "      <td>-58.375000</td>\n",
       "      <td>2.326094</td>\n",
       "    </tr>\n",
       "  </tbody>\n",
       "</table>\n",
       "</div>"
      ],
      "text/plain": [
       "                mean       std\n",
       "date                          \n",
       "Friday    -64.777778  9.679589\n",
       "Monday    -57.875000  2.295181\n",
       "Saturday  -64.500000  5.631544\n",
       "Sunday    -73.125000  3.090885\n",
       "Thursday  -60.000000  6.363961\n",
       "Tuesday   -58.500000  2.672612\n",
       "Wednesday -58.375000  2.326094"
      ]
     },
     "execution_count": 20,
     "metadata": {},
     "output_type": "execute_result"
    }
   ],
   "source": [
    "cols = ['retail_and_recreation', 'grocery_and_pharmacy', 'parks',\t'transit_stations', 'workplaces']\n",
    "\n",
    "f_inicio = dt.datetime(2020,4,1)\n",
    "valpo = valpo.loc[valpo.date>f_inicio]\n",
    "indicadores = valpo.groupby([valpo.date.dt.day_name()])\n",
    "indicadores.retail_and_recreation.agg(['mean','std'])\n"
   ]
  },
  {
   "cell_type": "code",
   "execution_count": 21,
   "metadata": {},
   "outputs": [
    {
     "data": {
      "text/plain": [
       "24750     Thursday\n",
       "24751       Friday\n",
       "24752     Saturday\n",
       "24753       Sunday\n",
       "24754       Monday\n",
       "24755      Tuesday\n",
       "24756    Wednesday\n",
       "24757     Thursday\n",
       "24758       Friday\n",
       "24759     Saturday\n",
       "24760       Sunday\n",
       "24761       Monday\n",
       "24762      Tuesday\n",
       "24763    Wednesday\n",
       "24764     Thursday\n",
       "24765       Friday\n",
       "24766     Saturday\n",
       "24767       Sunday\n",
       "24768       Monday\n",
       "24769      Tuesday\n",
       "24770    Wednesday\n",
       "24771     Thursday\n",
       "24772       Friday\n",
       "24773     Saturday\n",
       "24774       Sunday\n",
       "24775       Monday\n",
       "24776      Tuesday\n",
       "24777    Wednesday\n",
       "24778     Thursday\n",
       "24779       Friday\n",
       "24780     Saturday\n",
       "24781       Sunday\n",
       "24782       Monday\n",
       "24783      Tuesday\n",
       "24784    Wednesday\n",
       "24785     Thursday\n",
       "24786       Friday\n",
       "24787     Saturday\n",
       "24788       Sunday\n",
       "24789       Monday\n",
       "24790      Tuesday\n",
       "24791    Wednesday\n",
       "24792     Thursday\n",
       "24793       Friday\n",
       "24794     Saturday\n",
       "24795       Sunday\n",
       "24796       Monday\n",
       "24797      Tuesday\n",
       "24798    Wednesday\n",
       "24799     Thursday\n",
       "24800       Friday\n",
       "24801     Saturday\n",
       "24802       Sunday\n",
       "24803       Monday\n",
       "24804      Tuesday\n",
       "24805    Wednesday\n",
       "24806     Thursday\n",
       "24807       Friday\n",
       "Name: date, dtype: object"
      ]
     },
     "execution_count": 21,
     "metadata": {},
     "output_type": "execute_result"
    }
   ],
   "source": [
    "valpo.date.dt.day_name()\n"
   ]
  }
 ],
 "metadata": {
  "kernelspec": {
   "display_name": "Python 3",
   "language": "python",
   "name": "python3"
  },
  "language_info": {
   "codemirror_mode": {
    "name": "ipython",
    "version": 3
   },
   "file_extension": ".py",
   "mimetype": "text/x-python",
   "name": "python",
   "nbconvert_exporter": "python",
   "pygments_lexer": "ipython3",
   "version": "3.7.3"
  }
 },
 "nbformat": 4,
 "nbformat_minor": 4
}
